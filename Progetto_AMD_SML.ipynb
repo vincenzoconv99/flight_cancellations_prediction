{
  "cells": [
    {
      "cell_type": "markdown",
      "metadata": {
        "id": "view-in-github",
        "colab_type": "text"
      },
      "source": [
        "<a href=\"https://colab.research.google.com/github/vincenzoconv99/flight_cancellations_prediction/blob/main/Progetto_AMD_SML.ipynb\" target=\"_parent\"><img src=\"https://colab.research.google.com/assets/colab-badge.svg\" alt=\"Open In Colab\"/></a>"
      ]
    },
    {
      "cell_type": "markdown",
      "metadata": {
        "id": "nqKGZALpCmog"
      },
      "source": [
        "# Setup the environment"
      ]
    },
    {
      "cell_type": "code",
      "execution_count": 1,
      "metadata": {
        "id": "dRXRNFc3CmYP"
      },
      "outputs": [],
      "source": [
        "%%capture\n",
        "!sudo apt update\n",
        "!apt-get install openjdk-8-jdk-headless -qq > /dev/null\n",
        "!wget -q https://dlcdn.apache.org/spark/spark-3.3.0/spark-3.3.0-bin-hadoop2.tgz\n",
        "!tar xf spark-3.3.0-bin-hadoop2.tgz\n",
        "!pip install -q findspark\n",
        "!pip install pyspark\n",
        "!pip install plotly\n",
        "\n",
        "import os\n",
        "import findspark\n",
        "from pyspark.sql import SparkSession\n",
        "import pyspark\n",
        "import pandas as pd\n",
        "import numpy as np \n",
        "from numpy import log,dot,exp, multiply\n",
        "from sklearn.model_selection import train_test_split\n",
        "from sklearn.metrics import f1_score\n",
        "from sklearn import linear_model\n",
        "from sklearn.datasets import make_classification\n",
        "from sklearn.preprocessing import StandardScaler\n",
        "from itertools import product\n",
        "from tqdm.notebook import tqdm_notebook as tqdm\n",
        "from pyspark.mllib.stat import Statistics\n",
        "from dateutil import parser\n",
        "import matplotlib.pyplot as plt\n",
        "from dataclasses import dataclass\n",
        "from numpy.linalg import norm\n",
        "from pyspark.mllib.classification import LogisticRegressionWithSGD\n",
        "from pyspark.mllib.regression import LabeledPoint\n",
        "import random\n",
        "import seaborn as sns\n",
        "sns.set_palette(\"muted\")"
      ]
    },
    {
      "cell_type": "code",
      "execution_count": 2,
      "metadata": {
        "id": "odwdmZpD3ioc"
      },
      "outputs": [],
      "source": [
        "os.environ[\"JAVA_HOME\"] = \"/usr/lib/jvm/java-8-openjdk-amd64\"\n",
        "os.environ[\"SPARK_HOME\"] = \"/content/spark-3.3.0-bin-hadoop2\"\n",
        "findspark.init()\n",
        "findspark.find()\n",
        "spark = SparkSession.builder.master(\"local[*]\").getOrCreate()\n",
        "sc = spark.sparkContext"
      ]
    },
    {
      "cell_type": "markdown",
      "metadata": {
        "id": "jeB3w906jF08"
      },
      "source": [
        "## Disclaimer\n",
        "\n",
        "The following experiments are fully reproducibile, but were executed in many sessions because the present Spark environment is local (there is not a cluster behind) and the code is executed on a two-core CPU (Colab doesn't provide any better). Most of the execution time is taken by rdd-caching (essential for training and evaluation) and the longer cells are marked."
      ]
    },
    {
      "cell_type": "markdown",
      "metadata": {
        "id": "VQNwMkJQLf8O"
      },
      "source": [
        "# Retrieving data\n",
        "The dataset is retrivied using Kaggle API. We will consider the following data division scheme:\n",
        "\n",
        "\n",
        "*   Training set: 2009 - 2016 files\n",
        "*   Validation set (employed when optimizing hyperparameters): 2017 file\n",
        "*   Test set (employed when evaluating model peformance): 2018 file\n",
        "\n",
        "Since we are dealing with a massive quantity of data, we assume that the data contained in each file well represent the underlying unknown data distribution *D*\n",
        "\n",
        "\n"
      ]
    },
    {
      "cell_type": "code",
      "source": [
        "#This cell is intended for uploading kaggle.json file\n",
        "from google.colab import files\n",
        "files.upload()"
      ],
      "metadata": {
        "colab": {
          "base_uri": "https://localhost:8080/",
          "height": 91,
          "resources": {
            "http://localhost:8080/nbextensions/google.colab/files.js": {
              "data": "Ly8gQ29weXJpZ2h0IDIwMTcgR29vZ2xlIExMQwovLwovLyBMaWNlbnNlZCB1bmRlciB0aGUgQXBhY2hlIExpY2Vuc2UsIFZlcnNpb24gMi4wICh0aGUgIkxpY2Vuc2UiKTsKLy8geW91IG1heSBub3QgdXNlIHRoaXMgZmlsZSBleGNlcHQgaW4gY29tcGxpYW5jZSB3aXRoIHRoZSBMaWNlbnNlLgovLyBZb3UgbWF5IG9idGFpbiBhIGNvcHkgb2YgdGhlIExpY2Vuc2UgYXQKLy8KLy8gICAgICBodHRwOi8vd3d3LmFwYWNoZS5vcmcvbGljZW5zZXMvTElDRU5TRS0yLjAKLy8KLy8gVW5sZXNzIHJlcXVpcmVkIGJ5IGFwcGxpY2FibGUgbGF3IG9yIGFncmVlZCB0byBpbiB3cml0aW5nLCBzb2Z0d2FyZQovLyBkaXN0cmlidXRlZCB1bmRlciB0aGUgTGljZW5zZSBpcyBkaXN0cmlidXRlZCBvbiBhbiAiQVMgSVMiIEJBU0lTLAovLyBXSVRIT1VUIFdBUlJBTlRJRVMgT1IgQ09ORElUSU9OUyBPRiBBTlkgS0lORCwgZWl0aGVyIGV4cHJlc3Mgb3IgaW1wbGllZC4KLy8gU2VlIHRoZSBMaWNlbnNlIGZvciB0aGUgc3BlY2lmaWMgbGFuZ3VhZ2UgZ292ZXJuaW5nIHBlcm1pc3Npb25zIGFuZAovLyBsaW1pdGF0aW9ucyB1bmRlciB0aGUgTGljZW5zZS4KCi8qKgogKiBAZmlsZW92ZXJ2aWV3IEhlbHBlcnMgZm9yIGdvb2dsZS5jb2xhYiBQeXRob24gbW9kdWxlLgogKi8KKGZ1bmN0aW9uKHNjb3BlKSB7CmZ1bmN0aW9uIHNwYW4odGV4dCwgc3R5bGVBdHRyaWJ1dGVzID0ge30pIHsKICBjb25zdCBlbGVtZW50ID0gZG9jdW1lbnQuY3JlYXRlRWxlbWVudCgnc3BhbicpOwogIGVsZW1lbnQudGV4dENvbnRlbnQgPSB0ZXh0OwogIGZvciAoY29uc3Qga2V5IG9mIE9iamVjdC5rZXlzKHN0eWxlQXR0cmlidXRlcykpIHsKICAgIGVsZW1lbnQuc3R5bGVba2V5XSA9IHN0eWxlQXR0cmlidXRlc1trZXldOwogIH0KICByZXR1cm4gZWxlbWVudDsKfQoKLy8gTWF4IG51bWJlciBvZiBieXRlcyB3aGljaCB3aWxsIGJlIHVwbG9hZGVkIGF0IGEgdGltZS4KY29uc3QgTUFYX1BBWUxPQURfU0laRSA9IDEwMCAqIDEwMjQ7CgpmdW5jdGlvbiBfdXBsb2FkRmlsZXMoaW5wdXRJZCwgb3V0cHV0SWQpIHsKICBjb25zdCBzdGVwcyA9IHVwbG9hZEZpbGVzU3RlcChpbnB1dElkLCBvdXRwdXRJZCk7CiAgY29uc3Qgb3V0cHV0RWxlbWVudCA9IGRvY3VtZW50LmdldEVsZW1lbnRCeUlkKG91dHB1dElkKTsKICAvLyBDYWNoZSBzdGVwcyBvbiB0aGUgb3V0cHV0RWxlbWVudCB0byBtYWtlIGl0IGF2YWlsYWJsZSBmb3IgdGhlIG5leHQgY2FsbAogIC8vIHRvIHVwbG9hZEZpbGVzQ29udGludWUgZnJvbSBQeXRob24uCiAgb3V0cHV0RWxlbWVudC5zdGVwcyA9IHN0ZXBzOwoKICByZXR1cm4gX3VwbG9hZEZpbGVzQ29udGludWUob3V0cHV0SWQpOwp9CgovLyBUaGlzIGlzIHJvdWdobHkgYW4gYXN5bmMgZ2VuZXJhdG9yIChub3Qgc3VwcG9ydGVkIGluIHRoZSBicm93c2VyIHlldCksCi8vIHdoZXJlIHRoZXJlIGFyZSBtdWx0aXBsZSBhc3luY2hyb25vdXMgc3RlcHMgYW5kIHRoZSBQeXRob24gc2lkZSBpcyBnb2luZwovLyB0byBwb2xsIGZvciBjb21wbGV0aW9uIG9mIGVhY2ggc3RlcC4KLy8gVGhpcyB1c2VzIGEgUHJvbWlzZSB0byBibG9jayB0aGUgcHl0aG9uIHNpZGUgb24gY29tcGxldGlvbiBvZiBlYWNoIHN0ZXAsCi8vIHRoZW4gcGFzc2VzIHRoZSByZXN1bHQgb2YgdGhlIHByZXZpb3VzIHN0ZXAgYXMgdGhlIGlucHV0IHRvIHRoZSBuZXh0IHN0ZXAuCmZ1bmN0aW9uIF91cGxvYWRGaWxlc0NvbnRpbnVlKG91dHB1dElkKSB7CiAgY29uc3Qgb3V0cHV0RWxlbWVudCA9IGRvY3VtZW50LmdldEVsZW1lbnRCeUlkKG91dHB1dElkKTsKICBjb25zdCBzdGVwcyA9IG91dHB1dEVsZW1lbnQuc3RlcHM7CgogIGNvbnN0IG5leHQgPSBzdGVwcy5uZXh0KG91dHB1dEVsZW1lbnQubGFzdFByb21pc2VWYWx1ZSk7CiAgcmV0dXJuIFByb21pc2UucmVzb2x2ZShuZXh0LnZhbHVlLnByb21pc2UpLnRoZW4oKHZhbHVlKSA9PiB7CiAgICAvLyBDYWNoZSB0aGUgbGFzdCBwcm9taXNlIHZhbHVlIHRvIG1ha2UgaXQgYXZhaWxhYmxlIHRvIHRoZSBuZXh0CiAgICAvLyBzdGVwIG9mIHRoZSBnZW5lcmF0b3IuCiAgICBvdXRwdXRFbGVtZW50Lmxhc3RQcm9taXNlVmFsdWUgPSB2YWx1ZTsKICAgIHJldHVybiBuZXh0LnZhbHVlLnJlc3BvbnNlOwogIH0pOwp9CgovKioKICogR2VuZXJhdG9yIGZ1bmN0aW9uIHdoaWNoIGlzIGNhbGxlZCBiZXR3ZWVuIGVhY2ggYXN5bmMgc3RlcCBvZiB0aGUgdXBsb2FkCiAqIHByb2Nlc3MuCiAqIEBwYXJhbSB7c3RyaW5nfSBpbnB1dElkIEVsZW1lbnQgSUQgb2YgdGhlIGlucHV0IGZpbGUgcGlja2VyIGVsZW1lbnQuCiAqIEBwYXJhbSB7c3RyaW5nfSBvdXRwdXRJZCBFbGVtZW50IElEIG9mIHRoZSBvdXRwdXQgZGlzcGxheS4KICogQHJldHVybiB7IUl0ZXJhYmxlPCFPYmplY3Q+fSBJdGVyYWJsZSBvZiBuZXh0IHN0ZXBzLgogKi8KZnVuY3Rpb24qIHVwbG9hZEZpbGVzU3RlcChpbnB1dElkLCBvdXRwdXRJZCkgewogIGNvbnN0IGlucHV0RWxlbWVudCA9IGRvY3VtZW50LmdldEVsZW1lbnRCeUlkKGlucHV0SWQpOwogIGlucHV0RWxlbWVudC5kaXNhYmxlZCA9IGZhbHNlOwoKICBjb25zdCBvdXRwdXRFbGVtZW50ID0gZG9jdW1lbnQuZ2V0RWxlbWVudEJ5SWQob3V0cHV0SWQpOwogIG91dHB1dEVsZW1lbnQuaW5uZXJIVE1MID0gJyc7CgogIGNvbnN0IHBpY2tlZFByb21pc2UgPSBuZXcgUHJvbWlzZSgocmVzb2x2ZSkgPT4gewogICAgaW5wdXRFbGVtZW50LmFkZEV2ZW50TGlzdGVuZXIoJ2NoYW5nZScsIChlKSA9PiB7CiAgICAgIHJlc29sdmUoZS50YXJnZXQuZmlsZXMpOwogICAgfSk7CiAgfSk7CgogIGNvbnN0IGNhbmNlbCA9IGRvY3VtZW50LmNyZWF0ZUVsZW1lbnQoJ2J1dHRvbicpOwogIGlucHV0RWxlbWVudC5wYXJlbnRFbGVtZW50LmFwcGVuZENoaWxkKGNhbmNlbCk7CiAgY2FuY2VsLnRleHRDb250ZW50ID0gJ0NhbmNlbCB1cGxvYWQnOwogIGNvbnN0IGNhbmNlbFByb21pc2UgPSBuZXcgUHJvbWlzZSgocmVzb2x2ZSkgPT4gewogICAgY2FuY2VsLm9uY2xpY2sgPSAoKSA9PiB7CiAgICAgIHJlc29sdmUobnVsbCk7CiAgICB9OwogIH0pOwoKICAvLyBXYWl0IGZvciB0aGUgdXNlciB0byBwaWNrIHRoZSBmaWxlcy4KICBjb25zdCBmaWxlcyA9IHlpZWxkIHsKICAgIHByb21pc2U6IFByb21pc2UucmFjZShbcGlja2VkUHJvbWlzZSwgY2FuY2VsUHJvbWlzZV0pLAogICAgcmVzcG9uc2U6IHsKICAgICAgYWN0aW9uOiAnc3RhcnRpbmcnLAogICAgfQogIH07CgogIGNhbmNlbC5yZW1vdmUoKTsKCiAgLy8gRGlzYWJsZSB0aGUgaW5wdXQgZWxlbWVudCBzaW5jZSBmdXJ0aGVyIHBpY2tzIGFyZSBub3QgYWxsb3dlZC4KICBpbnB1dEVsZW1lbnQuZGlzYWJsZWQgPSB0cnVlOwoKICBpZiAoIWZpbGVzKSB7CiAgICByZXR1cm4gewogICAgICByZXNwb25zZTogewogICAgICAgIGFjdGlvbjogJ2NvbXBsZXRlJywKICAgICAgfQogICAgfTsKICB9CgogIGZvciAoY29uc3QgZmlsZSBvZiBmaWxlcykgewogICAgY29uc3QgbGkgPSBkb2N1bWVudC5jcmVhdGVFbGVtZW50KCdsaScpOwogICAgbGkuYXBwZW5kKHNwYW4oZmlsZS5uYW1lLCB7Zm9udFdlaWdodDogJ2JvbGQnfSkpOwogICAgbGkuYXBwZW5kKHNwYW4oCiAgICAgICAgYCgke2ZpbGUudHlwZSB8fCAnbi9hJ30pIC0gJHtmaWxlLnNpemV9IGJ5dGVzLCBgICsKICAgICAgICBgbGFzdCBtb2RpZmllZDogJHsKICAgICAgICAgICAgZmlsZS5sYXN0TW9kaWZpZWREYXRlID8gZmlsZS5sYXN0TW9kaWZpZWREYXRlLnRvTG9jYWxlRGF0ZVN0cmluZygpIDoKICAgICAgICAgICAgICAgICAgICAgICAgICAgICAgICAgICAgJ24vYSd9IC0gYCkpOwogICAgY29uc3QgcGVyY2VudCA9IHNwYW4oJzAlIGRvbmUnKTsKICAgIGxpLmFwcGVuZENoaWxkKHBlcmNlbnQpOwoKICAgIG91dHB1dEVsZW1lbnQuYXBwZW5kQ2hpbGQobGkpOwoKICAgIGNvbnN0IGZpbGVEYXRhUHJvbWlzZSA9IG5ldyBQcm9taXNlKChyZXNvbHZlKSA9PiB7CiAgICAgIGNvbnN0IHJlYWRlciA9IG5ldyBGaWxlUmVhZGVyKCk7CiAgICAgIHJlYWRlci5vbmxvYWQgPSAoZSkgPT4gewogICAgICAgIHJlc29sdmUoZS50YXJnZXQucmVzdWx0KTsKICAgICAgfTsKICAgICAgcmVhZGVyLnJlYWRBc0FycmF5QnVmZmVyKGZpbGUpOwogICAgfSk7CiAgICAvLyBXYWl0IGZvciB0aGUgZGF0YSB0byBiZSByZWFkeS4KICAgIGxldCBmaWxlRGF0YSA9IHlpZWxkIHsKICAgICAgcHJvbWlzZTogZmlsZURhdGFQcm9taXNlLAogICAgICByZXNwb25zZTogewogICAgICAgIGFjdGlvbjogJ2NvbnRpbnVlJywKICAgICAgfQogICAgfTsKCiAgICAvLyBVc2UgYSBjaHVua2VkIHNlbmRpbmcgdG8gYXZvaWQgbWVzc2FnZSBzaXplIGxpbWl0cy4gU2VlIGIvNjIxMTU2NjAuCiAgICBsZXQgcG9zaXRpb24gPSAwOwogICAgZG8gewogICAgICBjb25zdCBsZW5ndGggPSBNYXRoLm1pbihmaWxlRGF0YS5ieXRlTGVuZ3RoIC0gcG9zaXRpb24sIE1BWF9QQVlMT0FEX1NJWkUpOwogICAgICBjb25zdCBjaHVuayA9IG5ldyBVaW50OEFycmF5KGZpbGVEYXRhLCBwb3NpdGlvbiwgbGVuZ3RoKTsKICAgICAgcG9zaXRpb24gKz0gbGVuZ3RoOwoKICAgICAgY29uc3QgYmFzZTY0ID0gYnRvYShTdHJpbmcuZnJvbUNoYXJDb2RlLmFwcGx5KG51bGwsIGNodW5rKSk7CiAgICAgIHlpZWxkIHsKICAgICAgICByZXNwb25zZTogewogICAgICAgICAgYWN0aW9uOiAnYXBwZW5kJywKICAgICAgICAgIGZpbGU6IGZpbGUubmFtZSwKICAgICAgICAgIGRhdGE6IGJhc2U2NCwKICAgICAgICB9LAogICAgICB9OwoKICAgICAgbGV0IHBlcmNlbnREb25lID0gZmlsZURhdGEuYnl0ZUxlbmd0aCA9PT0gMCA/CiAgICAgICAgICAxMDAgOgogICAgICAgICAgTWF0aC5yb3VuZCgocG9zaXRpb24gLyBmaWxlRGF0YS5ieXRlTGVuZ3RoKSAqIDEwMCk7CiAgICAgIHBlcmNlbnQudGV4dENvbnRlbnQgPSBgJHtwZXJjZW50RG9uZX0lIGRvbmVgOwoKICAgIH0gd2hpbGUgKHBvc2l0aW9uIDwgZmlsZURhdGEuYnl0ZUxlbmd0aCk7CiAgfQoKICAvLyBBbGwgZG9uZS4KICB5aWVsZCB7CiAgICByZXNwb25zZTogewogICAgICBhY3Rpb246ICdjb21wbGV0ZScsCiAgICB9CiAgfTsKfQoKc2NvcGUuZ29vZ2xlID0gc2NvcGUuZ29vZ2xlIHx8IHt9OwpzY29wZS5nb29nbGUuY29sYWIgPSBzY29wZS5nb29nbGUuY29sYWIgfHwge307CnNjb3BlLmdvb2dsZS5jb2xhYi5fZmlsZXMgPSB7CiAgX3VwbG9hZEZpbGVzLAogIF91cGxvYWRGaWxlc0NvbnRpbnVlLAp9Owp9KShzZWxmKTsK",
              "ok": true,
              "headers": [
                [
                  "content-type",
                  "application/javascript"
                ]
              ],
              "status": 200,
              "status_text": ""
            }
          }
        },
        "id": "IhkJZi_6V4oH",
        "outputId": "f2a82a9d-4ff9-4e75-e8c2-f2925c30b506"
      },
      "execution_count": 3,
      "outputs": [
        {
          "output_type": "display_data",
          "data": {
            "text/plain": [
              "<IPython.core.display.HTML object>"
            ],
            "text/html": [
              "\n",
              "     <input type=\"file\" id=\"files-a8556bca-f7e6-42fc-9184-23a64d5088f4\" name=\"files[]\" multiple disabled\n",
              "        style=\"border:none\" />\n",
              "     <output id=\"result-a8556bca-f7e6-42fc-9184-23a64d5088f4\">\n",
              "      Upload widget is only available when the cell has been executed in the\n",
              "      current browser session. Please rerun this cell to enable.\n",
              "      </output>\n",
              "      <script src=\"/nbextensions/google.colab/files.js\"></script> "
            ]
          },
          "metadata": {}
        },
        {
          "output_type": "stream",
          "name": "stdout",
          "text": [
            "Saving kaggle.json to kaggle.json\n"
          ]
        },
        {
          "output_type": "execute_result",
          "data": {
            "text/plain": [
              "{'kaggle.json': b'{\"username\":\"vincenzoconversano\",\"key\":\"c33d96db3f1ca0f7db1328093b2d0e1d\"}'}"
            ]
          },
          "metadata": {},
          "execution_count": 3
        }
      ]
    },
    {
      "cell_type": "code",
      "execution_count": 4,
      "metadata": {
        "id": "-xScaME8MqeN"
      },
      "outputs": [],
      "source": [
        "#Ensuring kaggle.json is in the location ~/.kaggle/kaggle.json to use the API.\n",
        "!mkdir -p ~/.kaggle/ && mkdir ./dataset/ \n",
        "!mv kaggle.json ~/.kaggle/ \n",
        "!chmod 600 ~/.kaggle/kaggle.json"
      ]
    },
    {
      "cell_type": "code",
      "execution_count": 5,
      "metadata": {
        "id": "7Wn5_lAPLew0"
      },
      "outputs": [],
      "source": [
        "%%capture\n",
        "%cd ./dataset\n",
        "!kaggle datasets download yuanyuwendymu/airline-delay-and-cancellation-data-2009-2018\n",
        "!unzip \\*.zip  && rm *.zip"
      ]
    },
    {
      "cell_type": "code",
      "execution_count": 14,
      "metadata": {
        "id": "K1Te-LWVS1Vt"
      },
      "outputs": [],
      "source": [
        "train2009 = sc.textFile('./dataset/2009.csv')\n",
        "train2010 = sc.textFile('./dataset/2010.csv')\n",
        "train2011 = sc.textFile('./dataset/2011.csv')\n",
        "train2012 = sc.textFile('./dataset/2012.csv')\n",
        "train2013 = sc.textFile('./dataset/2013.csv')\n",
        "train2014 = sc.textFile('./dataset/2014.csv')\n",
        "train2015 = sc.textFile('./dataset/2015.csv')\n",
        "train2016 = sc.textFile('./dataset/2016.csv')\n",
        "val_rdd = sc.textFile('./dataset/2017.csv')\n",
        "test_rdd = sc.textFile('./dataset/2018.csv')"
      ]
    },
    {
      "cell_type": "code",
      "execution_count": 15,
      "metadata": {
        "id": "YywNcwB-UZ9s"
      },
      "outputs": [],
      "source": [
        "train_rdd = train2009.union(train2010).\\\n",
        "                      union(train2011).\\\n",
        "                      union(train2012).\\\n",
        "                      union(train2013).\\\n",
        "                      union(train2014).\\\n",
        "                      union(train2015).\\\n",
        "                      union(train2016)\n",
        "                      \n",
        "complete_rdd = train_rdd.union(val_rdd).union(test_rdd)\n",
        "\n",
        "# Removing header of the csv files\n",
        "header = 'FL_DATE,OP_CARRIER,OP_CARRIER_FL_NUM,ORIGIN,DEST,CRS_DEP_TIME,DEP_TIME,DEP_DELAY,TAXI_OUT,WHEELS_OFF,WHEELS_ON,TAXI_IN,CRS_ARR_TIME,ARR_TIME,ARR_DELAY,CANCELLED,CANCELLATION_CODE,DIVERTED,CRS_ELAPSED_TIME,ACTUAL_ELAPSED_TIME,AIR_TIME,DISTANCE,CARRIER_DELAY,WEATHER_DELAY,NAS_DELAY,SECURITY_DELAY,LATE_AIRCRAFT_DELAY,Unnamed: 27'\n",
        "train_rdd = train_rdd.filter(lambda x: x != header)\n",
        "val_rdd = val_rdd.filter(lambda x: x != header)\n",
        "test_rdd = test_rdd.filter(lambda x: x != header)\n",
        "complete_rdd = complete_rdd.filter(lambda x: x != header)"
      ]
    },
    {
      "cell_type": "markdown",
      "metadata": {
        "id": "xs4UYUad64lV"
      },
      "source": [
        "# Data Preprocessing"
      ]
    },
    {
      "cell_type": "markdown",
      "metadata": {
        "id": "LKBf3Gd-4-Y2"
      },
      "source": [
        "### Feature Engineering (the execution of this section can be skipped)\n",
        "Let's see what are the distinct values that the categorical features OP_CARRIER, ORGIN and DEST can take, in order to create the one hot encoding dictionaries"
      ]
    },
    {
      "cell_type": "code",
      "execution_count": null,
      "metadata": {
        "colab": {
          "base_uri": "https://localhost:8080/"
        },
        "id": "GI8sIFY348qs",
        "outputId": "fecbc3d3-5112-4713-8253-0d129ea40330"
      },
      "outputs": [
        {
          "name": "stdout",
          "output_type": "stream",
          "text": [
            "Distinct values for OP_CARRIER  {'AS', '9E', 'UA', 'WN', 'XE', 'B6', 'F9', 'EV', 'DL', 'YV', 'FL', 'CO', 'AA', 'VX', 'NK', 'OH', 'MQ', 'OO', 'HA', 'NW', 'US'}\n"
          ]
        }
      ],
      "source": [
        "def get_op_carrier(x):\n",
        "  row = x.split(',')\n",
        "  row = [-1 if attribute_value=='' else attribute_value for attribute_value in row]\n",
        "  return row[1] #According to the HEADER the 1-st feature is OP_CARRIER\n",
        "\n",
        "distinct_op_carriers = set(train_rdd.map(lambda x: get_op_carrier(x) ).distinct().collect())\n",
        "\n",
        "print('Distinct values for OP_CARRIER ', distinct_op_carriers)"
      ]
    },
    {
      "cell_type": "code",
      "execution_count": null,
      "metadata": {
        "colab": {
          "base_uri": "https://localhost:8080/"
        },
        "collapsed": true,
        "id": "QFM_tRdzIUQW",
        "outputId": "771cf9e3-79de-4fea-ba18-4ef11e1bbb53"
      },
      "outputs": [
        {
          "name": "stdout",
          "output_type": "stream",
          "text": [
            "Distinct values for ORIGIN  {'GRB', 'CLL', 'BFL', 'SRQ', 'OXR', 'SCE', 'ORD', 'CAK', 'ACT', 'SAV', 'ROC', 'JAN', 'KTN', 'IAH', 'PHF', 'LGA', 'HOB', 'ESC', 'MBS', 'OTH', 'LBE', 'ABQ', 'AVP', 'TVC', 'PIT', 'OKC', 'GSP', 'UST', 'MCN', 'ANC', 'MCO', 'ACV', 'AVL', 'TRI', 'ORH', 'RSW', 'SYR', 'SIT', 'GRK', 'STL', 'MSP', 'SMX', 'MOD', 'CNY', 'CVG', 'TEX', 'HNL', 'BZN', 'ABR', 'LMT', 'MRY', 'DFW', 'GSO', 'BFF', 'PIR', 'LAX', 'GST', 'BQN', 'VPS', 'GGG', 'MDW', 'CMI', 'DSM', 'JAX', 'MSN', 'INL', 'HPN', 'CID', 'RDU', 'GFK', 'ECP', 'SGF', 'IYK', 'UTM', 'CWA', 'SBA', 'IND', 'HDN', 'SHD', 'AGS', 'BET', 'ITO', 'GRI', 'LIH', 'EWN', 'BIL', 'CHO', 'SHV', 'AZA', 'RDD', 'SUN', 'ADK', 'CMX', 'BUR', 'DEN', 'WRG', 'MHT', 'CHS', 'TYR', 'SMF', 'CLT', 'SBP', 'SWF', 'HRL', 'PLN', 'BRO', 'ABI', 'TWF', 'CLE', 'DRO', 'GEG', 'SAN', 'HIB', 'TPA', 'BGM', 'DAB', 'BTM', 'DIK', 'PNS', 'IAD', 'MOB', 'PSC', 'MVY', 'BPT', 'FAT', 'MQT', 'XNA', 'STC', 'GTR', 'SDF', 'EGE', 'EAU', 'SLC', 'DRT', 'WYS', 'ATW', 'FOE', 'RKS', 'CIC', 'DCA', 'EYW', 'BHM', 'FAY', 'YAK', 'IMT', 'EVV', 'EWR', 'STX', 'PHX', 'ILG', 'PSG', 'PIB', 'LYH', 'HYA', 'PGD', 'BMI', 'FCA', 'KOA', 'PBI', 'FNT', 'DTW', 'PBG', 'ADQ', 'LAW', 'PVD', 'LFT', 'ROA', 'DAL', 'PFN', 'RNO', 'ART', 'ASE', 'ACY', 'FSM', 'OAJ', 'SPS', 'DBQ', 'ALO', 'FWA', 'BTR', 'RIC', 'EUG', 'PSE', 'ATL', 'ISN', 'BKG', 'TUP', 'DVL', 'AKN', 'LAR', 'HYS', 'BLI', 'MTJ', 'FLL', 'BNA', 'FAR', 'CYS', 'GTF', 'ENV', 'ORF', 'PUB', 'CSG', 'MFE', 'MEM', 'GUM', 'MLB', 'MDT', 'IDA', 'HTS', 'SGU', 'MWH', 'PPG', 'LNK', 'JMS', 'OMA', 'AZO', 'DHN', 'BOS', 'DLH', 'MKE', 'TLH', 'IAG', 'SCC', 'BWI', 'CRP', 'PSP', 'HOU', 'LWB', 'FAI', 'ELM', 'DLG', 'RDM', 'GUC', 'MYR', 'PIH', 'BOI', 'CHA', 'MHK', 'MGM', 'ISP', 'OTZ', 'LCH', 'SUX', 'GJT', 'BTV', 'VLD', 'MEI', 'GPT', 'LSE', 'CPR', 'VEL', 'CLD', 'SJU', 'FLO', 'YUM', 'APN', 'MKG', 'COD', 'OAK', 'EFD', 'SEA', 'BRD', 'PWM', 'COS', 'MSO', 'CMH', 'TTN', 'ROW', 'AUS', 'PHL', 'BIS', 'HSV', 'ONT', 'SAT', 'SBN', 'JFK', 'LIT', 'LAS', 'LBB', 'BRW', 'TUL', 'SPI', 'IPL', 'LAN', 'RST', 'MCI', 'JLN', 'EKO', 'OGG', 'CDV', 'FLG', 'SPN', 'CDC', 'GCC', 'TXK', 'PAH', 'MMH', 'ABY', 'ERI', 'RHI', 'CAE', 'LRD', 'MLI', 'LEX', 'GCK', 'STT', 'AMA', 'PDX', 'ITH', 'ELP', 'BQK', 'LGB', 'GNV', 'BUF', 'MFR', 'AEX', 'JAC', 'SFO', 'MAF', 'ILM', 'OME', 'BJI', 'ALB', 'MIA', 'BDL', 'GRR', 'TYS', 'SAF', 'DAY', 'ICT', 'RFD', 'COU', 'MSY', 'RAP', 'PIA', 'TUS', 'CEC', 'PIE', 'FSD', 'TOL', 'ABE', 'CRW', 'SNA', 'LWS', 'HLN', 'JNU', 'MLU', 'ACK', 'CIU', 'MOT', 'SJT', 'SJC', 'BGR'}\n",
            "Distinct values for DEST  {'GRB', 'CLL', 'BFL', 'SRQ', 'OXR', 'SCE', 'ORD', 'CAK', 'ACT', 'SAV', 'ROC', 'JAN', 'KTN', 'IAH', 'PHF', 'LGA', 'HOB', 'ESC', 'MBS', 'OTH', 'LBE', 'ABQ', 'AVP', 'TVC', 'PIT', 'OKC', 'GSP', 'UST', 'ANC', 'MCO', 'ACV', 'AVL', 'TRI', 'ORH', 'RSW', 'SYR', 'SIT', 'GRK', 'STL', 'MSP', 'SMX', 'MOD', 'CNY', 'CVG', 'TEX', 'HNL', 'BZN', 'ABR', 'LMT', 'MRY', 'DFW', 'GSO', 'BFF', 'PIR', 'LAX', 'GST', 'BQN', 'VPS', 'GGG', 'MDW', 'CMI', 'DSM', 'JAX', 'MSN', 'INL', 'HPN', 'CID', 'RDU', 'GFK', 'ECP', 'SGF', 'IYK', 'UTM', 'CWA', 'SBA', 'IND', 'HDN', 'SHD', 'AGS', 'BET', 'ITO', 'GRI', 'LIH', 'EWN', 'BIL', 'CHO', 'SHV', 'AZA', 'RDD', 'SUN', 'ADK', 'CMX', 'BUR', 'DEN', 'WRG', 'MHT', 'CHS', 'TYR', 'SMF', 'CLT', 'SBP', 'SWF', 'HRL', 'PLN', 'BRO', 'ABI', 'TWF', 'CLE', 'DRO', 'GEG', 'SAN', 'HIB', 'TPA', 'BGM', 'DAB', 'BTM', 'DIK', 'PNS', 'IAD', 'MOB', 'PSC', 'MVY', 'BPT', 'FAT', 'MQT', 'XNA', 'STC', 'GTR', 'SDF', 'EGE', 'EAU', 'SLC', 'DRT', 'WYS', 'ATW', 'FOE', 'RKS', 'CIC', 'DCA', 'EYW', 'BHM', 'FAY', 'YAK', 'IMT', 'EVV', 'EWR', 'STX', 'PHX', 'ILG', 'PSG', 'PIB', 'LYH', 'HYA', 'PGD', 'BMI', 'FCA', 'KOA', 'PBI', 'FNT', 'DTW', 'PBG', 'ADQ', 'LAW', 'PVD', 'LFT', 'ROA', 'DAL', 'PFN', 'RNO', 'ART', 'ASE', 'ACY', 'FSM', 'OAJ', 'SPS', 'DBQ', 'ALO', 'FWA', 'BTR', 'RIC', 'EUG', 'PSE', 'ATL', 'ISN', 'BKG', 'TUP', 'DVL', 'AKN', 'LAR', 'HYS', 'BLI', 'MTJ', 'FLL', 'BNA', 'FAR', 'CYS', 'GTF', 'ORF', 'PUB', 'CSG', 'MFE', 'MEM', 'GUM', 'MLB', 'MDT', 'IDA', 'HTS', 'SGU', 'MWH', 'PPG', 'LNK', 'JMS', 'OMA', 'AZO', 'DHN', 'BOS', 'DLH', 'MKE', 'TLH', 'IAG', 'SCC', 'BWI', 'CRP', 'PSP', 'HOU', 'LWB', 'FAI', 'ELM', 'DLG', 'RDM', 'GUC', 'MYR', 'PIH', 'BOI', 'CHA', 'MHK', 'MGM', 'ISP', 'OTZ', 'LCH', 'SUX', 'GJT', 'BTV', 'VLD', 'MEI', 'GPT', 'LSE', 'CPR', 'VEL', 'CLD', 'SJU', 'FLO', 'YUM', 'APN', 'MKG', 'COD', 'OAK', 'EFD', 'SEA', 'BRD', 'PWM', 'COS', 'MSO', 'CMH', 'TTN', 'ROW', 'AUS', 'PHL', 'BIS', 'HSV', 'ONT', 'SAT', 'SBN', 'JFK', 'LIT', 'LAS', 'LBB', 'BRW', 'TUL', 'SPI', 'IPL', 'LAN', 'RST', 'MCI', 'JLN', 'EKO', 'OGG', 'CDV', 'FLG', 'SPN', 'CDC', 'GCC', 'TXK', 'PAH', 'MMH', 'ABY', 'ERI', 'RHI', 'CAE', 'LRD', 'MLI', 'LEX', 'GCK', 'STT', 'AMA', 'PDX', 'ITH', 'ELP', 'BQK', 'LGB', 'GNV', 'BUF', 'MFR', 'AEX', 'JAC', 'SFO', 'MAF', 'ILM', 'OME', 'BJI', 'ALB', 'MIA', 'BDL', 'GRR', 'TYS', 'SAF', 'DAY', 'ICT', 'RFD', 'COU', 'MSY', 'RAP', 'PIA', 'TUS', 'CEC', 'PIE', 'FSD', 'TOL', 'ABE', 'CRW', 'SNA', 'LWS', 'HLN', 'JNU', 'MLU', 'ACK', 'CIU', 'MOT', 'SJT', 'SJC', 'BGR'}\n"
          ]
        }
      ],
      "source": [
        "def get_origin_dest(x):\n",
        "  row = x.split(',')\n",
        "  row = [-1 if attribute_value=='' else attribute_value for attribute_value in row]\n",
        "  return row[3], row[4] #According to the HEADER the 3-rd feature is ORIGIN while the 4-th is DEST\n",
        "\n",
        "distinct_origins = set(train_rdd.map(lambda x: get_origin_dest(x)[0] ).distinct().collect())\n",
        "distinct_dests = set(train_rdd.map(lambda x: get_origin_dest(x)[1] ).distinct().collect())\n",
        "\n",
        "print('Distinct values for ORIGIN ', distinct_origins)\n",
        "print('Distinct values for DEST ', distinct_dests)"
      ]
    },
    {
      "cell_type": "markdown",
      "metadata": {
        "id": "IodVI8f-WY2Q"
      },
      "source": [
        "We want to create two new features about the history of ORIGIN airport to help the models"
      ]
    },
    {
      "cell_type": "code",
      "execution_count": null,
      "metadata": {
        "id": "uvUB5mfZXI3F"
      },
      "outputs": [],
      "source": [
        "def get_delays_and_origin(x):\n",
        "  row = x.split(',')\n",
        "  row = [-1 if attribute_value=='' else attribute_value for attribute_value in row]\n",
        "  ORIGIN = row[3]\n",
        "  CARRIER_DELAY = float(row[22])\n",
        "  WEATHER_DELAY = float(row[23])\n",
        "  NAS_DELAY = float(row[24])\n",
        "  SECURITY_DELAY =  float(row[25])\n",
        "  LATE_AIRCRAFT_DELAY =  float(row[26])\n",
        "  return (ORIGIN, np.array([CARRIER_DELAY, WEATHER_DELAY, NAS_DELAY, SECURITY_DELAY, LATE_AIRCRAFT_DELAY]))\n",
        "\n",
        "delays_rdd = train_rdd.map(lambda x: get_delays_and_origin(x)).\\\n",
        "                      filter(lambda x: -1 not in x[1])\n",
        "\n",
        "sum_delays_rdd = delays_rdd.map(lambda x: (x[0], np.array([ 1, np.sum(x[1])] ))) #pair rdd containing the sum of delays for a flight and the orgin id\n",
        "\n",
        "avg_delay_per_orgin = sum_delays_rdd.reduceByKey(lambda x,y: x+y).\\\n",
        "                                      map(lambda x: (x[0], x[1][1]/x[1][0] ) )"
      ]
    },
    {
      "cell_type": "code",
      "execution_count": null,
      "metadata": {
        "colab": {
          "base_uri": "https://localhost:8080/"
        },
        "collapsed": true,
        "id": "GefjH4hCdyXs",
        "outputId": "705171ac-45cd-4920-afba-c14451c21f67"
      },
      "outputs": [
        {
          "data": {
            "text/plain": [
              "{'ABE': 68.1733300828864,\n",
              " 'ABI': 69.20090463626083,\n",
              " 'ABQ': 53.27665023545287,\n",
              " 'ABR': 67.68280871670702,\n",
              " 'ABY': 66.46433666191156,\n",
              " 'ACK': 78.02377622377622,\n",
              " 'ACT': 68.26621621621622,\n",
              " 'ACV': 77.03177004538578,\n",
              " 'ACY': 67.13809990205681,\n",
              " 'ADK': 44.458333333333336,\n",
              " 'ADQ': 58.45333333333333,\n",
              " 'AEX': 71.41340782122904,\n",
              " 'AGS': 62.714097496706195,\n",
              " 'AKN': 36.33057851239669,\n",
              " 'ALB': 59.15774068507238,\n",
              " 'ALO': 68.73055028462998,\n",
              " 'AMA': 61.06558913094401,\n",
              " 'ANC': 47.58513859771721,\n",
              " 'APN': 79.68987341772151,\n",
              " 'ART': 89.4949494949495,\n",
              " 'ASE': 67.09147471538257,\n",
              " 'ATL': 54.886622331116556,\n",
              " 'ATW': 63.51198791768926,\n",
              " 'AUS': 56.20052522313111,\n",
              " 'AVL': 64.93568406205924,\n",
              " 'AVP': 68.8801652892562,\n",
              " 'AZA': 28.916666666666668,\n",
              " 'AZO': 65.44927536231884,\n",
              " 'BDL': 56.392331233123315,\n",
              " 'BET': 49.14747859181732,\n",
              " 'BFL': 66.21324636226794,\n",
              " 'BGM': 72.3558648111332,\n",
              " 'BGR': 67.5063202247191,\n",
              " 'BHM': 60.416046531519974,\n",
              " 'BIL': 58.512142857142855,\n",
              " 'BIS': 63.39935674082015,\n",
              " 'BJI': 78.23219814241486,\n",
              " 'BKG': 54.087892376681616,\n",
              " 'BLI': 58.86495726495726,\n",
              " 'BMI': 63.744997871434656,\n",
              " 'BNA': 55.583976727344144,\n",
              " 'BOI': 59.87196692422394,\n",
              " 'BOS': 57.48044184989688,\n",
              " 'BPT': 74.99885974914481,\n",
              " 'BQK': 62.79221594475832,\n",
              " 'BQN': 56.62869607367911,\n",
              " 'BRD': 62.95948827292111,\n",
              " 'BRO': 70.43713507201245,\n",
              " 'BRW': 49.29903774981495,\n",
              " 'BTM': 67.23140495867769,\n",
              " 'BTR': 69.51550151975684,\n",
              " 'BTV': 68.5280582896587,\n",
              " 'BUF': 62.13872014358691,\n",
              " 'BUR': 51.50685140654223,\n",
              " 'BWI': 53.93481081798814,\n",
              " 'BZN': 62.521043968963085,\n",
              " 'CAE': 68.79725293711127,\n",
              " 'CAK': 61.76523197316937,\n",
              " 'CDC': 51.054794520547944,\n",
              " 'CDV': 56.080473372781064,\n",
              " 'CEC': 80.00826848249027,\n",
              " 'CHA': 64.08661752197335,\n",
              " 'CHO': 76.66317016317016,\n",
              " 'CHS': 63.78693901893544,\n",
              " 'CIC': 73.31991174848318,\n",
              " 'CID': 64.82948730327315,\n",
              " 'CIU': 86.3622754491018,\n",
              " 'CLD': 49.711671612265086,\n",
              " 'CLE': 60.431523235236284,\n",
              " 'CLL': 68.63866967305525,\n",
              " 'CLT': 51.43374859604109,\n",
              " 'CMH': 62.117687578130976,\n",
              " 'CMI': 74.36312056737589,\n",
              " 'CMX': 85.60912052117264,\n",
              " 'CNY': 42.94117647058823,\n",
              " 'COD': 56.8106884057971,\n",
              " 'COS': 63.841156209900724,\n",
              " 'COU': 69.93628318584071,\n",
              " 'CPR': 57.3358962037482,\n",
              " 'CRP': 62.4824392126592,\n",
              " 'CRW': 67.70585233072474,\n",
              " 'CSG': 63.94585448392555,\n",
              " 'CVG': 60.7903341166854,\n",
              " 'CWA': 68.5723381676689,\n",
              " 'CYS': 71.1625,\n",
              " 'DAB': 65.74743892829,\n",
              " 'DAL': 48.91106548134785,\n",
              " 'DAY': 64.11530003141691,\n",
              " 'DBQ': 75.70386266094421,\n",
              " 'DCA': 59.84354805282891,\n",
              " 'DEN': 53.00976258466233,\n",
              " 'DFW': 53.937151195479295,\n",
              " 'DHN': 67.49769159741459,\n",
              " 'DIK': 72.47480916030534,\n",
              " 'DLG': 48.276119402985074,\n",
              " 'DLH': 66.7912013536379,\n",
              " 'DRO': 62.941247363663756,\n",
              " 'DRT': 65.32558139534883,\n",
              " 'DSM': 63.139514978601994,\n",
              " 'DTW': 56.32944485282368,\n",
              " 'DVL': 78.9950495049505,\n",
              " 'EAU': 74.04043715846994,\n",
              " 'ECP': 63.31477184841454,\n",
              " 'EFD': 56.0,\n",
              " 'EGE': 80.23033481242436,\n",
              " 'EKO': 54.0113475177305,\n",
              " 'ELM': 66.32570806100217,\n",
              " 'ELP': 55.79699951030584,\n",
              " 'ERI': 62.35311004784689,\n",
              " 'ESC': 106.47685185185185,\n",
              " 'EUG': 68.58314385326663,\n",
              " 'EVV': 66.86500655307995,\n",
              " 'EWN': 67.72879858657244,\n",
              " 'EWR': 62.435569945806925,\n",
              " 'EYW': 63.047122441096946,\n",
              " 'FAI': 52.97650553605185,\n",
              " 'FAR': 65.14314274290284,\n",
              " 'FAT': 63.4983653453208,\n",
              " 'FAY': 67.25355726615349,\n",
              " 'FCA': 56.11001164144354,\n",
              " 'FLG': 59.043563068920676,\n",
              " 'FLL': 59.02989849955869,\n",
              " 'FLO': 54.3304347826087,\n",
              " 'FNT': 59.7025293255132,\n",
              " 'FOE': 81.52845528455285,\n",
              " 'FSD': 67.56977787749608,\n",
              " 'FSM': 66.53367158671587,\n",
              " 'FWA': 68.15710109247577,\n",
              " 'GCC': 62.15542521994135,\n",
              " 'GCK': 88.08108108108108,\n",
              " 'GEG': 53.67088607594937,\n",
              " 'GFK': 62.44899425287356,\n",
              " 'GGG': 64.60225846925972,\n",
              " 'GJT': 60.39482489404417,\n",
              " 'GNV': 65.3421990026122,\n",
              " 'GPT': 63.54054054054054,\n",
              " 'GRB': 64.86086578833068,\n",
              " 'GRI': 68.00366300366301,\n",
              " 'GRK': 68.88064516129032,\n",
              " 'GRR': 63.353437213565535,\n",
              " 'GSO': 67.78864654476023,\n",
              " 'GSP': 63.31671508204444,\n",
              " 'GST': 40.73103448275862,\n",
              " 'GTF': 62.0,\n",
              " 'GTR': 67.08345534407027,\n",
              " 'GUC': 74.03219315895372,\n",
              " 'GUM': 56.04575163398693,\n",
              " 'HDN': 66.12539582013933,\n",
              " 'HIB': 79.72388059701493,\n",
              " 'HLN': 53.66050420168067,\n",
              " 'HNL': 51.58872034779321,\n",
              " 'HOB': 85.46341463414635,\n",
              " 'HOU': 49.37265260681427,\n",
              " 'HPN': 65.96657419311185,\n",
              " 'HRL': 56.96123491179201,\n",
              " 'HSV': 64.504577630958,\n",
              " 'HTS': 74.23076923076923,\n",
              " 'HYA': 83.55102040816327,\n",
              " 'HYS': 60.18357487922705,\n",
              " 'IAD': 64.77620312669741,\n",
              " 'IAG': 54.94117647058823,\n",
              " 'IAH': 53.183816428709385,\n",
              " 'ICT': 64.85892819317941,\n",
              " 'IDA': 54.78635014836795,\n",
              " 'ILG': 72.77245508982035,\n",
              " 'ILM': 66.00119474313023,\n",
              " 'IMT': 74.48255813953489,\n",
              " 'IND': 59.98163125751609,\n",
              " 'INL': 81.26488095238095,\n",
              " 'IPL': 47.4384858044164,\n",
              " 'ISN': 74.77966101694915,\n",
              " 'ISP': 56.89474402730375,\n",
              " 'ITH': 66.00581395348837,\n",
              " 'ITO': 45.98359118612283,\n",
              " 'IYK': 70.17733990147784,\n",
              " 'JAC': 67.68768833405079,\n",
              " 'JAN': 59.96777721076037,\n",
              " 'JAX': 59.49196609311741,\n",
              " 'JFK': 62.75629488978783,\n",
              " 'JLN': 74.17993079584775,\n",
              " 'JMS': 80.42105263157895,\n",
              " 'JNU': 58.26696918131972,\n",
              " 'KOA': 54.65421778308544,\n",
              " 'KTN': 54.98277027027027,\n",
              " 'LAN': 67.27919876733436,\n",
              " 'LAR': 84.99459459459459,\n",
              " 'LAS': 52.16101302620981,\n",
              " 'LAW': 71.32612612612613,\n",
              " 'LAX': 51.447436050869555,\n",
              " 'LBB': 60.88402598994728,\n",
              " 'LBE': 66.94186046511628,\n",
              " 'LCH': 71.02675585284281,\n",
              " 'LEX': 66.58649590356907,\n",
              " 'LFT': 65.58231911194329,\n",
              " 'LGA': 62.17909592843013,\n",
              " 'LGB': 56.746395468589085,\n",
              " 'LIH': 52.910386727421425,\n",
              " 'LIT': 62.170318680830256,\n",
              " 'LMT': 79.81031128404669,\n",
              " 'LNK': 70.77828863346105,\n",
              " 'LRD': 67.05741797432239,\n",
              " 'LSE': 63.187150837988824,\n",
              " 'LWB': 67.26506024096386,\n",
              " 'LWS': 52.88294314381271,\n",
              " 'LYH': 61.48118279569893,\n",
              " 'MAF': 60.65661130964894,\n",
              " 'MBS': 64.27605056371712,\n",
              " 'MCI': 57.41205206593337,\n",
              " 'MCN': 28.0,\n",
              " 'MCO': 59.3715948418636,\n",
              " 'MDT': 67.34204925509273,\n",
              " 'MDW': 50.58177741197514,\n",
              " 'MEI': 75.26645435244161,\n",
              " 'MEM': 59.26449208591846,\n",
              " 'MFE': 68.85485047410648,\n",
              " 'MFR': 74.58889276982187,\n",
              " 'MGM': 63.89578414839798,\n",
              " 'MHK': 68.01989766913019,\n",
              " 'MHT': 60.6392551087673,\n",
              " 'MIA': 55.99277954028493,\n",
              " 'MKE': 58.81985201227215,\n",
              " 'MKG': 68.13773035887488,\n",
              " 'MLB': 67.46443322625058,\n",
              " 'MLI': 64.35603635898093,\n",
              " 'MLU': 68.63936491935483,\n",
              " 'MMH': 59.048850574712645,\n",
              " 'MOB': 64.17288732394366,\n",
              " 'MOD': 70.09304812834225,\n",
              " 'MOT': 61.8754988028731,\n",
              " 'MQT': 77.99302325581395,\n",
              " 'MRY': 65.3878761574074,\n",
              " 'MSN': 66.14812905126693,\n",
              " 'MSO': 56.68592403447175,\n",
              " 'MSP': 53.99086537882166,\n",
              " 'MSY': 55.72515884305358,\n",
              " 'MTJ': 62.22179487179487,\n",
              " 'MVY': 80.37540453074433,\n",
              " 'MWH': 38.25,\n",
              " 'MYR': 62.03216571236106,\n",
              " 'OAJ': 69.62537895192725,\n",
              " 'OAK': 43.99930315796142,\n",
              " 'OGG': 53.94968694096601,\n",
              " 'OKC': 59.271852295708186,\n",
              " 'OMA': 60.62802109272008,\n",
              " 'OME': 47.30816640986132,\n",
              " 'ONT': 52.91444457496378,\n",
              " 'ORD': 59.60943862556389,\n",
              " 'ORF': 63.720896640273914,\n",
              " 'ORH': 59.86046511627907,\n",
              " 'OTH': 75.32235939643347,\n",
              " 'OTZ': 46.896690879741726,\n",
              " 'OXR': 51.806451612903224,\n",
              " 'PAH': 73.05382775119617,\n",
              " 'PBG': 52.77245508982036,\n",
              " 'PBI': 61.85062851029687,\n",
              " 'PDX': 52.59280815171648,\n",
              " 'PFN': 59.10828488372093,\n",
              " 'PGD': 79.25,\n",
              " 'PHF': 62.44176458462173,\n",
              " 'PHL': 58.46857416056783,\n",
              " 'PHX': 47.10570551225064,\n",
              " 'PIA': 66.2441880489065,\n",
              " 'PIB': 89.1,\n",
              " 'PIE': 60.095238095238095,\n",
              " 'PIH': 48.14694894146949,\n",
              " 'PIR': 41.0,\n",
              " 'PIT': 57.502679994205415,\n",
              " 'PLN': 95.52941176470588,\n",
              " 'PNS': 60.03899721448468,\n",
              " 'PPG': 162.7155172413793,\n",
              " 'PSC': 58.767302259887,\n",
              " 'PSE': 57.516703786191535,\n",
              " 'PSG': 54.39303482587065,\n",
              " 'PSP': 66.1264880952381,\n",
              " 'PUB': 66.59880239520957,\n",
              " 'PVD': 58.14801424849806,\n",
              " 'PWM': 67.51333186425738,\n",
              " 'RAP': 63.712032281731474,\n",
              " 'RDD': 73.66108597285069,\n",
              " 'RDM': 69.24737631184408,\n",
              " 'RDU': 60.63351076897879,\n",
              " 'RFD': 50.80555555555556,\n",
              " 'RHI': 61.552282768777616,\n",
              " 'RIC': 67.35334985576728,\n",
              " 'RKS': 58.869825708061,\n",
              " 'RNO': 53.97356447356447,\n",
              " 'ROA': 73.80190983788586,\n",
              " 'ROC': 66.51894651975276,\n",
              " 'ROW': 60.83320754716981,\n",
              " 'RST': 62.57782258064516,\n",
              " 'RSW': 61.05203472752467,\n",
              " 'SAF': 66.44810469314079,\n",
              " 'SAN': 51.52197555947294,\n",
              " 'SAT': 54.932169256470694,\n",
              " 'SAV': 64.60338804297673,\n",
              " 'SBA': 68.88362364037422,\n",
              " 'SBN': 69.01959317977864,\n",
              " 'SBP': 66.55741410488245,\n",
              " 'SCC': 51.56445993031359,\n",
              " 'SCE': 66.79176755447942,\n",
              " 'SDF': 62.85908596300327,\n",
              " 'SEA': 48.82683039236363,\n",
              " 'SFO': 58.926139347557594,\n",
              " 'SGF': 71.84029925187032,\n",
              " 'SGU': 53.46909947027663,\n",
              " 'SHD': 65.66666666666667,\n",
              " 'SHV': 69.581787109375,\n",
              " 'SIT': 60.33701657458563,\n",
              " 'SJC': 48.51406331501023,\n",
              " 'SJT': 65.11693548387096,\n",
              " 'SJU': 57.80935386927123,\n",
              " 'SLC': 49.810690972775035,\n",
              " 'SMF': 50.121163106326804,\n",
              " 'SMX': 58.13562559694365,\n",
              " 'SNA': 50.63353131186829,\n",
              " 'SPI': 73.01263157894736,\n",
              " 'SPN': 26.0,\n",
              " 'SPS': 70.9095106186519,\n",
              " 'SRQ': 65.3712,\n",
              " 'STC': 72.3956043956044,\n",
              " 'STL': 53.90855156708815,\n",
              " 'STT': 66.74694450010018,\n",
              " 'STX': 56.38898601398601,\n",
              " 'SUN': 59.00972897845726,\n",
              " 'SUX': 71.87086614173228,\n",
              " 'SWF': 64.82868330885952,\n",
              " 'SYR': 66.37942413992245,\n",
              " 'TEX': 55.65079365079365,\n",
              " 'TLH': 64.19065052098,\n",
              " 'TOL': 67.7808564231738,\n",
              " 'TPA': 57.74115940072884,\n",
              " 'TRI': 65.4465512503435,\n",
              " 'TTN': 76.39695340501792,\n",
              " 'TUL': 60.12083787911848,\n",
              " 'TUS': 54.446453274817536,\n",
              " 'TVC': 66.71010696354507,\n",
              " 'TWF': 54.401069518716575,\n",
              " 'TXK': 69.01127214170693,\n",
              " 'TYR': 66.16549648946841,\n",
              " 'TYS': 66.51516433059449,\n",
              " 'UST': 67.54,\n",
              " 'UTM': 51.44827586206897,\n",
              " 'VEL': 70.03125,\n",
              " 'VLD': 65.21630960608155,\n",
              " 'VPS': 64.89639016079225,\n",
              " 'WRG': 55.29865771812081,\n",
              " 'WYS': 56.24761904761905,\n",
              " 'XNA': 72.27039037012037,\n",
              " 'YAK': 58.08299866131191,\n",
              " 'YUM': 55.800671422576585}"
            ]
          },
          "execution_count": 73,
          "metadata": {},
          "output_type": "execute_result"
        }
      ],
      "source": [
        "# WARNING! Time consuming cell\n",
        "avg_delay_per_orgin.collectAsMap()"
      ]
    },
    {
      "cell_type": "code",
      "execution_count": null,
      "metadata": {
        "id": "P61bCk3agnv_"
      },
      "outputs": [],
      "source": [
        "def get_taxiout_and_origin(x):\n",
        "  row = x.split(',')\n",
        "  row = [-1 if attribute_value=='' else attribute_value for attribute_value in row]\n",
        "  ORIGIN = row[3]\n",
        "  TAXI_OUT = float(row[8])\n",
        "  return (ORIGIN, np.array([1, TAXI_OUT]))\n",
        "\n",
        "taxiout_rdd = train_rdd.map(lambda x: get_taxiout_and_origin(x)).\\\n",
        "                      filter(lambda x: x[1][1] != -1)\n",
        "\n",
        "avg_taxiout_per_origin = taxiout_rdd.reduceByKey(lambda x,y: x+y).\\\n",
        "                                    map(lambda x: (x[0], x[1][1] / x[1][0] ))"
      ]
    },
    {
      "cell_type": "code",
      "execution_count": null,
      "metadata": {
        "colab": {
          "base_uri": "https://localhost:8080/"
        },
        "collapsed": true,
        "id": "yFcCUFtKlVnk",
        "outputId": "733d5710-f980-4227-f3d0-cc87243c5e7c"
      },
      "outputs": [
        {
          "data": {
            "text/plain": [
              "{'ABE': 13.32544478012756,\n",
              " 'ABI': 9.077268082207334,\n",
              " 'ABQ': 10.832022164606894,\n",
              " 'ABR': 14.186968838526912,\n",
              " 'ABY': 11.995193523905895,\n",
              " 'ACK': 16.299485861182518,\n",
              " 'ACT': 9.183176771989752,\n",
              " 'ACV': 10.439261555806088,\n",
              " 'ACY': 11.759023996773543,\n",
              " 'ADK': 7.281329923273657,\n",
              " 'ADQ': 6.575892857142857,\n",
              " 'AEX': 12.302298505220461,\n",
              " 'AGS': 15.831690892666503,\n",
              " 'AKN': 6.523235800344234,\n",
              " 'ALB': 13.456569155760842,\n",
              " 'ALO': 13.917349483434272,\n",
              " 'AMA': 10.001896411092986,\n",
              " 'ANC': 13.16946134229909,\n",
              " 'APN': 12.35240621447518,\n",
              " 'ART': 15.94915254237288,\n",
              " 'ASE': 12.715102559448177,\n",
              " 'ATL': 19.20793154318259,\n",
              " 'ATW': 13.135015985192664,\n",
              " 'AUS': 12.087895001600586,\n",
              " 'AVL': 16.593964002181686,\n",
              " 'AVP': 14.182591151462747,\n",
              " 'AZA': 10.542635658914728,\n",
              " 'AZO': 14.455013020833333,\n",
              " 'BDL': 13.912030188155887,\n",
              " 'BET': 6.806272586473929,\n",
              " 'BFF': 5.0,\n",
              " 'BFL': 12.725307237141557,\n",
              " 'BGM': 15.966446644664467,\n",
              " 'BGR': 17.009910529938058,\n",
              " 'BHM': 13.148544668804867,\n",
              " 'BIL': 12.25478267243275,\n",
              " 'BIS': 13.090453489793424,\n",
              " 'BJI': 14.398385300668151,\n",
              " 'BKG': 10.13968853232657,\n",
              " 'BLI': 12.831706831308503,\n",
              " 'BMI': 11.442659737805599,\n",
              " 'BNA': 12.33242454066711,\n",
              " 'BOI': 11.772143520439412,\n",
              " 'BOS': 19.31703892018977,\n",
              " 'BPT': 11.288403819918145,\n",
              " 'BQK': 15.149774629748872,\n",
              " 'BQN': 11.732076741837766,\n",
              " 'BRD': 15.406652023846878,\n",
              " 'BRO': 11.107160200723035,\n",
              " 'BRW': 6.400591278640059,\n",
              " 'BTM': 11.834661001947246,\n",
              " 'BTR': 12.073311737627675,\n",
              " 'BTV': 16.52888111314617,\n",
              " 'BUF': 13.122600001181175,\n",
              " 'BUR': 11.385254564670724,\n",
              " 'BWI': 13.410960896963077,\n",
              " 'BZN': 14.500172863563504,\n",
              " 'CAE': 14.336742807575538,\n",
              " 'CAK': 13.638102412104738,\n",
              " 'CDC': 12.27225959635932,\n",
              " 'CDV': 8.264922752808989,\n",
              " 'CEC': 13.072180970471422,\n",
              " 'CHA': 14.968383944928663,\n",
              " 'CHO': 12.942631128848346,\n",
              " 'CHS': 14.449556453485672,\n",
              " 'CIC': 11.307211338057524,\n",
              " 'CID': 12.21041670575433,\n",
              " 'CIU': 19.5586791610888,\n",
              " 'CLD': 10.636766809728183,\n",
              " 'CLE': 13.820160222216622,\n",
              " 'CLL': 8.646608832807571,\n",
              " 'CLT': 19.51647523158131,\n",
              " 'CMH': 13.106349797816696,\n",
              " 'CMI': 12.107630470843436,\n",
              " 'CMX': 14.494033412887829,\n",
              " 'CNY': 8.217451523545707,\n",
              " 'COD': 14.564715359828142,\n",
              " 'COS': 16.737346383640162,\n",
              " 'COU': 13.545382165605096,\n",
              " 'CPR': 12.277737359039651,\n",
              " 'CRP': 10.616937350318985,\n",
              " 'CRW': 13.475696402390888,\n",
              " 'CSG': 11.600954274353876,\n",
              " 'CVG': 15.693667743715029,\n",
              " 'CWA': 11.758616029193135,\n",
              " 'CYS': 10.096467391304348,\n",
              " 'DAB': 15.529078014184398,\n",
              " 'DAL': 10.367680765552112,\n",
              " 'DAY': 14.465731125456076,\n",
              " 'DBQ': 11.755829903978052,\n",
              " 'DCA': 18.301647891573413,\n",
              " 'DEN': 15.131576895923617,\n",
              " 'DFW': 15.568332436617533,\n",
              " 'DHN': 14.866877971473851,\n",
              " 'DIK': 16.687981053878033,\n",
              " 'DLG': 7.257188498402556,\n",
              " 'DLH': 15.578606251792372,\n",
              " 'DRO': 12.429196518728663,\n",
              " 'DRT': 11.391465677179962,\n",
              " 'DSM': 12.93002361469603,\n",
              " 'DTW': 19.59995870328309,\n",
              " 'DVL': 17.21303433777155,\n",
              " 'EAU': 14.63086982365762,\n",
              " 'ECP': 11.869100623330365,\n",
              " 'EFD': 48.0,\n",
              " 'EGE': 16.26154726154726,\n",
              " 'EKO': 11.309362934362934,\n",
              " 'ELM': 14.92367045548826,\n",
              " 'ELP': 11.689763041665806,\n",
              " 'ENV': 8.0,\n",
              " 'ERI': 16.650489161711107,\n",
              " 'ESC': 13.842776203966006,\n",
              " 'EUG': 12.564798039006714,\n",
              " 'EVV': 13.624254141804727,\n",
              " 'EWN': 9.970484061393153,\n",
              " 'EWR': 21.72430727827979,\n",
              " 'EYW': 9.191010623808227,\n",
              " 'FAI': 12.513044959128065,\n",
              " 'FAR': 15.39469272405039,\n",
              " 'FAT': 12.542078825806605,\n",
              " 'FAY': 12.763834906533408,\n",
              " 'FCA': 14.318146991218248,\n",
              " 'FLG': 15.100996015936255,\n",
              " 'FLL': 16.393513626749627,\n",
              " 'FLO': 11.811608961303463,\n",
              " 'FNT': 12.122142110482725,\n",
              " 'FOE': 17.8812351543943,\n",
              " 'FSD': 14.979165760514984,\n",
              " 'FSM': 10.46077638495754,\n",
              " 'FWA': 14.173607822380701,\n",
              " 'GCC': 13.475603070175438,\n",
              " 'GCK': 10.921575008135372,\n",
              " 'GEG': 12.375889498386965,\n",
              " 'GFK': 14.146023235031278,\n",
              " 'GGG': 8.642840986202216,\n",
              " 'GJT': 13.223386279148361,\n",
              " 'GNV': 12.862901701323251,\n",
              " 'GPT': 12.354461238420283,\n",
              " 'GRB': 12.142014912432808,\n",
              " 'GRI': 11.880565583634176,\n",
              " 'GRK': 11.078154133001865,\n",
              " 'GRR': 14.050865992135378,\n",
              " 'GSO': 15.754008632837415,\n",
              " 'GSP': 13.568178199765526,\n",
              " 'GST': 8.115183246073299,\n",
              " 'GTF': 12.502931978107897,\n",
              " 'GTR': 13.599807401293162,\n",
              " 'GUC': 13.017195261750096,\n",
              " 'GUM': 13.449771689497718,\n",
              " 'HDN': 16.499243406830956,\n",
              " 'HIB': 15.504091174751608,\n",
              " 'HLN': 13.622373300370828,\n",
              " 'HNL': 13.935608905908634,\n",
              " 'HOB': 11.734433374844334,\n",
              " 'HOU': 9.68756923727528,\n",
              " 'HPN': 15.017663123274799,\n",
              " 'HRL': 8.770036319612592,\n",
              " 'HSV': 14.570329866463306,\n",
              " 'HTS': 10.602910602910603,\n",
              " 'HYA': 11.620938628158845,\n",
              " 'HYS': 12.346548188653452,\n",
              " 'IAD': 17.517882698343477,\n",
              " 'IAG': 12.998603351955307,\n",
              " 'IAH': 16.951867532070207,\n",
              " 'ICT': 12.49922393459052,\n",
              " 'IDA': 13.111985608275242,\n",
              " 'ILG': 13.827797202797203,\n",
              " 'ILM': 13.156552878439921,\n",
              " 'IMT': 16.315073397780164,\n",
              " 'IND': 13.666472907089554,\n",
              " 'INL': 16.961858006042295,\n",
              " 'IPL': 11.402099048868482,\n",
              " 'ISN': 19.765255226573277,\n",
              " 'ISP': 9.06958910850488,\n",
              " 'ITH': 20.341614906832298,\n",
              " 'ITO': 8.571938905697518,\n",
              " 'IYK': 10.921396283274737,\n",
              " 'JAC': 17.142169117647057,\n",
              " 'JAN': 12.137437649470447,\n",
              " 'JAX': 13.375228348418169,\n",
              " 'JFK': 27.58654053444914,\n",
              " 'JLN': 12.016460905349794,\n",
              " 'JMS': 14.759855006796556,\n",
              " 'JNU': 13.484434297912713,\n",
              " 'KOA': 10.026227890771935,\n",
              " 'KTN': 11.674071338117349,\n",
              " 'LAN': 14.380596604955228,\n",
              " 'LAR': 14.203779177473137,\n",
              " 'LAS': 14.51541554494138,\n",
              " 'LAW': 9.479473684210527,\n",
              " 'LAX': 15.764296645232488,\n",
              " 'LBB': 10.05062723176728,\n",
              " 'LBE': 12.996220075598488,\n",
              " 'LCH': 11.088079470198675,\n",
              " 'LEX': 14.741435403296059,\n",
              " 'LFT': 12.952773846928741,\n",
              " 'LGA': 26.331929246238325,\n",
              " 'LGB': 13.261804847439015,\n",
              " 'LIH': 8.392921199257097,\n",
              " 'LIT': 11.932866091599918,\n",
              " 'LMT': 11.761947377841418,\n",
              " 'LNK': 11.790337159902377,\n",
              " 'LRD': 11.179853845749435,\n",
              " 'LSE': 13.005447735784815,\n",
              " 'LWB': 14.209899175068744,\n",
              " 'LWS': 11.417151435541378,\n",
              " 'LYH': 12.242800677583286,\n",
              " 'MAF': 10.451770272475118,\n",
              " 'MBS': 14.54503132363929,\n",
              " 'MCI': 11.952958559365882,\n",
              " 'MCN': 2.5,\n",
              " 'MCO': 13.908861624010987,\n",
              " 'MDT': 14.108615076383671,\n",
              " 'MDW': 11.907430052221262,\n",
              " 'MEI': 12.566934259058364,\n",
              " 'MEM': 16.597741063539107,\n",
              " 'MFE': 11.38984081922336,\n",
              " 'MFR': 12.559878486201596,\n",
              " 'MGM': 14.591127219034195,\n",
              " 'MHK': 11.933784487246227,\n",
              " 'MHT': 12.647186784219887,\n",
              " 'MIA': 17.34915347193305,\n",
              " 'MKE': 13.43113467020053,\n",
              " 'MKG': 12.756361323155216,\n",
              " 'MLB': 14.849304046986886,\n",
              " 'MLI': 12.157312368057072,\n",
              " 'MLU': 11.461717978637465,\n",
              " 'MMH': 16.673300165837478,\n",
              " 'MOB': 11.926536927670146,\n",
              " 'MOD': 10.728820714888826,\n",
              " 'MOT': 16.249092938878036,\n",
              " 'MQT': 13.202608202608202,\n",
              " 'MRY': 12.633564753004006,\n",
              " 'MSN': 13.289351288326264,\n",
              " 'MSO': 13.024281363427761,\n",
              " 'MSP': 18.11098626886552,\n",
              " 'MSY': 10.979831126705456,\n",
              " 'MTJ': 12.973741454319454,\n",
              " 'MVY': 12.816874400767018,\n",
              " 'MWH': 11.006042296072508,\n",
              " 'MYR': 13.729219143576826,\n",
              " 'OAJ': 12.381083333333333,\n",
              " 'OAK': 10.151595243621074,\n",
              " 'OGG': 9.010587603419117,\n",
              " 'OKC': 11.749356053100852,\n",
              " 'OMA': 12.774665970709815,\n",
              " 'OME': 6.156851800167457,\n",
              " 'ONT': 10.51756553900948,\n",
              " 'ORD': 17.86757774754833,\n",
              " 'ORF': 13.092007028831224,\n",
              " 'ORH': 12.619944852941176,\n",
              " 'OTH': 10.3954792938459,\n",
              " 'OTZ': 6.343890134529148,\n",
              " 'OXR': 9.16340694006309,\n",
              " 'PAH': 11.26412310286678,\n",
              " 'PBG': 14.122913505311077,\n",
              " 'PBI': 13.297786318862496,\n",
              " 'PDX': 12.09092530615885,\n",
              " 'PFN': 13.697211155378486,\n",
              " 'PGD': 13.115384615384615,\n",
              " 'PHF': 12.17515748031496,\n",
              " 'PHL': 21.851512531593247,\n",
              " 'PHX': 14.863555462379272,\n",
              " 'PIA': 13.666412746778391,\n",
              " 'PIB': 12.748498498498499,\n",
              " 'PIE': 11.232142857142858,\n",
              " 'PIH': 10.689840797159546,\n",
              " 'PIR': 17.666666666666668,\n",
              " 'PIT': 14.397676743864668,\n",
              " 'PLN': 15.83971481383681,\n",
              " 'PNS': 12.86594037352219,\n",
              " 'PPG': 10.38021978021978,\n",
              " 'PSC': 12.464363277393879,\n",
              " 'PSE': 12.81560397308555,\n",
              " 'PSG': 8.732161874334398,\n",
              " 'PSP': 13.114887252646112,\n",
              " 'PUB': 11.490140845070423,\n",
              " 'PVD': 12.804896580835795,\n",
              " 'PWM': 14.540161860348396,\n",
              " 'RAP': 13.279319078753607,\n",
              " 'RDD': 12.426957057735772,\n",
              " 'RDM': 11.585920456452424,\n",
              " 'RDU': 14.799165344044358,\n",
              " 'RFD': 11.54225352112676,\n",
              " 'RHI': 15.774304700959881,\n",
              " 'RIC': 15.486826886969583,\n",
              " 'RKS': 11.552669552669553,\n",
              " 'RNO': 11.696541521044619,\n",
              " 'ROA': 14.987925849454644,\n",
              " 'ROC': 14.552603975786374,\n",
              " 'ROW': 9.848824047289648,\n",
              " 'RST': 13.155454301795766,\n",
              " 'RSW': 12.505353947790981,\n",
              " 'SAF': 12.223800056802045,\n",
              " 'SAN': 13.862405487339284,\n",
              " 'SAT': 11.473543809566703,\n",
              " 'SAV': 15.243645566864421,\n",
              " 'SBA': 11.66911784769025,\n",
              " 'SBN': 14.8468629887582,\n",
              " 'SBP': 11.71525594637879,\n",
              " 'SCC': 6.731878156051474,\n",
              " 'SCE': 13.191223193010325,\n",
              " 'SDF': 13.370317956104138,\n",
              " 'SEA': 15.98443794396452,\n",
              " 'SFO': 17.37344151318422,\n",
              " 'SGF': 13.915343411044816,\n",
              " 'SGU': 11.43072307230723,\n",
              " 'SHD': 11.016666666666667,\n",
              " 'SHV': 10.09940537745605,\n",
              " 'SIT': 11.551291939838025,\n",
              " 'SJC': 11.223326289285554,\n",
              " 'SJT': 9.402471855115026,\n",
              " 'SJU': 13.815228034011852,\n",
              " 'SLC': 18.05350806095322,\n",
              " 'SMF': 10.750683546966103,\n",
              " 'SMX': 11.501387809481514,\n",
              " 'SNA': 12.219444690799996,\n",
              " 'SPI': 11.55369322304455,\n",
              " 'SPN': 8.5,\n",
              " 'SPS': 11.577980280848521,\n",
              " 'SRQ': 11.95467089264734,\n",
              " 'STC': 17.647969052224372,\n",
              " 'STL': 11.343663784966486,\n",
              " 'STT': 13.839118936832591,\n",
              " 'STX': 12.02761760242792,\n",
              " 'SUN': 10.601664780992403,\n",
              " 'SUX': 13.440533530937385,\n",
              " 'SWF': 15.146172337278106,\n",
              " 'SYR': 16.188628950810443,\n",
              " 'TEX': 18.528384279475983,\n",
              " 'TLH': 13.633042744656917,\n",
              " 'TOL': 12.038478166882836,\n",
              " 'TPA': 12.326857108840754,\n",
              " 'TRI': 14.631188360511668,\n",
              " 'TTN': 13.204094689699296,\n",
              " 'TUL': 12.251295246462913,\n",
              " 'TUP': 7.0,\n",
              " 'TUS': 11.652213689310381,\n",
              " 'TVC': 13.725043429079303,\n",
              " 'TWF': 10.827984057058947,\n",
              " 'TXK': 8.876534208287763,\n",
              " 'TYR': 9.716490469943668,\n",
              " 'TYS': 14.089369933017325,\n",
              " 'UST': 10.347408829174665,\n",
              " 'UTM': 14.392156862745098,\n",
              " 'VEL': 7.678420310296191,\n",
              " 'VLD': 12.105528255528256,\n",
              " 'VPS': 14.779440042260962,\n",
              " 'WRG': 8.116901408450705,\n",
              " 'WYS': 9.217803030303031,\n",
              " 'XNA': 13.718426173130005,\n",
              " 'YAK': 8.26093832366895,\n",
              " 'YUM': 12.869121860778696}"
            ]
          },
          "execution_count": 78,
          "metadata": {},
          "output_type": "execute_result"
        }
      ],
      "source": [
        "# WARNING! Time consuming cell\n",
        "avg_taxiout_per_origin.collectAsMap()"
      ]
    },
    {
      "cell_type": "markdown",
      "metadata": {
        "id": "yJi8cqrypOHU"
      },
      "source": [
        "### Features extraction"
      ]
    },
    {
      "cell_type": "code",
      "execution_count": 16,
      "metadata": {
        "id": "-Zkql00lGLvn"
      },
      "outputs": [],
      "source": [
        "def get_coor_from_hour(hour: float):\n",
        "    \"\"\"\n",
        "    Returns the polar coordinates associated to hour data.\n",
        "    Example: 24.00 becomes (0.0, 1.0)\n",
        "\n",
        "    Parameters\n",
        "    ----------\n",
        "        x :: float\n",
        "            Time data with the format hh.mm\n",
        "\n",
        "    Returns\n",
        "    -------\n",
        "        x :: float\n",
        "            The x coordinate in the unit circle\n",
        "        y :: float\n",
        "            The y coordinate in the unit circle\n",
        "    \"\"\" \n",
        "    h = int(hour)\n",
        "    m = (hour % 1) * 100\n",
        "    hour_float = h + m/60.0\n",
        "    x = np.sin(2.*np.pi* hour_float/24.)\n",
        "    y = np.cos(2.*np.pi* hour_float/24.)\n",
        "    return x, y\n",
        "\n",
        "def feature_extraction(x):\n",
        "    \"\"\"\n",
        "    Returns a tuple-based representation of the datapoint, starting from its CSV-like string x.\n",
        "    Specifically, the function splits the string, extract the features of interest\n",
        "    (based on the Header format) and cast the values to their appropriate types.\n",
        "\n",
        "    Parameters\n",
        "    ----------\n",
        "        x :: str\n",
        "            A CSV-like formatted string\n",
        "\n",
        "    Returns\n",
        "    -------\n",
        "        cancelled :: int\n",
        "            The label of the datapoint, it can be either 1 or -1\n",
        "        features :: list\n",
        "            A list containg the extracted features values\n",
        "    \"\"\" \n",
        "    #Header format: 'FL_DATE, OP_CARRIER, OP_CARRIER_FL_NUM, ORIGIN, DEST, CRS_DEP_TIME, DEP_TIME, DEP_DELAY, TAXI_OUT, WHEELS_OFF, WHEELS_ON,\n",
        "    #                TAXI_IN, CRS_ARR_TIME, ARR_TIME, ARR_DELAY, CANCELLED, CANCELLATION_CODE, DIVERTED, CRS_ELAPSED_TIME, ACTUAL_ELAPSED_TIME, AIR_TIME,\n",
        "    #                 DISTANCE, CARRIER_DELAY, WEATHER_DELAY, NAS_DELAY, SECURITY_DELAY, LATE_AIRCRAFT_DELAY, Unnamed: 27'\n",
        "    row = x.split(',')\n",
        "    row = [-1 if attribute_value=='' else attribute_value for attribute_value in row]\n",
        "    date = parser.parse(row[0])\n",
        "    op_carrier = row[1]\n",
        "    origin = row[3]\n",
        "    dest = row[4]\n",
        "    crs_dep_time = float(row[5]) \n",
        "    crs_arr_time = float(row[12]) \n",
        "    crs_elapsed_time = float(row[18])\n",
        "    distance = float(row[21])\n",
        "    cancelled = -1 if row[15]=='0.0' else 1\n",
        "\n",
        "    #Converting time data to unit circle's coordinates\n",
        "    x_crs_dep_time, y_crs_dep_time = get_coor_from_hour(crs_dep_time * 0.01 ) if crs_dep_time!= -1 else (None,None)\n",
        "    x_crs_arr_time, y_crs_arr_time = get_coor_from_hour(crs_arr_time * 0.01) if crs_arr_time!= -1 else (None,None)\n",
        "\n",
        "    # One hot encoding OP_CARRIER\n",
        "    set_op_carriers = {'AS', '9E', 'UA', 'WN', 'XE', 'B6', 'F9', 'EV', 'DL', 'YV', 'FL', 'CO', 'AA', 'VX', 'NK', 'OH', 'MQ', 'OO', 'HA', 'NW', 'US'}\n",
        "    one_hot_opcarriers = [0]* (len(set_op_carriers) + 1) # +1 because we add a last feature in case of airports not present in training set\n",
        "    dict_ohe_op_carriers = {x:i for i,x in enumerate(set_op_carriers)}\n",
        "    one_hot_opcarriers[ dict_ohe_op_carriers.get(op_carrier, len(set_op_carriers)) ] = 1 #in case of op carrier not found we set to 1 the last value\n",
        "\n",
        "    # Average Delay of ORIGIN airport\n",
        "    dict_avgdelay_origin = {'ABE': 68.1733300828864,  'ABI': 69.20090463626083,  'ABQ': 53.27665023545287,  'ABR': 67.68280871670702,  'ABY': 66.46433666191156,  'ACK': 78.02377622377622,  'ACT': 68.26621621621622,  'ACV': 77.03177004538578,  'ACY': 67.13809990205681,  'ADK': 44.458333333333336,  'ADQ': 58.45333333333333,  'AEX': 71.41340782122904,  'AGS': 62.714097496706195,  'AKN': 36.33057851239669,  'ALB': 59.15774068507238,  'ALO': 68.73055028462998,  'AMA': 61.06558913094401,  'ANC': 47.58513859771721,  'APN': 79.68987341772151,  'ART': 89.4949494949495,  'ASE': 67.09147471538257,  'ATL': 54.886622331116556,  'ATW': 63.51198791768926,  'AUS': 56.20052522313111,  'AVL': 64.93568406205924,  'AVP': 68.8801652892562,  'AZA': 28.916666666666668,  'AZO': 65.44927536231884,  'BDL': 56.392331233123315,  'BET': 49.14747859181732,  'BFL': 66.21324636226794,  'BGM': 72.3558648111332,  'BGR': 67.5063202247191,  'BHM': 60.416046531519974,  'BIL': 58.512142857142855,  'BIS': 63.39935674082015,  'BJI': 78.23219814241486,  'BKG': 54.087892376681616,  'BLI': 58.86495726495726,  'BMI': 63.744997871434656,  'BNA': 55.583976727344144,  'BOI': 59.87196692422394,  'BOS': 57.48044184989688,  'BPT': 74.99885974914481,  'BQK': 62.79221594475832,  'BQN': 56.62869607367911,  'BRD': 62.95948827292111,  'BRO': 70.43713507201245,  'BRW': 49.29903774981495,  'BTM': 67.23140495867769,  'BTR': 69.51550151975684,  'BTV': 68.5280582896587,  'BUF': 62.13872014358691,  'BUR': 51.50685140654223,  'BWI': 53.93481081798814,  'BZN': 62.521043968963085,  'CAE': 68.79725293711127,  'CAK': 61.76523197316937,  'CDC': 51.054794520547944,  'CDV': 56.080473372781064,  'CEC': 80.00826848249027,  'CHA': 64.08661752197335,  'CHO': 76.66317016317016,  'CHS': 63.78693901893544,  'CIC': 73.31991174848318,  'CID': 64.82948730327315,  'CIU': 86.3622754491018,  'CLD': 49.711671612265086,  'CLE': 60.431523235236284,  'CLL': 68.63866967305525,  'CLT': 51.43374859604109,  'CMH': 62.117687578130976,  'CMI': 74.36312056737589,  'CMX': 85.60912052117264,  'CNY': 42.94117647058823,  'COD': 56.8106884057971,  'COS': 63.841156209900724,  'COU': 69.93628318584071,  'CPR': 57.3358962037482,  'CRP': 62.4824392126592,  'CRW': 67.70585233072474,  'CSG': 63.94585448392555,  'CVG': 60.7903341166854,  'CWA': 68.5723381676689,  'CYS': 71.1625,  'DAB': 65.74743892829,  'DAL': 48.91106548134785,  'DAY': 64.11530003141691,  'DBQ': 75.70386266094421,  'DCA': 59.84354805282891,  'DEN': 53.00976258466233,  'DFW': 53.937151195479295,  'DHN': 67.49769159741459,  'DIK': 72.47480916030534,  'DLG': 48.276119402985074,  'DLH': 66.7912013536379,  'DRO': 62.941247363663756,  'DRT': 65.32558139534883,  'DSM': 63.139514978601994,  'DTW': 56.32944485282368,  'DVL': 78.9950495049505,  'EAU': 74.04043715846994,  'ECP': 63.31477184841454,  'EFD': 56.0,  'EGE': 80.23033481242436,  'EKO': 54.0113475177305,  'ELM': 66.32570806100217,  'ELP': 55.79699951030584,  'ERI': 62.35311004784689,  'ESC': 106.47685185185185,  'EUG': 68.58314385326663,  'EVV': 66.86500655307995,  'EWN': 67.72879858657244,  'EWR': 62.435569945806925,  'EYW': 63.047122441096946,  'FAI': 52.97650553605185,  'FAR': 65.14314274290284,  'FAT': 63.4983653453208,  'FAY': 67.25355726615349,  'FCA': 56.11001164144354,  'FLG': 59.043563068920676,  'FLL': 59.02989849955869,  'FLO': 54.3304347826087,  'FNT': 59.7025293255132,  'FOE': 81.52845528455285,  'FSD': 67.56977787749608,  'FSM': 66.53367158671587,  'FWA': 68.15710109247577,  'GCC': 62.15542521994135,  'GCK': 88.08108108108108,  'GEG': 53.67088607594937,  'GFK': 62.44899425287356,  'GGG': 64.60225846925972,  'GJT': 60.39482489404417,  'GNV': 65.3421990026122,  'GPT': 63.54054054054054,  'GRB': 64.86086578833068,  'GRI': 68.00366300366301,  'GRK': 68.88064516129032,  'GRR': 63.353437213565535,  'GSO': 67.78864654476023,  'GSP': 63.31671508204444,  'GST': 40.73103448275862,  'GTF': 62.0,  'GTR': 67.08345534407027,  'GUC': 74.03219315895372,  'GUM': 56.04575163398693,  'HDN': 66.12539582013933,  'HIB': 79.72388059701493,  'HLN': 53.66050420168067,  'HNL': 51.58872034779321,  'HOB': 85.46341463414635,  'HOU': 49.37265260681427,  'HPN': 65.96657419311185,  'HRL': 56.96123491179201,  'HSV': 64.504577630958,  'HTS': 74.23076923076923,  'HYA': 83.55102040816327,  'HYS': 60.18357487922705,  'IAD': 64.77620312669741,  'IAG': 54.94117647058823,  'IAH': 53.183816428709385,  'ICT': 64.85892819317941,  'IDA': 54.78635014836795,  'ILG': 72.77245508982035,  'ILM': 66.00119474313023,  'IMT': 74.48255813953489,  'IND': 59.98163125751609,  'INL': 81.26488095238095,  'IPL': 47.4384858044164,  'ISN': 74.77966101694915,  'ISP': 56.89474402730375,  'ITH': 66.00581395348837,  'ITO': 45.98359118612283,  'IYK': 70.17733990147784,  'JAC': 67.68768833405079,  'JAN': 59.96777721076037,  'JAX': 59.49196609311741,  'JFK': 62.75629488978783,  'JLN': 74.17993079584775,  'JMS': 80.42105263157895,  'JNU': 58.26696918131972,  'KOA': 54.65421778308544,  'KTN': 54.98277027027027,  'LAN': 67.27919876733436,  'LAR': 84.99459459459459,  'LAS': 52.16101302620981,  'LAW': 71.32612612612613,  'LAX': 51.447436050869555,  'LBB': 60.88402598994728,  'LBE': 66.94186046511628,  'LCH': 71.02675585284281,  'LEX': 66.58649590356907,  'LFT': 65.58231911194329,  'LGA': 62.17909592843013,  'LGB': 56.746395468589085,  'LIH': 52.910386727421425,  'LIT': 62.170318680830256,  'LMT': 79.81031128404669,  'LNK': 70.77828863346105,  'LRD': 67.05741797432239,  'LSE': 63.187150837988824,  'LWB': 67.26506024096386,  'LWS': 52.88294314381271,  'LYH': 61.48118279569893,  'MAF': 60.65661130964894,  'MBS': 64.27605056371712,  'MCI': 57.41205206593337,  'MCN': 28.0,  'MCO': 59.3715948418636,  'MDT': 67.34204925509273,  'MDW': 50.58177741197514,  'MEI': 75.26645435244161,  'MEM': 59.26449208591846,  'MFE': 68.85485047410648,  'MFR': 74.58889276982187,  'MGM': 63.89578414839798,  'MHK': 68.01989766913019,  'MHT': 60.6392551087673,  'MIA': 55.99277954028493,  'MKE': 58.81985201227215,  'MKG': 68.13773035887488,  'MLB': 67.46443322625058,  'MLI': 64.35603635898093,  'MLU': 68.63936491935483,  'MMH': 59.048850574712645,  'MOB': 64.17288732394366,  'MOD': 70.09304812834225,  'MOT': 61.8754988028731,  'MQT': 77.99302325581395,  'MRY': 65.3878761574074,  'MSN': 66.14812905126693,  'MSO': 56.68592403447175,  'MSP': 53.99086537882166,  'MSY': 55.72515884305358,  'MTJ': 62.22179487179487,  'MVY': 80.37540453074433,  'MWH': 38.25,  'MYR': 62.03216571236106,  'OAJ': 69.62537895192725,  'OAK': 43.99930315796142,  'OGG': 53.94968694096601,  'OKC': 59.271852295708186,  'OMA': 60.62802109272008,  'OME': 47.30816640986132,  'ONT': 52.91444457496378,  'ORD': 59.60943862556389,  'ORF': 63.720896640273914,  'ORH': 59.86046511627907,  'OTH': 75.32235939643347,  'OTZ': 46.896690879741726,  'OXR': 51.806451612903224,  'PAH': 73.05382775119617,  'PBG': 52.77245508982036,  'PBI': 61.85062851029687,  'PDX': 52.59280815171648,  'PFN': 59.10828488372093,  'PGD': 79.25,  'PHF': 62.44176458462173,  'PHL': 58.46857416056783,  'PHX': 47.10570551225064,  'PIA': 66.2441880489065,  'PIB': 89.1,  'PIE': 60.095238095238095,  'PIH': 48.14694894146949,  'PIR': 41.0,  'PIT': 57.502679994205415,  'PLN': 95.52941176470588,  'PNS': 60.03899721448468,  'PPG': 162.7155172413793,  'PSC': 58.767302259887,  'PSE': 57.516703786191535,  'PSG': 54.39303482587065,  'PSP': 66.1264880952381,  'PUB': 66.59880239520957,  'PVD': 58.14801424849806,  'PWM': 67.51333186425738,  'RAP': 63.712032281731474,  'RDD': 73.66108597285069,  'RDM': 69.24737631184408,  'RDU': 60.63351076897879,  'RFD': 50.80555555555556,  'RHI': 61.552282768777616,  'RIC': 67.35334985576728,  'RKS': 58.869825708061,  'RNO': 53.97356447356447,  'ROA': 73.80190983788586,  'ROC': 66.51894651975276,  'ROW': 60.83320754716981,  'RST': 62.57782258064516,  'RSW': 61.05203472752467,  'SAF': 66.44810469314079,  'SAN': 51.52197555947294,  'SAT': 54.932169256470694,  'SAV': 64.60338804297673,  'SBA': 68.88362364037422,  'SBN': 69.01959317977864,  'SBP': 66.55741410488245,  'SCC': 51.56445993031359,  'SCE': 66.79176755447942,  'SDF': 62.85908596300327,  'SEA': 48.82683039236363,  'SFO': 58.926139347557594,  'SGF': 71.84029925187032,  'SGU': 53.46909947027663,  'SHD': 65.66666666666667,  'SHV': 69.581787109375,  'SIT': 60.33701657458563,  'SJC': 48.51406331501023,  'SJT': 65.11693548387096,  'SJU': 57.80935386927123,  'SLC': 49.810690972775035,  'SMF': 50.121163106326804,  'SMX': 58.13562559694365,  'SNA': 50.63353131186829,  'SPI': 73.01263157894736,  'SPN': 26.0,  'SPS': 70.9095106186519,  'SRQ': 65.3712,  'STC': 72.3956043956044,  'STL': 53.90855156708815,  'STT': 66.74694450010018,  'STX': 56.38898601398601,  'SUN': 59.00972897845726,  'SUX': 71.87086614173228,  'SWF': 64.82868330885952,  'SYR': 66.37942413992245,  'TEX': 55.65079365079365,  'TLH': 64.19065052098,  'TOL': 67.7808564231738,  'TPA': 57.74115940072884,  'TRI': 65.4465512503435,  'TTN': 76.39695340501792,  'TUL': 60.12083787911848,  'TUS': 54.446453274817536,  'TVC': 66.71010696354507,  'TWF': 54.401069518716575,  'TXK': 69.01127214170693,  'TYR': 66.16549648946841,  'TYS': 66.51516433059449,  'UST': 67.54,  'UTM': 51.44827586206897,  'VEL': 70.03125,  'VLD': 65.21630960608155,  'VPS': 64.89639016079225,  'WRG': 55.29865771812081,  'WYS': 56.24761904761905,'XNA': 72.27039037012037,'YAK': 58.08299866131191,'YUM': 55.800671422576585}\n",
        "    default_value_delay = np.mean(list(dict_avgdelay_origin.values()))\n",
        "    avgdelay = dict_avgdelay_origin.get(origin, default_value_delay)\n",
        "\n",
        "    # Average Taxiout of ORIGIN airport\n",
        "    dict_avgtaxiout_origin = {'ABE': 13.32544478012756,  'ABI': 9.077268082207334,  'ABQ': 10.832022164606894,  'ABR': 14.186968838526912,  'ABY': 11.995193523905895,  'ACK': 16.299485861182518,  'ACT': 9.183176771989752,  'ACV': 10.439261555806088,  'ACY': 11.759023996773543,  'ADK': 7.281329923273657,  'ADQ': 6.575892857142857,  'AEX': 12.302298505220461,  'AGS': 15.831690892666503,  'AKN': 6.523235800344234,  'ALB': 13.456569155760842,  'ALO': 13.917349483434272,  'AMA': 10.001896411092986,  'ANC': 13.16946134229909,  'APN': 12.35240621447518,  'ART': 15.94915254237288,  'ASE': 12.715102559448177,  'ATL': 19.20793154318259,  'ATW': 13.135015985192664,  'AUS': 12.087895001600586,  'AVL': 16.593964002181686,  'AVP': 14.182591151462747,  'AZA': 10.542635658914728,  'AZO': 14.455013020833333,  'BDL': 13.912030188155887,  'BET': 6.806272586473929,  'BFF': 5.0,  'BFL': 12.725307237141557,  'BGM': 15.966446644664467,  'BGR': 17.009910529938058,  'BHM': 13.148544668804867,  'BIL': 12.25478267243275,  'BIS': 13.090453489793424,  'BJI': 14.398385300668151,  'BKG': 10.13968853232657,  'BLI': 12.831706831308503,  'BMI': 11.442659737805599,  'BNA': 12.33242454066711,  'BOI': 11.772143520439412,  'BOS': 19.31703892018977,  'BPT': 11.288403819918145,  'BQK': 15.149774629748872,  'BQN': 11.732076741837766,  'BRD': 15.406652023846878,  'BRO': 11.107160200723035,  'BRW': 6.400591278640059,  'BTM': 11.834661001947246,  'BTR': 12.073311737627675,  'BTV': 16.52888111314617,  'BUF': 13.122600001181175,  'BUR': 11.385254564670724,  'BWI': 13.410960896963077,  'BZN': 14.500172863563504,  'CAE': 14.336742807575538,  'CAK': 13.638102412104738,  'CDC': 12.27225959635932,  'CDV': 8.264922752808989,  'CEC': 13.072180970471422,  'CHA': 14.968383944928663,  'CHO': 12.942631128848346,  'CHS': 14.449556453485672,  'CIC': 11.307211338057524,  'CID': 12.21041670575433,  'CIU': 19.5586791610888,  'CLD': 10.636766809728183,  'CLE': 13.820160222216622,  'CLL': 8.646608832807571,  'CLT': 19.51647523158131,  'CMH': 13.106349797816696,  'CMI': 12.107630470843436,  'CMX': 14.494033412887829,  'CNY': 8.217451523545707,  'COD': 14.564715359828142,  'COS': 16.737346383640162,  'COU': 13.545382165605096,  'CPR': 12.277737359039651,  'CRP': 10.616937350318985,  'CRW': 13.475696402390888,  'CSG': 11.600954274353876,  'CVG': 15.693667743715029,  'CWA': 11.758616029193135,  'CYS': 10.096467391304348,  'DAB': 15.529078014184398,  'DAL': 10.367680765552112,  'DAY': 14.465731125456076,  'DBQ': 11.755829903978052,  'DCA': 18.301647891573413,  'DEN': 15.131576895923617,  'DFW': 15.568332436617533,  'DHN': 14.866877971473851,  'DIK': 16.687981053878033,  'DLG': 7.257188498402556,  'DLH': 15.578606251792372,  'DRO': 12.429196518728663,  'DRT': 11.391465677179962,  'DSM': 12.93002361469603,  'DTW': 19.59995870328309,  'DVL': 17.21303433777155,  'EAU': 14.63086982365762,  'ECP': 11.869100623330365,  'EFD': 48.0,  'EGE': 16.26154726154726,  'EKO': 11.309362934362934,  'ELM': 14.92367045548826,  'ELP': 11.689763041665806,  'ENV': 8.0,  'ERI': 16.650489161711107,  'ESC': 13.842776203966006,  'EUG': 12.564798039006714,  'EVV': 13.624254141804727,  'EWN': 9.970484061393153,  'EWR': 21.72430727827979,  'EYW': 9.191010623808227,  'FAI': 12.513044959128065,  'FAR': 15.39469272405039,  'FAT': 12.542078825806605,  'FAY': 12.763834906533408,  'FCA': 14.318146991218248,  'FLG': 15.100996015936255,  'FLL': 16.393513626749627,  'FLO': 11.811608961303463,  'FNT': 12.122142110482725,  'FOE': 17.8812351543943,  'FSD': 14.979165760514984,  'FSM': 10.46077638495754,  'FWA': 14.173607822380701,  'GCC': 13.475603070175438,  'GCK': 10.921575008135372,  'GEG': 12.375889498386965,  'GFK': 14.146023235031278,  'GGG': 8.642840986202216,  'GJT': 13.223386279148361,  'GNV': 12.862901701323251,  'GPT': 12.354461238420283,  'GRB': 12.142014912432808,  'GRI': 11.880565583634176,  'GRK': 11.078154133001865,  'GRR': 14.050865992135378,  'GSO': 15.754008632837415,  'GSP': 13.568178199765526,  'GST': 8.115183246073299,  'GTF': 12.502931978107897,  'GTR': 13.599807401293162,  'GUC': 13.017195261750096,  'GUM': 13.449771689497718,  'HDN': 16.499243406830956,  'HIB': 15.504091174751608,  'HLN': 13.622373300370828,  'HNL': 13.935608905908634,  'HOB': 11.734433374844334,  'HOU': 9.68756923727528,  'HPN': 15.017663123274799,  'HRL': 8.770036319612592,  'HSV': 14.570329866463306,  'HTS': 10.602910602910603,  'HYA': 11.620938628158845,  'HYS': 12.346548188653452,  'IAD': 17.517882698343477,  'IAG': 12.998603351955307,  'IAH': 16.951867532070207,  'ICT': 12.49922393459052,  'IDA': 13.111985608275242,  'ILG': 13.827797202797203,  'ILM': 13.156552878439921,  'IMT': 16.315073397780164,  'IND': 13.666472907089554,  'INL': 16.961858006042295,  'IPL': 11.402099048868482,  'ISN': 19.765255226573277,  'ISP': 9.06958910850488,  'ITH': 20.341614906832298,  'ITO': 8.571938905697518,  'IYK': 10.921396283274737,  'JAC': 17.142169117647057,  'JAN': 12.137437649470447,  'JAX': 13.375228348418169,  'JFK': 27.58654053444914,  'JLN': 12.016460905349794,  'JMS': 14.759855006796556,  'JNU': 13.484434297912713,  'KOA': 10.026227890771935,  'KTN': 11.674071338117349,  'LAN': 14.380596604955228,  'LAR': 14.203779177473137,  'LAS': 14.51541554494138,  'LAW': 9.479473684210527,  'LAX': 15.764296645232488,  'LBB': 10.05062723176728,  'LBE': 12.996220075598488,  'LCH': 11.088079470198675,  'LEX': 14.741435403296059,  'LFT': 12.952773846928741,  'LGA': 26.331929246238325,  'LGB': 13.261804847439015,  'LIH': 8.392921199257097,  'LIT': 11.932866091599918,  'LMT': 11.761947377841418,  'LNK': 11.790337159902377,  'LRD': 11.179853845749435,  'LSE': 13.005447735784815,  'LWB': 14.209899175068744,  'LWS': 11.417151435541378,  'LYH': 12.242800677583286,  'MAF': 10.451770272475118,  'MBS': 14.54503132363929,  'MCI': 11.952958559365882,  'MCN': 2.5,  'MCO': 13.908861624010987,  'MDT': 14.108615076383671,  'MDW': 11.907430052221262,  'MEI': 12.566934259058364,  'MEM': 16.597741063539107,  'MFE': 11.38984081922336,  'MFR': 12.559878486201596,  'MGM': 14.591127219034195,  'MHK': 11.933784487246227,  'MHT': 12.647186784219887,  'MIA': 17.34915347193305,  'MKE': 13.43113467020053,  'MKG': 12.756361323155216,  'MLB': 14.849304046986886,  'MLI': 12.157312368057072,  'MLU': 11.461717978637465,  'MMH': 16.673300165837478,  'MOB': 11.926536927670146,  'MOD': 10.728820714888826,  'MOT': 16.249092938878036,  'MQT': 13.202608202608202,  'MRY': 12.633564753004006,  'MSN': 13.289351288326264,  'MSO': 13.024281363427761,  'MSP': 18.11098626886552,  'MSY': 10.979831126705456,  'MTJ': 12.973741454319454,  'MVY': 12.816874400767018,  'MWH': 11.006042296072508,  'MYR': 13.729219143576826,  'OAJ': 12.381083333333333,  'OAK': 10.151595243621074,  'OGG': 9.010587603419117,  'OKC': 11.749356053100852,  'OMA': 12.774665970709815,  'OME': 6.156851800167457,  'ONT': 10.51756553900948,  'ORD': 17.86757774754833,  'ORF': 13.092007028831224,  'ORH': 12.619944852941176,  'OTH': 10.3954792938459,  'OTZ': 6.343890134529148,  'OXR': 9.16340694006309,  'PAH': 11.26412310286678,  'PBG': 14.122913505311077,  'PBI': 13.297786318862496,  'PDX': 12.09092530615885,  'PFN': 13.697211155378486,  'PGD': 13.115384615384615,  'PHF': 12.17515748031496,  'PHL': 21.851512531593247,  'PHX': 14.863555462379272,  'PIA': 13.666412746778391,  'PIB': 12.748498498498499,  'PIE': 11.232142857142858,  'PIH': 10.689840797159546,  'PIR': 17.666666666666668,  'PIT': 14.397676743864668,  'PLN': 15.83971481383681,  'PNS': 12.86594037352219,  'PPG': 10.38021978021978,  'PSC': 12.464363277393879,  'PSE': 12.81560397308555,  'PSG': 8.732161874334398,  'PSP': 13.114887252646112,  'PUB': 11.490140845070423,  'PVD': 12.804896580835795,  'PWM': 14.540161860348396,  'RAP': 13.279319078753607,  'RDD': 12.426957057735772,  'RDM': 11.585920456452424,  'RDU': 14.799165344044358,  'RFD': 11.54225352112676,  'RHI': 15.774304700959881,  'RIC': 15.486826886969583,  'RKS': 11.552669552669553,  'RNO': 11.696541521044619,  'ROA': 14.987925849454644,  'ROC': 14.552603975786374,  'ROW': 9.848824047289648,  'RST': 13.155454301795766,  'RSW': 12.505353947790981,  'SAF': 12.223800056802045,  'SAN': 13.862405487339284,  'SAT': 11.473543809566703,  'SAV': 15.243645566864421,  'SBA': 11.66911784769025,  'SBN': 14.8468629887582,  'SBP': 11.71525594637879,  'SCC': 6.731878156051474,  'SCE': 13.191223193010325,  'SDF': 13.370317956104138,  'SEA': 15.98443794396452,  'SFO': 17.37344151318422,  'SGF': 13.915343411044816,  'SGU': 11.43072307230723,  'SHD': 11.016666666666667,  'SHV': 10.09940537745605,  'SIT': 11.551291939838025,  'SJC': 11.223326289285554,  'SJT': 9.402471855115026,  'SJU': 13.815228034011852,  'SLC': 18.05350806095322,  'SMF': 10.750683546966103,  'SMX': 11.501387809481514,  'SNA': 12.219444690799996,  'SPI': 11.55369322304455,  'SPN': 8.5,  'SPS': 11.577980280848521,  'SRQ': 11.95467089264734,  'STC': 17.647969052224372,  'STL': 11.343663784966486,  'STT': 13.839118936832591,  'STX': 12.02761760242792,  'SUN': 10.601664780992403,  'SUX': 13.440533530937385,  'SWF': 15.146172337278106,  'SYR': 16.188628950810443,  'TEX': 18.528384279475983,  'TLH': 13.633042744656917,  'TOL': 12.038478166882836,  'TPA': 12.326857108840754,  'TRI': 14.631188360511668,  'TTN': 13.204094689699296,  'TUL': 12.251295246462913,  'TUP': 7.0,  'TUS': 11.652213689310381,  'TVC': 13.725043429079303,  'TWF': 10.827984057058947,  'TXK': 8.876534208287763,  'TYR': 9.716490469943668,  'TYS': 14.089369933017325,  'UST': 10.347408829174665,  'UTM': 14.392156862745098,  'VEL': 7.678420310296191,  'VLD': 12.105528255528256,  'VPS': 14.779440042260962,  'WRG': 8.116901408450705,  'WYS': 9.217803030303031,  'XNA': 13.718426173130005,  'YAK': 8.26093832366895,  'YUM': 12.869121860778696}\n",
        "    default_value_taxiout = np.mean(list(dict_avgtaxiout_origin.values()))\n",
        "    avgtaxiout = dict_avgtaxiout_origin.get(origin, default_value_taxiout)\n",
        "\n",
        "    #Organizing datapoints as tuplets of the form: (y_t, x_t)\n",
        "    return (cancelled, [date.day, date.month, date.weekday()+1, crs_elapsed_time, distance, avgdelay, avgtaxiout, \n",
        "                        x_crs_dep_time, y_crs_dep_time, x_crs_arr_time, y_crs_arr_time] + one_hot_opcarriers)\n",
        "\n",
        "#Applying split and casting\n",
        "train_rdd = train_rdd.map( lambda x:  feature_extraction(x) )\n",
        "val_rdd = val_rdd.map( lambda x:  feature_extraction(x) )\n",
        "test_rdd = test_rdd.map( lambda x:  feature_extraction(x) )\n",
        "complete_rdd = complete_rdd.map( lambda x:  feature_extraction(x) )"
      ]
    },
    {
      "cell_type": "markdown",
      "metadata": {
        "id": "vNe8RNId5yLH"
      },
      "source": [
        "### Missing values"
      ]
    },
    {
      "cell_type": "code",
      "execution_count": null,
      "metadata": {
        "colab": {
          "base_uri": "https://localhost:8080/"
        },
        "id": "9-XZYbd8TOc2",
        "outputId": "b24e35a9-c547-4cd3-dd80-31926b003d14"
      },
      "outputs": [
        {
          "name": "stderr",
          "output_type": "stream",
          "text": [
            "                                                                                \r"
          ]
        },
        {
          "name": "stdout",
          "output_type": "stream",
          "text": [
            "The number of rows having one or more missing values in train_rdd is 44.\n"
          ]
        },
        {
          "name": "stderr",
          "output_type": "stream",
          "text": [
            "                                                                                \r"
          ]
        },
        {
          "name": "stdout",
          "output_type": "stream",
          "text": [
            "The number of rows having one or more missing values in val_rdd is 7.\n"
          ]
        },
        {
          "name": "stderr",
          "output_type": "stream",
          "text": [
            "[Stage 3:======================================================>  (26 + 1) / 27]\r"
          ]
        },
        {
          "name": "stdout",
          "output_type": "stream",
          "text": [
            "The number of rows having one or more missing values in test_rdd is 10.\n"
          ]
        },
        {
          "name": "stderr",
          "output_type": "stream",
          "text": [
            "                                                                                \r"
          ]
        }
      ],
      "source": [
        "print(f\"The number of rows having one or more missing values in train_rdd is {train_rdd.filter(lambda x: -1 in x[1][:7] or (x[1][7]==None and x[1][8]==None) or ( x[1][9]==None and x[1][10]==None) ).count()}.\")\n",
        "print(f\"The number of rows having one or more missing values in val_rdd is {val_rdd.filter(lambda x: -1 in x[1][:7] or (x[1][7]==None and x[1][8]==None) or ( x[1][9]==None and x[1][10]==None) ).count()}.\")\n",
        "print(f\"The number of rows having one or more missing values in test_rdd is {test_rdd.filter(lambda x: -1 in x[1][:7] or (x[1][7]==None and x[1][8]==None) or ( x[1][9]==None and x[1][10]==None) ).count()}.\")"
      ]
    },
    {
      "cell_type": "markdown",
      "metadata": {
        "id": "2RftZSKtLHpo"
      },
      "source": [
        "The number of rows with missing values in the dataset is very low, thus we assume that the mechanism behind missingess is Completely at Random (MCAR) and proceed discarding these rows."
      ]
    },
    {
      "cell_type": "code",
      "execution_count": 17,
      "metadata": {
        "id": "LWobJnc0Lgbs"
      },
      "outputs": [],
      "source": [
        "train_rdd = train_rdd.filter(lambda x: -1 not in x[1][:7] )\n",
        "val_rdd = val_rdd.filter(lambda x: -1 not in x[1][:7] )\n",
        "test_rdd = test_rdd.filter(lambda x: -1 not in x[1][:7] )"
      ]
    },
    {
      "cell_type": "markdown",
      "metadata": {
        "id": "UHrfoi1vZ9qX"
      },
      "source": [
        "### Features' Analysis"
      ]
    },
    {
      "cell_type": "code",
      "execution_count": null,
      "metadata": {
        "id": "D3maavSBaNy4",
        "outputId": "fe882a40-c1c9-43fb-c705-6cb2e393352b"
      },
      "outputs": [
        {
          "name": "stderr",
          "output_type": "stream",
          "text": [
            "                                                                                \r"
          ]
        }
      ],
      "source": [
        "no_cancelled_flights_per_month = complete_rdd.filter(lambda x: x[0]==-1).map(lambda x: (x[1][1], 1)).\\\n",
        "                                              reduceByKey(lambda x,y: x+y).collect()\n",
        "no_cancelled_flights_per_weekday = complete_rdd.filter(lambda x: x[0]==-1).map(lambda x: (x[1][2], 1)).\\\n",
        "                                                reduceByKey(lambda x,y: x+y).collect()"
      ]
    },
    {
      "cell_type": "code",
      "execution_count": null,
      "metadata": {
        "id": "85DmRkylGLvr",
        "outputId": "a762f25d-66d9-48cd-8513-5eec53f98fa6"
      },
      "outputs": [
        {
          "data": {
            "image/png": "[encoded data removed]",
            "text/plain": [
              "<Figure size 432x288 with 1 Axes>"
            ]
          },
          "metadata": {
            "needs_background": "light"
          },
          "output_type": "display_data"
        }
      ],
      "source": [
        "fig = plt.figure()\n",
        "ax = fig.add_axes([1,0,2,1.5])\n",
        "classes = [x[0] for x in no_cancelled_flights_per_month]\n",
        "values = [x[1] for x in no_cancelled_flights_per_month]\n",
        "ax.bar(classes, values, alpha=0.7, log=True)\n",
        "ax.set_title(f\"Cancellations per month\")\n",
        "plt.show()"
      ]
    },
    {
      "cell_type": "code",
      "execution_count": null,
      "metadata": {
        "id": "rFn51xbIGLvs",
        "outputId": "bd80b02d-dd1c-4b24-cfe7-38ab99d1816d"
      },
      "outputs": [
        {
          "data": {
            "image/png": "[encoded data removed]",
            "text/plain": [
              "<Figure size 432x288 with 1 Axes>"
            ]
          },
          "metadata": {
            "needs_background": "light"
          },
          "output_type": "display_data"
        }
      ],
      "source": [
        "fig = plt.figure()\n",
        "ax = fig.add_axes([1,0,1,1])\n",
        "classes = [x[0] for x in no_cancelled_flights_per_weekday]\n",
        "values = [x[1] for x in no_cancelled_flights_per_weekday]\n",
        "ax.bar(classes, values, alpha=0.7, log=True)\n",
        "ax.set_title(f\"Cancellations per weekday\")\n",
        "plt.show()"
      ]
    },
    {
      "cell_type": "markdown",
      "metadata": {
        "id": "XCbXo_a9gGC1"
      },
      "source": [
        "### Dataset balancing through Undersampling\n",
        "Since 1) the training dataset is really unbalanced (as the barplot shows), and 2) the class of Regular Flights contains (as expected) a lot of data, we proceed with an undersampling approach."
      ]
    },
    {
      "cell_type": "code",
      "execution_count": null,
      "metadata": {
        "colab": {
          "base_uri": "https://localhost:8080/"
        },
        "id": "zFBucQSoYkzD",
        "outputId": "c64777f3-9a33-4e11-b605-6583033bfa56"
      },
      "outputs": [
        {
          "name": "stderr",
          "output_type": "stream",
          "text": [
            "                                                                                \r"
          ]
        },
        {
          "name": "stdout",
          "output_type": "stream",
          "text": [
            "The number of cancelled flight in training set is  773905\n"
          ]
        },
        {
          "name": "stderr",
          "output_type": "stream",
          "text": [
            "[Stage 9:======================================================>(183 + 1) / 184]\r"
          ]
        },
        {
          "name": "stdout",
          "output_type": "stream",
          "text": [
            "The number of regular flight in training set is  47894949\n"
          ]
        },
        {
          "name": "stderr",
          "output_type": "stream",
          "text": [
            "                                                                                \r"
          ]
        }
      ],
      "source": [
        "no_cancelled_flights = train_rdd.filter(lambda x: x[0] == 1).count()\n",
        "print(\"The number of cancelled flight in training set is \", no_cancelled_flights)\n",
        "no_regular_flights = train_rdd.filter(lambda x: x[0] == -1).count()\n",
        "print(\"The number of regular flight in training set is \",no_regular_flights)"
      ]
    },
    {
      "cell_type": "code",
      "execution_count": null,
      "metadata": {
        "colab": {
          "base_uri": "https://localhost:8080/",
          "height": 369
        },
        "id": "72zXjp_KE9n_",
        "outputId": "06937694-fdf5-4828-9966-f1b368d6475f"
      },
      "outputs": [
        {
          "data": {
            "image/png": "[encoded data removed]",
            "text/plain": [
              "<Figure size 432x288 with 1 Axes>"
            ]
          },
          "metadata": {
            "needs_background": "light"
          },
          "output_type": "display_data"
        },
        {
          "name": "stdout",
          "output_type": "stream",
          "text": [
            "The training set shows an imbalance ratio of 61.88737506541501\n"
          ]
        }
      ],
      "source": [
        "fig = plt.figure()\n",
        "ax = fig.add_axes([0,0,0.6,1])\n",
        "classes = ['Regular', 'Cancelled']\n",
        "values = [no_regular_flights, no_cancelled_flights]\n",
        "ax.bar(classes, values, alpha=0.7, log=True)\n",
        "ax.set_title(f\"Classes count (training set)\")\n",
        "plt.show()\n",
        "\n",
        "print(f'The training set shows an imbalance ratio of {no_regular_flights/no_cancelled_flights}')"
      ]
    },
    {
      "cell_type": "code",
      "execution_count": 18,
      "metadata": {
        "id": "anCBW2KvffTm"
      },
      "outputs": [],
      "source": [
        "# The fractions values were computed according to number of cancelled flight in the \n",
        "# considered dataset, aiming at classes balancing\n",
        "\n",
        "fractions_train = {-1: 0.0162, 1: 1.0}\n",
        "fractions_val = {-1: 0.0147, 1: 1.0}\n",
        "sampled_train_rdd = train_rdd.sampleByKey(False, fractions_train)\n",
        "sampled_val_rdd = val_rdd.sampleByKey(False, fractions_val)"
      ]
    },
    {
      "cell_type": "code",
      "execution_count": 19,
      "metadata": {
        "id": "zy2WARnC3Tnq"
      },
      "outputs": [],
      "source": [
        "train_rdd = sampled_train_rdd.map(lambda x: (x[1], x[0]))\n",
        "val_rdd = sampled_val_rdd.map(lambda x: (x[1], x[0]))\n",
        "test_rdd = test_rdd.map(lambda x: (x[1], x[0]))"
      ]
    },
    {
      "cell_type": "markdown",
      "metadata": {
        "id": "YrNDt14au1nU"
      },
      "source": [
        "### Z-score normalization\n",
        "This step is essential to make the Logistic Regression model learn properly. A neural network may work with non-normalized data, because the number of parameters is often sufficient to learn the various scales of the data. In this case the number of weights is significantly less and this step is a must."
      ]
    },
    {
      "cell_type": "code",
      "execution_count": null,
      "metadata": {
        "id": "AHkHkjcuGLvu",
        "outputId": "7e0e2909-9e7d-4abf-f41e-c278b96c3e32"
      },
      "outputs": [
        {
          "name": "stderr",
          "output_type": "stream",
          "text": [
            "                                                                                \r"
          ]
        }
      ],
      "source": [
        "# WARNING! Time consuming cell (execute the next one)\n",
        "temp_rdd = train_rdd.map(lambda x: x[0][:7]) # temp rdd containing the features' values we want to normalize, aiming to compute means and variances\n",
        "summary = Statistics.colStats(temp_rdd)\n",
        "means = np.array(summary.mean())  # column-wise mean\n",
        "stds = np.sqrt(summary.variance())  # column-wise standard deviation"
      ]
    },
    {
      "cell_type": "code",
      "execution_count": 20,
      "metadata": {
        "id": "dNc3D79uXIVB"
      },
      "outputs": [],
      "source": [
        "# Execute this cell to avoid waiting for the execution of previous one, these are precomputed values\n",
        "means = np.array([ 15.72328221, 6.04090796,   2.84695255, 127.17727882, 700.0295384, 57.40500153,  15.97605047])\n",
        "stds = np.array([  8.93098245,   3.56302623,   1.98154978,  68.01001087, 547.62446162, 5.6612637,    3.86040758])"
      ]
    },
    {
      "cell_type": "code",
      "execution_count": 21,
      "metadata": {
        "id": "T4LrmrUqu0bH"
      },
      "outputs": [],
      "source": [
        "#Broadcastings vectors of means and standard deviations to all cluster nodes\n",
        "broadcasted_means = sc.broadcast(means)\n",
        "broadcasted_stds = sc.broadcast(stds)\n",
        "\n",
        "#Subtracting mean and dividing by standard deviation column wise\n",
        "train_rdd = train_rdd.map(lambda x: ( np.concatenate( ((x[0][:7] - broadcasted_means.value)/broadcasted_stds.value, \n",
        "                                                       x[0][7:]), axis =None) , x[1] ))\n",
        "\n",
        "#Using the means and standard deviations of training set for normalizing the test set\n",
        "val_rdd = val_rdd.map(lambda x: ( np.concatenate( ((x[0][:7] - broadcasted_means.value)/broadcasted_stds.value, \n",
        "                                                   x[0][7:]), axis =None) , x[1] ))\n",
        "test_rdd = test_rdd.map(lambda x: ( np.concatenate( ((x[0][:7] - broadcasted_means.value)/broadcasted_stds.value, \n",
        "                                                     x[0][7:]), axis =None) , x[1] ))"
      ]
    },
    {
      "cell_type": "markdown",
      "metadata": {
        "id": "6g-Gses4TVdY"
      },
      "source": [
        "# Model learning\n",
        "In this part of the code you will find a from scratch implementation of the learning algorithm.\n",
        "The choice of not wrapping inside the Classifier Class functions, such as train(), evaluate(), etc., was somehow forced by the fact that we can't use broadcast variables' values inside a class method (due to PySpark restrictions). Since the process of weights broadcasting is a key ingredient for an actual Distribution of Computation, we resorted to a DataClass that represents the classifier and implemented functions working on the struct."
      ]
    },
    {
      "cell_type": "code",
      "execution_count": null,
      "metadata": {
        "id": "O0yqy9hEUNQA"
      },
      "outputs": [],
      "source": [
        "@dataclass\n",
        "class DistributedLogisticRegressionClassifier:\n",
        "    \"\"\"\n",
        "    A data class to represent a Distributed (rdd-based) Logistic Regression Classifier\n",
        "\n",
        "    Attributes\n",
        "    ----------\n",
        "    n_iters :: int\n",
        "        The number of iterations to do during the Gradient Descent Procedure\n",
        "    initial_lr : float\n",
        "        The starting learning rate to consider in the optimization.\n",
        "    alpha : float\n",
        "        Regularization parameter\n",
        "    weights: pyspark.broadcast.Broadcast\n",
        "        Broadcast variable reference containing the last weights' values\n",
        "    \"\"\"\n",
        "    n_iters : int\n",
        "    initial_lr : float\n",
        "    alpha : float\n",
        "    weights : pyspark.broadcast.Broadcast = None\n",
        "\n",
        "\n",
        "def log_loss(z):\n",
        "    \"\"\"\n",
        "    Computes the logistic loss for the provided argument in a stable way.\n",
        "\n",
        "    Attributes\n",
        "    ----------\n",
        "    z : float\n",
        "        The dot product between the datapoint x and the vector of weights, multiplied by the label y (1, -1)\n",
        "\n",
        "    \"\"\"\n",
        "    #return log(1+ exp(-z)) (Non stable)\n",
        "    return np.logaddexp(0, -z) # Stable\n",
        "\n",
        "def sigmoid(u):\n",
        "    \"\"\"\n",
        "    Computes the sigmoid function for the provided argument in a stable way.\n",
        "\n",
        "    Attributes\n",
        "    ----------\n",
        "    u : float\n",
        "        The argument of the function\n",
        "    \"\"\"\n",
        "    #return 1/(1 + exp(-u)) (Non stable)\n",
        "    return np.exp(-np.logaddexp(0, -u)) # Stable\n",
        "\n",
        "def compute_gradient_summand(row, w, alpha):\n",
        "    x = row[0]\n",
        "    y = row[1]\n",
        "    return np.add( (1 - sigmoid( (y* dot(w, x)) ))*(-1)*y * x , alpha * w)\n",
        "\n",
        "def squared_l2_norm(x):\n",
        "    return np.sum(np.power((x),2))\n",
        "\n",
        "def cost( clf: DistributedLogisticRegressionClassifier, rdd: pyspark.rdd.PipelinedRDD):\n",
        "    \"\"\"\n",
        "    Computes the average error that the provided DistributedLogisticRegressionClassifier is committing \n",
        "    on the provided rdd, with respect to the logarithmic loss.\n",
        "\n",
        "    Parameters\n",
        "    ----------\n",
        "        clf :: DistributedLogisticRegressionClassifier\n",
        "            A DistributedLogisticRegressionClassifier object whose hyperparameters are correctly initialized.\n",
        "\n",
        "        train_rdd :: pyspark.rdd.PipelinedRDD\n",
        "            A paired rdd, whose tuplets are expected to be labeled datapoints with the form: (values: np.array, label: int ), to compute the cost of the classifier on.\n",
        "\n",
        "    Returns\n",
        "    ------\n",
        "        cost :: float\n",
        "            Average error of the classifier on the provided rdd.\n",
        "    \"\"\"\n",
        "    rdd = rdd.map(lambda x: (np.insert(x[0], 0, 1), x[1])) # Affine transformation: : concatenating a column of 1 to data matrix\n",
        "    n = rdd.count()\n",
        "    losses = rdd.map(lambda x: log_loss( x[1]* dot(x[0], clf.weights.value)) + clf.alpha * squared_l2_norm(clf.weights.value) ) #Log loss + Regularization with squared l2 norm\n",
        "    return losses.reduce(lambda x, y: x + y)/n\n",
        "\n",
        "def train( clf: DistributedLogisticRegressionClassifier, train_rdd: pyspark.rdd.PipelinedRDD, mini_batch: bool):\n",
        "    \"\"\"\n",
        "    Trains the provided DistributedLogisticRegressionClassifier in a distributed fashion\n",
        "    using data from a paired rdd (train_rdd) containing labeled datapoints.\n",
        "\n",
        "    Parameters\n",
        "    ----------\n",
        "        clf :: DistributedLogisticRegressionClassifier\n",
        "            A DistributedLogisticRegressionClassifier object whose hyperparameters are correctly initialized.\n",
        "\n",
        "        train_rdd :: pyspark.rdd.PipelinedRDD\n",
        "            A paired rdd, whose tuplets are expected to be labeled datapoints with the form: (values: np.array, label: int ), to train the classifier on.\n",
        "        \n",
        "        mini_batch :: bool\n",
        "            Using or not using mini batches during training, if False we use classical determinist gradient descent\n",
        "    Returns\n",
        "    ------\n",
        "        weights :: np.array\n",
        "            The last found weights' values\n",
        "        loss_history :: list\n",
        "            A list containg the loss evolution during training\n",
        "    \"\"\"\n",
        "    train_rdd = train_rdd.map(lambda x: (np.insert(x[0], 0, 1), x[1])) # Affine transformation: : concatenating a column of 1 to data matrix\n",
        "    w = np.zeros( train_rdd.first()[0].shape[0] )\n",
        "    clf.weights = sc.broadcast(w)       # broadcasting weights\n",
        "    cost_history = []\n",
        "    n = train_rdd.count()\n",
        "\n",
        "    progressbar = tqdm(range( clf.n_iters ))\n",
        "    for i in progressbar:\n",
        "\n",
        "        if mini_batch:\n",
        "            temp_rdd = train_rdd.sample(withReplacement = False, fraction = 0.01)\n",
        "            gradient_terms = temp_rdd.map(lambda row: compute_gradient_summand( row, clf.weights.value, clf.alpha))\\\n",
        "                              .reduce(lambda row1, row2: np.add(row1, row2)) / (n*0.01)\n",
        "        else:\n",
        "            gradient_terms = train_rdd.map(lambda row: compute_gradient_summand( row, clf.weights.value, clf.alpha))\\\n",
        "                                .reduce(lambda row1, row2: np.add(row1, row2)) / n\n",
        "        \n",
        "        learning_rate = clf.initial_lr / np.sqrt( 1 + i ) #decaying the learning rate \n",
        "        step = learning_rate * gradient_terms\n",
        "        w = clf.weights.value - step\n",
        "        clf.weights = sc.broadcast(w)    # re-broadcasting weights at each iteration\n",
        "\n",
        "        losses = train_rdd.map(lambda x: log_loss( x[1]* dot(x[0], clf.weights.value))  + clf.alpha * squared_l2_norm(clf.weights.value) )\n",
        "        cost = losses.reduce(lambda x, y: x + y)/n\n",
        "        progressbar.set_description(f\"cost: {cost}\", refresh=True)\n",
        "        cost_history.append( cost )\n",
        "\n",
        "    return clf.weights.value, cost_history\n",
        "  \n",
        "def evaluate( clf: DistributedLogisticRegressionClassifier, test_rdd: pyspark.rdd.PipelinedRDD, run_type: str ):\n",
        "    \"\"\"\n",
        "    Evaluates the provided DistributedLogisticRegressionClassifier in a distributed fashion\n",
        "    using data from a paired rdd (test_rdd) containing labeled datapoints\n",
        "\n",
        "    Parameters\n",
        "    ----------\n",
        "        clf :: DistributedLogisticRegressionClassifier\n",
        "            A DistributedLogisticRegressionClassifier object whose hyperparameters are correctly initialized.\n",
        "\n",
        "        test_rdd :: pyspark.rdd.PipelinedRDD\n",
        "            A paired rdd, whose tuplets are expected to be labeled datapoints with the form: (values: np.array, label: int ), to evaluate the classifier on.\n",
        "\n",
        "        run_type :: str\n",
        "            A string describing the type of evaluation, Eg: train, test, val.\n",
        "\n",
        "    Returns\n",
        "    ------\n",
        "        evaluation :: pd.DataFrame\n",
        "            DataFrame containing the evaluation of the Model on commonly used metrics in the binary classification setting.\n",
        "    \"\"\"\n",
        "    cost_logloss = cost(clf, test_rdd)\n",
        "    test_rdd = test_rdd.map(lambda x: ( np.insert(x[0], 0, 1), x[1]))\n",
        "    predictions_rdd = test_rdd.map(lambda x: ( x[1], sigmoid( dot(x[0], clf.weights.value )), 1 if sigmoid( dot(x[0], clf.weights.value ) )>0.5 else -1 ) )\n",
        "\n",
        "    TN = predictions_rdd.filter(lambda x: x[0] == -1 and x[2] ==-1).count()\n",
        "    TP = predictions_rdd.filter(lambda x: x[0] == 1 and x[2] ==1).count()\n",
        "    FN = predictions_rdd.filter(lambda x: x[0] == 1 and x[2] ==-1).count()\n",
        "    FP = predictions_rdd.filter(lambda x: x[0] == -1 and x[2] ==1).count()\n",
        "    precision = TP / (TP + FP)\n",
        "    recall = TP / (TP + FN)\n",
        "    f1 =  2 * (precision*recall) / (precision + recall)\n",
        "    acc = (TP+TN)/(TP+TN+FN+FP)\n",
        "    recall = TP/(TP+FN)\n",
        "    specificity = TN/(TN+FP)\n",
        "    \n",
        "    # Adapt predictions to MLlib required formate (score: float, label: {0,1})\n",
        "    predictionAndLabels = predictions_rdd.map(lambda x: ( float(x[1]), 0.0 if x[0]==-1 else 1.0 ))\n",
        "    metrics = BinaryClassificationMetrics(predictionAndLabels)    \n",
        "    print(f'TN {TN}, TP {TP}, FN {FN}, FP {FP}')\n",
        "    return pd.DataFrame([[cost_logloss, f1, acc, recall, specificity, precision, metrics.areaUnderPR,  metrics.areaUnderROC, TP , TN, FP, FN, run_type]], columns = ['Cost', 'F1 score', 'Accuracy', 'Recall', 'Specificity', 'Precision', 'AUPRC', 'AUROC', 'TP', 'TN', 'FP', 'FN', 'run_type'])"
      ]
    },
    {
      "cell_type": "code",
      "execution_count": null,
      "metadata": {
        "id": "D4yDFB2M2hU0",
        "outputId": "d36ca461-5d31-4186-8843-b91128dbb37a"
      },
      "outputs": [
        {
          "name": "stderr",
          "output_type": "stream",
          "text": [
            "                                                                                \r"
          ]
        },
        {
          "data": {
            "text/plain": [
              "7213436"
            ]
          },
          "execution_count": 19,
          "metadata": {},
          "output_type": "execute_result"
        }
      ],
      "source": [
        "#Warning! Time consuming cell, we cache the rdds so that the training phase will be faster\n",
        "train_rdd.cache().count()\n",
        "test_rdd.cache().count()"
      ]
    },
    {
      "cell_type": "code",
      "execution_count": null,
      "metadata": {
        "id": "5uTuGTYtARac",
        "colab": {
          "referenced_widgets": [
            "634ef56e18c2459891a6f9772618bc5c"
          ]
        },
        "outputId": "22ef9788-b078-473a-b458-29ba45ad78a2"
      },
      "outputs": [
        {
          "name": "stderr",
          "output_type": "stream",
          "text": [
            "                                                                                \r"
          ]
        },
        {
          "data": {
            "application/vnd.jupyter.widget-view+json": {
              "model_id": "634ef56e18c2459891a6f9772618bc5c",
              "version_major": 2,
              "version_minor": 0
            },
            "text/plain": [
              "  0%|          | 0/100 [00:00<?, ?it/s]"
            ]
          },
          "metadata": {},
          "output_type": "display_data"
        },
        {
          "name": "stderr",
          "output_type": "stream",
          "text": [
            "[Stage 215:====================================================>(181 + 3) / 184]\r"
          ]
        },
        {
          "name": "stdout",
          "output_type": "stream",
          "text": [
            "CPU times: user 27.8 s, sys: 7.19 s, total: 34.9 s\n",
            "Wall time: 1h 11min 28s\n"
          ]
        },
        {
          "name": "stderr",
          "output_type": "stream",
          "text": [
            "                                                                                \r"
          ]
        }
      ],
      "source": [
        "dlr = DistributedLogisticRegressionClassifier( n_iters=100, initial_lr=1, alpha=0.01)\n",
        "%time w, cost_history = train( dlr, train_rdd , mini_batch = False)"
      ]
    },
    {
      "cell_type": "code",
      "execution_count": null,
      "metadata": {
        "colab": {
          "base_uri": "https://localhost:8080/"
        },
        "id": "_C911Rkz7y3g",
        "outputId": "8ee7ba1a-5791-41b2-d9b0-3b336bc57bec"
      },
      "outputs": [
        {
          "name": "stderr",
          "output_type": "stream",
          "text": [
            "/usr/local/spark/python/pyspark/sql/context.py:125: FutureWarning: Deprecated in 3.0.0. Use SparkSession.builder.getOrCreate() instead.\n",
            "  warnings.warn(\n"
          ]
        },
        {
          "name": "stdout",
          "output_type": "stream",
          "text": [
            "TN 480029, TP 485881, FN 288024, FP 296685\n"
          ]
        },
        {
          "name": "stderr",
          "output_type": "stream",
          "text": [
            "                                                                                \r"
          ]
        },
        {
          "name": "stdout",
          "output_type": "stream",
          "text": [
            "TN 4368537, TP 73228, FN 43353, FP 2728318\n"
          ]
        },
        {
          "name": "stderr",
          "output_type": "stream",
          "text": [
            "                                                                                \r"
          ]
        }
      ],
      "source": [
        "train_evaluation = evaluate(dlr, train_rdd, 'Train')\n",
        "test_evaluation = evaluate(dlr, test_rdd, 'Test')"
      ]
    },
    {
      "cell_type": "code",
      "execution_count": null,
      "metadata": {
        "id": "-NHWTRPSU3H1"
      },
      "outputs": [],
      "source": [
        "evaluations = pd.concat([train_evaluation, test_evaluation])"
      ]
    },
    {
      "cell_type": "code",
      "execution_count": null,
      "metadata": {
        "id": "X5U6HWU-GLvy",
        "outputId": "4f50446a-5ea8-4ebc-9f02-46e0fbbd7e29"
      },
      "outputs": [
        {
          "data": {
            "text/html": [
              "<div>\n",
              "<style scoped>\n",
              "    .dataframe tbody tr th:only-of-type {\n",
              "        vertical-align: middle;\n",
              "    }\n",
              "\n",
              "    .dataframe tbody tr th {\n",
              "        vertical-align: top;\n",
              "    }\n",
              "\n",
              "    .dataframe thead th {\n",
              "        text-align: right;\n",
              "    }\n",
              "</style>\n",
              "<table border=\"1\" class=\"dataframe\">\n",
              "  <thead>\n",
              "    <tr style=\"text-align: right;\">\n",
              "      <th></th>\n",
              "      <th>Cost</th>\n",
              "      <th>F1 score</th>\n",
              "      <th>Accuracy</th>\n",
              "      <th>Recall</th>\n",
              "      <th>Specificity</th>\n",
              "      <th>Precision</th>\n",
              "      <th>AUPRC</th>\n",
              "      <th>AUROC</th>\n",
              "      <th>TP</th>\n",
              "      <th>TN</th>\n",
              "      <th>FP</th>\n",
              "      <th>FN</th>\n",
              "      <th>run_type</th>\n",
              "    </tr>\n",
              "  </thead>\n",
              "  <tbody>\n",
              "    <tr>\n",
              "      <th>0</th>\n",
              "      <td>0.654575</td>\n",
              "      <td>0.624337</td>\n",
              "      <td>0.622919</td>\n",
              "      <td>0.62783</td>\n",
              "      <td>0.618025</td>\n",
              "      <td>0.620882</td>\n",
              "      <td>0.656440</td>\n",
              "      <td>0.666855</td>\n",
              "      <td>485881</td>\n",
              "      <td>480029</td>\n",
              "      <td>296685</td>\n",
              "      <td>288024</td>\n",
              "      <td>Train</td>\n",
              "    </tr>\n",
              "    <tr>\n",
              "      <th>0</th>\n",
              "      <td>0.650197</td>\n",
              "      <td>0.050188</td>\n",
              "      <td>0.615763</td>\n",
              "      <td>0.62813</td>\n",
              "      <td>0.615560</td>\n",
              "      <td>0.026138</td>\n",
              "      <td>0.031957</td>\n",
              "      <td>0.666136</td>\n",
              "      <td>73228</td>\n",
              "      <td>4368537</td>\n",
              "      <td>2728318</td>\n",
              "      <td>43353</td>\n",
              "      <td>Test</td>\n",
              "    </tr>\n",
              "  </tbody>\n",
              "</table>\n",
              "</div>"
            ],
            "text/plain": [
              "       Cost  F1 score  Accuracy   Recall  Specificity  Precision     AUPRC  \\\n",
              "0  0.654575  0.624337  0.622919  0.62783     0.618025   0.620882  0.656440   \n",
              "0  0.650197  0.050188  0.615763  0.62813     0.615560   0.026138  0.031957   \n",
              "\n",
              "      AUROC      TP       TN       FP      FN run_type  \n",
              "0  0.666855  485881   480029   296685  288024    Train  \n",
              "0  0.666136   73228  4368537  2728318   43353     Test  "
            ]
          },
          "execution_count": 23,
          "metadata": {},
          "output_type": "execute_result"
        }
      ],
      "source": [
        "evaluations"
      ]
    },
    {
      "cell_type": "markdown",
      "metadata": {
        "id": "mfpVaUDBeh8z"
      },
      "source": [
        "### Comparison with PySpark MLlib LogisticRegressionWithSGD model"
      ]
    },
    {
      "cell_type": "markdown",
      "metadata": {
        "id": "Ft5cXQQL8zfH"
      },
      "source": [
        "#### Comparing performances\n",
        "In order to compare performances we need to transform -1 labels to 0 labels and create an RDD that contains LabeledPoint instances (this is required by MLLib implementation)"
      ]
    },
    {
      "cell_type": "code",
      "execution_count": 22,
      "metadata": {
        "id": "BloocI2PVUBO"
      },
      "outputs": [],
      "source": [
        "train_01labels = train_rdd.map(lambda x: LabeledPoint(label = 1 if x[1]==1 else 0, features = x[0]))\n",
        "test_01labels = test_rdd.map(lambda x: LabeledPoint(label = 1 if x[1]==1 else 0, features = x[0]))"
      ]
    },
    {
      "cell_type": "code",
      "execution_count": null,
      "metadata": {
        "colab": {
          "base_uri": "https://localhost:8080/"
        },
        "id": "dbi0nAb555O0",
        "outputId": "669eb335-1ac0-47c1-c12d-f3d1d9eaeabc"
      },
      "outputs": [
        {
          "name": "stderr",
          "output_type": "stream",
          "text": [
            "                                                                                \r"
          ]
        },
        {
          "data": {
            "text/plain": [
              "7213436"
            ]
          },
          "execution_count": 25,
          "metadata": {},
          "output_type": "execute_result"
        }
      ],
      "source": [
        "#Warning! Time consuming cell, caching the two rdds\n",
        "train_01labels.cache().count()\n",
        "test_01labels.cache().count()"
      ]
    },
    {
      "cell_type": "code",
      "execution_count": null,
      "metadata": {
        "colab": {
          "base_uri": "https://localhost:8080/"
        },
        "id": "mntDfl4CZiwX",
        "outputId": "a5b23dce-bf95-4d24-f562-d76445dafa94",
        "scrolled": true
      },
      "outputs": [
        {
          "name": "stderr",
          "output_type": "stream",
          "text": [
            "/usr/local/spark/python/pyspark/mllib/classification.py:325: FutureWarning: Deprecated in 2.0.0. Use ml.classification.LogisticRegression or LogisticRegressionWithLBFGS.\n",
            "  warnings.warn(\n",
            "[Stage 470:================================================>    (169 + 8) / 184]\r"
          ]
        },
        {
          "name": "stdout",
          "output_type": "stream",
          "text": [
            "CPU times: user 6.29 s, sys: 1.86 s, total: 8.15 s\n",
            "Wall time: 57min 48s\n"
          ]
        },
        {
          "name": "stderr",
          "output_type": "stream",
          "text": [
            "                                                                                \r"
          ]
        }
      ],
      "source": [
        "%time lrm = LogisticRegressionWithSGD.train( train_01labels, iterations=100, regParam = 0.01, validateData=False, intercept=True, convergenceTol = 0)"
      ]
    },
    {
      "cell_type": "code",
      "execution_count": null,
      "metadata": {
        "id": "4x2mrfVe_5yl",
        "outputId": "1cd77ce7-7195-42e3-fd81-053db1a281eb"
      },
      "outputs": [
        {
          "name": "stderr",
          "output_type": "stream",
          "text": [
            "[Stage 473:===============================================>     (164 + 8) / 184]\r"
          ]
        },
        {
          "name": "stdout",
          "output_type": "stream",
          "text": [
            "The cost of the PySpark MLlib implementation is  0.7084285913507112\n"
          ]
        },
        {
          "name": "stderr",
          "output_type": "stream",
          "text": [
            "                                                                                \r"
          ]
        }
      ],
      "source": [
        "def log_loss2(y, y_hat):\n",
        "  \"\"\"\n",
        "  Computes the logistic loss for the provided argument in a stable way, considering that labels are (0, 1).\n",
        "\n",
        "  \"\"\"\n",
        "  return y * np.logaddexp(0, -y_hat) + (1-y) * np.logaddexp(0, y_hat)\n",
        "\n",
        "lrm.clearThreshold()\n",
        "# Computing the cost on training data\n",
        "cost_lrm = train_01labels.map(lambda p: log_loss2( p.label, lrm.predict(p.features) ) ).\\\n",
        "                                        reduce(lambda x, y: x+y) / train_01labels.count()\n",
        "print('The cost of the PySpark MLlib implementation is ', cost_lrm)"
      ]
    },
    {
      "cell_type": "code",
      "execution_count": null,
      "metadata": {
        "id": "4LoMWYaLGLv0",
        "outputId": "41b009ed-e530-4900-b2d0-a0131a92d240"
      },
      "outputs": [
        {
          "name": "stderr",
          "output_type": "stream",
          "text": [
            "/usr/local/spark/python/pyspark/sql/context.py:125: FutureWarning: Deprecated in 3.0.0. Use SparkSession.builder.getOrCreate() instead.\n",
            "  warnings.warn(\n",
            "[Stage 488:====================================================>  (26 + 1) / 27]\r"
          ]
        },
        {
          "name": "stdout",
          "output_type": "stream",
          "text": [
            "Area under PR = 0.03223126768987526\n",
            "Area under ROC = 0.6673918923736566\n"
          ]
        },
        {
          "name": "stderr",
          "output_type": "stream",
          "text": [
            "                                                                                \r"
          ]
        }
      ],
      "source": [
        "# Evaluating the model on test data\n",
        "predictionAndLabels = test_01labels.map(lambda lp: (float(lrm.predict(lp.features)), lp.label))\n",
        "metrics = BinaryClassificationMetrics(predictionAndLabels)\n",
        "\n",
        "# Area under precision-recall curve\n",
        "print(\"Area under PR = %s\" % metrics.areaUnderPR)\n",
        "\n",
        "# Area under ROC curve\n",
        "print(\"Area under ROC = %s\" % metrics.areaUnderROC)"
      ]
    },
    {
      "cell_type": "markdown",
      "metadata": {
        "id": "rnx0PI-J87H7"
      },
      "source": [
        "#### Comparing weights' vectors"
      ]
    },
    {
      "cell_type": "code",
      "execution_count": null,
      "metadata": {
        "id": "uaUv6qkgx9i4"
      },
      "outputs": [],
      "source": [
        "dlr_weights = np.array(w[1:])\n",
        "lrm_weights = np.array(lrm.weights)\n",
        "np.set_printoptions(suppress=True)"
      ]
    },
    {
      "cell_type": "code",
      "execution_count": null,
      "metadata": {
        "id": "w5B2qQOMGLv2",
        "outputId": "06914df7-11da-496d-d299-ce5a21958169"
      },
      "outputs": [
        {
          "name": "stdout",
          "output_type": "stream",
          "text": [
            "The DistributedLogisticRegression weights are \n",
            " [ 0.01371916 -0.25346907 -0.06927461 -0.08836145 -0.166952    0.27612419\n",
            "  0.12842483 -0.03877994  0.0663145  -0.00029506  0.07250191 -0.02085119\n",
            "  0.0119814  -0.1885774  -0.0094984  -0.01437772 -0.03475279 -0.03792034\n",
            "  0.13786286 -0.00787203  0.03039421 -0.04225999 -0.10707362  0.0026105\n",
            " -0.01903167  0.02158695  0.00556203  0.04021875  0.0145203  -0.02943596\n",
            "  0.18663267  0.07525165  0.        ]\n"
          ]
        }
      ],
      "source": [
        "print(\"The DistributedLogisticRegression weights are \\n\", dlr_weights)"
      ]
    },
    {
      "cell_type": "code",
      "execution_count": null,
      "metadata": {
        "id": "6W7g8XLrGLv2",
        "outputId": "511ff512-756a-480c-f0f0-5d16234a0a96"
      },
      "outputs": [
        {
          "name": "stdout",
          "output_type": "stream",
          "text": [
            "The LogisticRegressionWithSGD weights are \n",
            " [ 0.01317415 -0.25445629 -0.06932562 -0.09006907 -0.17119094  0.27478791\n",
            "  0.12471993 -0.01071964  0.12618879  0.0427246   0.10962865 -0.03083971\n",
            " -0.00472708 -0.25258871 -0.04261749 -0.01796571 -0.05020806 -0.04391882\n",
            "  0.0619546  -0.01161006  0.00685804 -0.05981104 -0.20052228 -0.04853666\n",
            " -0.05849256  0.01319756 -0.00032005 -0.03418982 -0.00293288 -0.03827036\n",
            "  0.12365723  0.00808996  0.        ]\n"
          ]
        }
      ],
      "source": [
        "print(\"The LogisticRegressionWithSGD weights are \\n\", lrm_weights)"
      ]
    },
    {
      "cell_type": "code",
      "execution_count": null,
      "metadata": {
        "id": "S6yp6LcIGLv2",
        "outputId": "0f144983-e90b-4aaa-afd0-0e0f6eec3546"
      },
      "outputs": [
        {
          "data": {
            "text/plain": [
              "True"
            ]
          },
          "execution_count": 32,
          "metadata": {},
          "output_type": "execute_result"
        }
      ],
      "source": [
        "np.allclose(dlr_weights, lrm_weights, rtol=0.0, atol=0.1)"
      ]
    },
    {
      "cell_type": "code",
      "execution_count": null,
      "metadata": {
        "colab": {
          "base_uri": "https://localhost:8080/"
        },
        "id": "HNSMfP3IOlgn",
        "outputId": "d6843f82-60da-4849-f44b-fe9ba28eaca4"
      },
      "outputs": [
        {
          "name": "stdout",
          "output_type": "stream",
          "text": [
            "The mean squared error between the two weights vectors is 0.0014407515227577166\n"
          ]
        }
      ],
      "source": [
        "print(f\"The mean squared error between the two weights vectors is {(np.square(np.array(lrm.weights) - w[1:])).mean(axis=0)}\")"
      ]
    },
    {
      "cell_type": "markdown",
      "metadata": {
        "id": "MS5_eAvrHds8"
      },
      "source": [
        "#### Comparing execution time\n",
        "\n",
        "The execution time for both our implementation and MLLib one is very large and comparable, this is due to the fact that everything is run locally (we are just simulating parallelism). Clearly the MLLib implementation has a slight advantage because to optimize the cost function we just need to do an API call and then all the code is executed in Scala."
      ]
    },
    {
      "cell_type": "markdown",
      "metadata": {
        "id": "Y5xREPdc3nuP"
      },
      "source": [
        "### Is Mini Batch Gradient Descent effective in this setting?\n",
        "By working on a batch of the rdd at a time, the improvement made in one iteration may be little and thus more iterations are required to converge.\n",
        "Moreover, at each iteration the main rdd has to be sampled. Since Spark is lazy, some parts of the DAG concerning the operations on the main rdd might be re executed, causing enormous delays in the execution. Indeed there is not a strong difference between execution times."
      ]
    },
    {
      "cell_type": "code",
      "execution_count": null,
      "metadata": {
        "id": "Xbtrwj7-GLv3",
        "outputId": "07fff7c8-9b3a-4e6d-9093-b30ec0a086b1"
      },
      "outputs": [
        {
          "name": "stderr",
          "output_type": "stream",
          "text": [
            "                                                                                \r"
          ]
        },
        {
          "data": {
            "text/plain": [
              "1550619"
            ]
          },
          "execution_count": 53,
          "metadata": {},
          "output_type": "execute_result"
        }
      ],
      "source": [
        "#Warning! Time consuming cell, caching the rdd\n",
        "train_rdd.cache().count()"
      ]
    },
    {
      "cell_type": "code",
      "execution_count": null,
      "metadata": {
        "colab": {
          "base_uri": "https://localhost:8080/",
          "height": 1000,
          "referenced_widgets": [
            "98e1e64273be4a4e9e9a56fbb4de2a55",
            "ec08424ef606419a93eae5c34db33668",
            "f3cadfe461244a84b69f6c4a1609b0cd",
            "dd99e08ffcff407f8847738a285efa46",
            "39e0078a376f4c0f899467f2bd101846",
            "9fba13d64f2b4df79d2dee6703273653",
            "999da23e652342fa846d6299c86014eb",
            "ce8e8f5d02f94b58b169c80f3e987bb4",
            "52efecb3eb5145809cbcb06511a527a1",
            "9aa333345a5447169f05ef718fcd4eea",
            "38598b311eb3403ab0b097159335b6f9",
            "e945814885864100a2ea3b86050bfd75",
            "df5210b10f724c6789ee082621729a02",
            "991e7860747c48258d58e12048f340e3",
            "dce6bbf69ee84f268f661dc98414ff48",
            "ce693dded9ec47ad8cd6321f2f37b176",
            "3ed6bbee04f2440ebf1fbaa99c244708",
            "0de49aeb042e4a8ca96f440e1b00c35f",
            "766ee18a846a4de8aac5c3ae474676b7",
            "7449be24562a42fdb93ff2b6bee4f356",
            "ac3c4dbe03c24420ba68d59041218eb9",
            "13def3eee65b4ba090cdd18d64a45fee",
            "5d6b967b1774489b989976b25de849e6",
            "99adda742496484f8587b96ab3bf2404"
          ]
        },
        "id": "5pWoqafs4Ecq",
        "outputId": "07f435b0-a1e0-4a54-d2fb-b039d1717b24"
      },
      "outputs": [
        {
          "name": "stderr",
          "output_type": "stream",
          "text": [
            "                                                                                \r"
          ]
        },
        {
          "data": {
            "application/vnd.jupyter.widget-view+json": {
              "model_id": "5d6b967b1774489b989976b25de849e6",
              "version_major": 2,
              "version_minor": 0
            },
            "text/plain": [
              "  0%|          | 0/100 [00:00<?, ?it/s]"
            ]
          },
          "metadata": {},
          "output_type": "display_data"
        },
        {
          "name": "stderr",
          "output_type": "stream",
          "text": [
            "                                                                                \r"
          ]
        },
        {
          "name": "stdout",
          "output_type": "stream",
          "text": [
            "CPU times: user 22.7 s, sys: 5.33 s, total: 28.1 s\n",
            "Wall time: 51min 55s\n"
          ]
        },
        {
          "name": "stderr",
          "output_type": "stream",
          "text": [
            "                                                                                \r"
          ]
        },
        {
          "data": {
            "application/vnd.jupyter.widget-view+json": {
              "model_id": "99adda742496484f8587b96ab3bf2404",
              "version_major": 2,
              "version_minor": 0
            },
            "text/plain": [
              "  0%|          | 0/100 [00:00<?, ?it/s]"
            ]
          },
          "metadata": {},
          "output_type": "display_data"
        },
        {
          "name": "stderr",
          "output_type": "stream",
          "text": [
            "[Stage 5275:==================================================> (177 + 7) / 184]\r"
          ]
        },
        {
          "name": "stdout",
          "output_type": "stream",
          "text": [
            "CPU times: user 25.2 s, sys: 6.37 s, total: 31.6 s\n",
            "Wall time: 1h 9min 28s\n"
          ]
        },
        {
          "name": "stderr",
          "output_type": "stream",
          "text": [
            "                                                                                \r"
          ]
        }
      ],
      "source": [
        "dlr = DistributedLogisticRegressionClassifier( n_iters=100, initial_lr=1.0, alpha=0.01)\n",
        "%time w1 , minibatch_cost_history = train( dlr, train_rdd , mini_batch = True)\n",
        "%time w2 , vanilla_cost_history = train( dlr, train_rdd , mini_batch = False)"
      ]
    },
    {
      "cell_type": "code",
      "execution_count": null,
      "metadata": {
        "colab": {
          "base_uri": "https://localhost:8080/",
          "height": 398
        },
        "id": "UVBwgo6nlfvh",
        "outputId": "bc8cb1c9-3fa3-4968-b9d1-b78a96474a97",
        "scrolled": true
      },
      "outputs": [
        {
          "data": {
            "image/png": "[encoded data removed]",
            "text/plain": [
              "<Figure size 504x360 with 1 Axes>"
            ]
          },
          "metadata": {
            "needs_background": "light"
          },
          "output_type": "display_data"
        }
      ],
      "source": [
        "fig = plt.figure(figsize=(7, 5))\n",
        "x = [x for x in range(100)]\n",
        "  \n",
        "# plot lines\n",
        "plt.plot(x, vanilla_cost_history, label = \"Gradient Descent (1 h 9 min)\", alpha=0.5, lw=6, color='red')\n",
        "plt.plot(x, minibatch_cost_history, label = \"Mini-batch Gradient Descent (51 min)\", alpha=0.5, lw=3, color='green')\n",
        "plt.ylabel('Cost')\n",
        "plt.xlabel('iteration')\n",
        "plt.legend()\n",
        "plt.show()"
      ]
    },
    {
      "cell_type": "markdown",
      "metadata": {
        "id": "rdv2GE4GMrrK"
      },
      "source": [
        "# Hyperparameters tuning\n",
        "\n",
        "We will settle for a RandomSearch (30 trials) because of the prohibitive execution training time."
      ]
    },
    {
      "cell_type": "code",
      "execution_count": null,
      "metadata": {
        "id": "PbyDDyfdGuCE",
        "outputId": "bd5893e2-f7eb-4569-93f2-5c37406eab7d"
      },
      "outputs": [
        {
          "name": "stderr",
          "output_type": "stream",
          "text": [
            "                                                                                \r"
          ]
        },
        {
          "data": {
            "text/plain": [
              "165025"
            ]
          },
          "execution_count": 36,
          "metadata": {},
          "output_type": "execute_result"
        }
      ],
      "source": [
        "#Warning! Time consuming cell, caching the two rdds\n",
        "train_rdd.cache().count()\n",
        "val_rdd.cache().count()"
      ]
    },
    {
      "cell_type": "code",
      "execution_count": null,
      "metadata": {
        "id": "C4R7-zQ-hBJQ"
      },
      "outputs": [],
      "source": [
        "class RandomSearchTuner:\n",
        "    def __init__(self, param_grid):\n",
        "        self.param_grid = param_grid\n",
        "        self.results = dict()\n",
        "\n",
        "    def search(self, train_rdd: pyspark.rdd.RDD , validation_rdd: pyspark.rdd.RDD, n_trials: int):\n",
        "        param_lists = [ [ param_value for param_value in self.param_grid[param]]for param in self.param_grid]\n",
        "        # We compute all possible combinations for our param_grid using itertools.product\n",
        "        grid = list(product(*param_lists))\n",
        "        random.shuffle(grid)\n",
        "        reduced_grid = grid[:n_trials]\n",
        "        \n",
        "        for configuration in reduced_grid:    \n",
        "            # Now we unpack parameters' values to make them act as multiple arguments for the __init__ function of the ModelClass\n",
        "            current_dlr = DistributedLogisticRegressionClassifier(*[value for value in configuration])\n",
        "            train( current_dlr, train_rdd , mini_batch = False)\n",
        "\n",
        "            key = tuple(value for value in configuration)\n",
        "            print(f'Configuration: lr={current_dlr.initial_lr}, alpha={current_dlr.alpha}, max_iter={current_dlr.n_iters}')\n",
        "            evaluation = cost(current_dlr, validation_rdd)\n",
        "            self.results[key] = evaluation\n",
        "        return self.results\n",
        "    \n",
        "    def evaluate_bestconfig(self, train_rdd: pyspark.rdd.RDD , validation_rdd: pyspark.rdd.RDD, test_rdd: pyspark.rdd.RDD):\n",
        "        train_rdd = train_rdd.union(validation_rdd)\n",
        "        best_configuration = min(self.results, key=self.results.get) #argmin of dictionary\n",
        "        print(\"The best configuration we are evaluating is \", best_configuration)\n",
        "        dlr = DistributedLogisticRegressionClassifier(*[value for value in best_configuration])\n",
        "        train(dlr, train_rdd, mini_batch=False)\n",
        "        return evaluate(dlr, test_rdd, 'tuning_test')"
      ]
    },
    {
      "cell_type": "markdown",
      "metadata": {
        "id": "4Q9qCsSsGLv6"
      },
      "source": [
        "### Searching best hyperparameters"
      ]
    },
    {
      "cell_type": "code",
      "execution_count": null,
      "metadata": {
        "colab": {
          "base_uri": "https://localhost:8080/",
          "height": 1000,
          "referenced_widgets": [
            "0f5eb450ec2e480b82acbecfc52f967a",
            "84d40b52956b41c0ae0744b11833289c",
            "60571d4536944b85902887a5425bbdbb",
            "5df11b4fe78a40acbce74cde013011c2",
            "02707438aff64a18bb37e8f02e5c65c6",
            "42b2d1c9c54349f38726851df1a64188",
            "06976e6315254715ba332f42fc89d65f",
            "e10b091fca98485db8c6bb53fa52a466",
            "eff92e922e1f4fecadd639a216057596",
            "16a09e02868b412f842e92c2087729ee",
            "149c17348da44aab80dfbda547482329",
            "09dfacf5c9ab4911925bcce01a08787c",
            "0fab2701be2d40a981a8dc8e81b7df55",
            "e899d273f9144960a2604269c657b3c6",
            "1d9208c6ae8c4b3aa3c66a9c8ec523fb",
            "db5b5af34d2844a0aca0d07dbcd5b6e5",
            "a087ba4250e944899f6ebca3007930d0",
            "0dce1347990c4001a97a876435f7075e",
            "e14bec7da187434f9e532221571659e2",
            "b048b02017d74d37b5f211fa1fc4da32",
            "e29b8fb40c5e4430a8f3b1f6c14caffc",
            "a9cb6e4db328406faa91177da3cfcac6",
            "e0ca23e44d434672956c47ead7126264",
            "b9f17ad20b194c1c8357c9098fd8c115",
            "5065e01dd5434b9abf869a3fa2cd9dec",
            "61db403abcb245b295c74a235e12a583",
            "f1cd85076f294f1e9e0c1ca04fd9f7e8",
            "e30bb913edc84274a68a56b80ed50d35",
            "1fcda0c7bf5b4d489d885e72425d1937",
            "8d298b3251314d19ba99d9a4b30f126c",
            "48fe2b01f9424ebebaacdeae46f0d1fe",
            "9343adab461b42e2aa3e698abc8771e9",
            "99e98cf3857a449083eecf18c49a6d74",
            "1b70a022a10742fe870189fb5bd8371a",
            "7814e4f683b64f699847f7e0a7a77185",
            "f92f7123e87e48ee839f09a2fc4532fd",
            "aa44904b7daa489790d5199b42249d9c",
            "1f450df7cfae42ce9bc547ca53bd04ee",
            "cc9dbb71f8214331b3cdbe14a88c7a23",
            "04bed61157444cc5a73fcd0b6e04ee11",
            "fcc21464b3b04e25a49157babd9beca1",
            "8f68cdc07fcb41ca9e989b72f307590c",
            "87244c23d6d14aad8f53e843c67fc09f",
            "61257404f8cd44c29d6f4fed5e3f9f49",
            "18068600e0954e16a01596623ad87062",
            "9bf453586c204445b4bb0a7ccd683c60",
            "91e7897d1ec4450fa7c6d49d093568cd",
            "f2ff2a9805984dc096d74238e3692b2a",
            "205907bbf168422e9ec04b4a579c8f57",
            "858f1650c9b04088b41a938dae675ae5",
            "35ba52f1ea314265946aaf8a6d8e369b",
            "f23e232a54364ab6afe3e044c40284e5",
            "d33854ffb5284a4fbac1f4e0c57c9368",
            "a91c5b4e94b74d77ba321ffbd903868c",
            "df87d982c9f14859bcbdcf95fa932e52",
            "6f37b714580a448283bfe1853bc4aaf9",
            "8c945fed9df1438a92768b0c35b84db8",
            "324f1e74c83b4e8e81e86e0f2d087550",
            "db13303dd9dc46f2a0ffacc50c4791b6",
            "7ed83bd28dc24bcb9917bd72e4fe3da7",
            "989d25ea0c824685a8d0146f2ebb16d4",
            "6db9f16e798f483296f2df38656888d0",
            "c18588af5fdd4bc094a32a0489a94b31",
            "cba5a8c8906a460e90f2017075f096c0",
            "68f6ca0dd65b472e86c0098cdd9d9c7a",
            "3550e41853a74e88ad62054ca4fcedf8",
            "c4c4d6ae3cac4d54ae5ed5cca9ae17f9",
            "2b160a8a7ddb459e93da5413d1136d39",
            "edd5057fb6ef4f4fae766e5a57f3c5f4",
            "aeba2a51d6b7476e8271f03e26ac674d",
            "ebbea9d0cbdd4e729cc504765314f003",
            "ed0392365cbf4fb7b641505d548634c4",
            "e78b96c065fe46658a930ac8a43673b4",
            "ed89974b7f5541a38d7e8691c6a4d9de",
            "2c3c1186e71a4869a5fead96a2a6a82e",
            "0cc27e2b3f5e414aaa1f7b2481092641",
            "b94d2df22429476ca58b97e85cbfb1fb",
            "747387b1b46a42d5a438d19b5adcd856",
            "7f58ed70d5b0477ebbe8ad6ba6573499",
            "96e18c5625f744188d5b1447a0ded4c1",
            "e535ada499724b8f96512a05ecc5b204",
            "67c52b9d52894d0388d83013197442bf",
            "e9ca881396194dca89dbec9305a2a447",
            "1318d466f33847baaaea9df374b2f971",
            "3a186ca7240e4473be91a53dbabb46a5",
            "387503a4e544441ca7b9ef6a3d5ed35c",
            "5ffd3722546245fe962e50f7c5b8624f",
            "bc368db59e55463898fae1c71652efb6",
            "9125845de4154f5887f9f656f40acee8",
            "8ab20c521f564fada6fab706ae0ec6a0",
            "4bed2da24f9e46c9838c48e8738f1464",
            "6bdaefcf82b54594a1ed369629ac0c0e",
            "f76011a8c7e546c995e049b2eed43c6a",
            "03224af6e1944fe2aa5dfee0d1bfd275",
            "d1b9c3e4de7f4064aa828eedcdff4908",
            "54f2d957bace48528010f7109b44fd1d",
            "0eeb45387de64dc7bf265a9c9a3685d3",
            "566ec03a39a145a19eec857b179b47a9",
            "b2be0637f720416e821fa96f2820bdb1",
            "faba0f41cd6c4163b43e8778d19b6e66",
            "30c655253943439189820e1f06ae05f1",
            "884c2af573ec4c4fa21c32e39fdf7262",
            "802f91233cf547638609759d49b90a2a",
            "e9b0ed42af8243efaf43f504eb8dcbf4",
            "94aa0ad13a2a49bdb0dd2d5e95c4bbd4",
            "f27a2c93e47f46b19bebcf37fe729581",
            "9053fac889ac4551b67546e5296227cf",
            "8f1db7f4c11040d18b2b05fac0fe1d1c",
            "4bc202f1ed9149288541c411e844d459",
            "13673243061149c79384446e40798cb9",
            "612203a2efd14b51a04930dec4920d26",
            "70f99bb2aa6b41169ab61fa69cb7148c",
            "cc9e7ef78cac40389ac5cf72d4f58638",
            "8395d3f7d2ed4a45b52e5bbb228f9274",
            "630f40736eb54059ba807084dd149c22",
            "e916b701cbb14540932ca97317536518",
            "5a8d9060826249028d3049f461eedd65",
            "0324f10378eb45378d74f237c28414ef",
            "03bbcebba08f45cfb577e1b0fa246a6a",
            "65872b9bacfd4d0bb1e54898534a67b3",
            "f048f364f61c47a1bd416eef1af26643",
            "fb6f7441b2ee492fb60178cb64bb87e4",
            "df1f2b49d0084563824b57826658c7a2",
            "fc463f2fbe4a4ab1aae53331cc44d8d5",
            "39db20bc2b8443239a3424bcfb84f002",
            "a9fd3c03e9b6402bb991a335bf71f4b0",
            "9eb181ba72ad4989b8cbbeff6cd71b39",
            "4085b902725d4a36b7071eb7d2cdb843",
            "339f9e1b52334f688d4e4a7907243636",
            "cf62fe4ca46c4a81acdfd2b94699da2d",
            "9fca10a4ecd84bdb989236fd9944d5da",
            "0b79e68f46184635b15f0e698cbb9737",
            "378d4af65a97429a87192ac0b0e333f2",
            "18d0e281c5924f31acb54628644b9d8d",
            "dcef2946b72b467fa06ed5f1339d0474",
            "6632713786bb48fd97a1716e54705d3a",
            "c883d205bc9d4f27a6bfaf90bd4d3e39",
            "b1c17ad4b42b47f98d98a94518b07fe5",
            "c989b9943db44283bf40b44080a00779",
            "b76a4be14a16440181788b69cef9c0d9",
            "ed3c94f422dc4517807800ed51d5edd2",
            "7b1d5e8d8a2b46e4bebbb42028140ddc",
            "42ff66bf63bc46c1ba69b91e1722b82e",
            "52467d3808414db2afe2baee309b4885",
            "99d9a86c88954a6b9732c4253a859032",
            "bb23bbbfdd064d88b83cfcf2fb521157",
            "f8ec1a069fcf4ff6b7f3e2e21b3f049a",
            "c0d667e68d0f47d49933aceca8e0c511",
            "93bb81ac41804518a4d1f1b3324956b9",
            "42872394c36543fea91bf3d88f156b49",
            "2b43d2a964324d9b856b2f95f596025e",
            "3c33144df0af4b30a825ba455c18b6c5",
            "362db7b355414c53af9de2d6669db7a1",
            "ab4a51102ef2405bbef4748595b0e886",
            "f89d3a6f011c4bccad7b28c6fd791858",
            "3c2d303b06c1411184284b92fadbac0f",
            "19bb1ee0e10a45e8b6d8f72812b9d662",
            "7d8d3f76d3b84121b6791b8205fabd6e",
            "669de666a89f432482d20bcaaf4e66b9",
            "de33fba420f64341ac90d1a683f6044d",
            "a5ee280d669747cab073f6e2213c7038",
            "b70297fb025945f4924bfec8981b6a20",
            "c3141f121fb0401db742c251d36bf9a0",
            "2a9e948e00f04ed195c8098dece409ae",
            "f1d5f4bc86b14973bf5dd1d31c66bec3",
            "4a0e7f7edc2f494b83081c9e9ba202e2",
            "03ea2643153a46ed87ea2d5401362b3f",
            "ad965dde66804df68476caf190cd9676",
            "41ad069675b14b73b43cd8a03ee057a5",
            "748bf8d5a66344038b5bdd25200b54a6",
            "a8c4de5e77324166a5107f47091da9c0",
            "6b6f5b9bf3ed498e8f22272847ad8f53",
            "1dc621c4e39348b9913f8006676566ff",
            "243ed49e06da4cfbb6dd45c2c68e2942",
            "e7db5fe6063c48cc8d8fe31884c473fc",
            "734b4519f3c64067a77c8bfec3bf1e17",
            "6a97526232b440fc899688259cce41b7",
            "92aed8fa0fca458c997f655fc17f1e36",
            "997633488d144f01bb3bc9c2f263f6a1",
            "b01e410d8fa542f4940c26b6f9b53b0a",
            "45633e80e7a1438a9c97ff4064680c1f",
            "475d9b216073491bbc5427b15cdfb4d0",
            "da820086f3c44fa6b46389a66b83d838",
            "ef2adcca592e468cbc1e679633504f8e"
          ]
        },
        "id": "q9Z1HFxmkrVX",
        "outputId": "c00f9cde-e58b-46a9-cfda-23b949a079b6",
        "scrolled": true
      },
      "outputs": [
        {
          "name": "stderr",
          "output_type": "stream",
          "text": [
            "                                                                                \r"
          ]
        },
        {
          "data": {
            "application/vnd.jupyter.widget-view+json": {
              "model_id": "f89d3a6f011c4bccad7b28c6fd791858",
              "version_major": 2,
              "version_minor": 0
            },
            "text/plain": [
              "  0%|          | 0/100 [00:00<?, ?it/s]"
            ]
          },
          "metadata": {},
          "output_type": "display_data"
        },
        {
          "name": "stderr",
          "output_type": "stream",
          "text": [
            "                                                                                \r"
          ]
        },
        {
          "name": "stdout",
          "output_type": "stream",
          "text": [
            "Configuration: lr=0.1, alpha=0.1, max_iter=100\n"
          ]
        },
        {
          "name": "stderr",
          "output_type": "stream",
          "text": [
            "                                                                                \r"
          ]
        },
        {
          "data": {
            "application/vnd.jupyter.widget-view+json": {
              "model_id": "3c2d303b06c1411184284b92fadbac0f",
              "version_major": 2,
              "version_minor": 0
            },
            "text/plain": [
              "  0%|          | 0/100 [00:00<?, ?it/s]"
            ]
          },
          "metadata": {},
          "output_type": "display_data"
        },
        {
          "name": "stderr",
          "output_type": "stream",
          "text": [
            "                                                                                \r"
          ]
        },
        {
          "name": "stdout",
          "output_type": "stream",
          "text": [
            "Configuration: lr=0.01, alpha=0.1, max_iter=100\n"
          ]
        },
        {
          "name": "stderr",
          "output_type": "stream",
          "text": [
            "                                                                                \r"
          ]
        },
        {
          "data": {
            "application/vnd.jupyter.widget-view+json": {
              "model_id": "19bb1ee0e10a45e8b6d8f72812b9d662",
              "version_major": 2,
              "version_minor": 0
            },
            "text/plain": [
              "  0%|          | 0/50 [00:00<?, ?it/s]"
            ]
          },
          "metadata": {},
          "output_type": "display_data"
        },
        {
          "name": "stderr",
          "output_type": "stream",
          "text": [
            "                                                                                \r"
          ]
        },
        {
          "name": "stdout",
          "output_type": "stream",
          "text": [
            "Configuration: lr=0.01, alpha=0.001, max_iter=50\n"
          ]
        },
        {
          "name": "stderr",
          "output_type": "stream",
          "text": [
            "                                                                                \r"
          ]
        },
        {
          "data": {
            "application/vnd.jupyter.widget-view+json": {
              "model_id": "7d8d3f76d3b84121b6791b8205fabd6e",
              "version_major": 2,
              "version_minor": 0
            },
            "text/plain": [
              "  0%|          | 0/10 [00:00<?, ?it/s]"
            ]
          },
          "metadata": {},
          "output_type": "display_data"
        },
        {
          "name": "stderr",
          "output_type": "stream",
          "text": [
            "                                                                                \r"
          ]
        },
        {
          "name": "stdout",
          "output_type": "stream",
          "text": [
            "Configuration: lr=0.1, alpha=0.001, max_iter=10\n"
          ]
        },
        {
          "name": "stderr",
          "output_type": "stream",
          "text": [
            "                                                                                \r"
          ]
        },
        {
          "data": {
            "application/vnd.jupyter.widget-view+json": {
              "model_id": "669de666a89f432482d20bcaaf4e66b9",
              "version_major": 2,
              "version_minor": 0
            },
            "text/plain": [
              "  0%|          | 0/50 [00:00<?, ?it/s]"
            ]
          },
          "metadata": {},
          "output_type": "display_data"
        },
        {
          "name": "stderr",
          "output_type": "stream",
          "text": [
            "                                                                                \r"
          ]
        },
        {
          "name": "stdout",
          "output_type": "stream",
          "text": [
            "Configuration: lr=0.1, alpha=0.001, max_iter=50\n"
          ]
        },
        {
          "name": "stderr",
          "output_type": "stream",
          "text": [
            "                                                                                \r"
          ]
        },
        {
          "data": {
            "application/vnd.jupyter.widget-view+json": {
              "model_id": "de33fba420f64341ac90d1a683f6044d",
              "version_major": 2,
              "version_minor": 0
            },
            "text/plain": [
              "  0%|          | 0/100 [00:00<?, ?it/s]"
            ]
          },
          "metadata": {},
          "output_type": "display_data"
        },
        {
          "name": "stderr",
          "output_type": "stream",
          "text": [
            "                                                                                \r"
          ]
        },
        {
          "name": "stdout",
          "output_type": "stream",
          "text": [
            "Configuration: lr=1, alpha=0.1, max_iter=100\n"
          ]
        },
        {
          "name": "stderr",
          "output_type": "stream",
          "text": [
            "                                                                                \r"
          ]
        },
        {
          "data": {
            "application/vnd.jupyter.widget-view+json": {
              "model_id": "a5ee280d669747cab073f6e2213c7038",
              "version_major": 2,
              "version_minor": 0
            },
            "text/plain": [
              "  0%|          | 0/10 [00:00<?, ?it/s]"
            ]
          },
          "metadata": {},
          "output_type": "display_data"
        },
        {
          "name": "stderr",
          "output_type": "stream",
          "text": [
            "                                                                                \r"
          ]
        },
        {
          "name": "stdout",
          "output_type": "stream",
          "text": [
            "Configuration: lr=1, alpha=0.001, max_iter=10\n"
          ]
        },
        {
          "name": "stderr",
          "output_type": "stream",
          "text": [
            "                                                                                \r"
          ]
        },
        {
          "data": {
            "application/vnd.jupyter.widget-view+json": {
              "model_id": "b70297fb025945f4924bfec8981b6a20",
              "version_major": 2,
              "version_minor": 0
            },
            "text/plain": [
              "  0%|          | 0/10 [00:00<?, ?it/s]"
            ]
          },
          "metadata": {},
          "output_type": "display_data"
        },
        {
          "name": "stderr",
          "output_type": "stream",
          "text": [
            "                                                                                \r"
          ]
        },
        {
          "name": "stdout",
          "output_type": "stream",
          "text": [
            "Configuration: lr=1, alpha=0.1, max_iter=10\n"
          ]
        },
        {
          "name": "stderr",
          "output_type": "stream",
          "text": [
            "                                                                                \r"
          ]
        },
        {
          "data": {
            "application/vnd.jupyter.widget-view+json": {
              "model_id": "c3141f121fb0401db742c251d36bf9a0",
              "version_major": 2,
              "version_minor": 0
            },
            "text/plain": [
              "  0%|          | 0/50 [00:00<?, ?it/s]"
            ]
          },
          "metadata": {},
          "output_type": "display_data"
        },
        {
          "name": "stderr",
          "output_type": "stream",
          "text": [
            "                                                                                \r"
          ]
        },
        {
          "name": "stdout",
          "output_type": "stream",
          "text": [
            "Configuration: lr=0.01, alpha=0.1, max_iter=50\n"
          ]
        },
        {
          "name": "stderr",
          "output_type": "stream",
          "text": [
            "                                                                                \r"
          ]
        },
        {
          "data": {
            "application/vnd.jupyter.widget-view+json": {
              "model_id": "2a9e948e00f04ed195c8098dece409ae",
              "version_major": 2,
              "version_minor": 0
            },
            "text/plain": [
              "  0%|          | 0/10 [00:00<?, ?it/s]"
            ]
          },
          "metadata": {},
          "output_type": "display_data"
        },
        {
          "name": "stderr",
          "output_type": "stream",
          "text": [
            "                                                                                \r"
          ]
        },
        {
          "name": "stdout",
          "output_type": "stream",
          "text": [
            "Configuration: lr=1, alpha=0.01, max_iter=10\n"
          ]
        },
        {
          "name": "stderr",
          "output_type": "stream",
          "text": [
            "                                                                                \r"
          ]
        },
        {
          "data": {
            "application/vnd.jupyter.widget-view+json": {
              "model_id": "f1d5f4bc86b14973bf5dd1d31c66bec3",
              "version_major": 2,
              "version_minor": 0
            },
            "text/plain": [
              "  0%|          | 0/10 [00:00<?, ?it/s]"
            ]
          },
          "metadata": {},
          "output_type": "display_data"
        },
        {
          "name": "stderr",
          "output_type": "stream",
          "text": [
            "                                                                                \r"
          ]
        },
        {
          "name": "stdout",
          "output_type": "stream",
          "text": [
            "Configuration: lr=0.1, alpha=0.01, max_iter=10\n"
          ]
        },
        {
          "name": "stderr",
          "output_type": "stream",
          "text": [
            "                                                                                \r"
          ]
        },
        {
          "data": {
            "application/vnd.jupyter.widget-view+json": {
              "model_id": "4a0e7f7edc2f494b83081c9e9ba202e2",
              "version_major": 2,
              "version_minor": 0
            },
            "text/plain": [
              "  0%|          | 0/100 [00:00<?, ?it/s]"
            ]
          },
          "metadata": {},
          "output_type": "display_data"
        },
        {
          "name": "stderr",
          "output_type": "stream",
          "text": [
            "                                                                                \r"
          ]
        },
        {
          "name": "stdout",
          "output_type": "stream",
          "text": [
            "Configuration: lr=0.1, alpha=0.001, max_iter=100\n"
          ]
        },
        {
          "name": "stderr",
          "output_type": "stream",
          "text": [
            "                                                                                \r"
          ]
        },
        {
          "data": {
            "application/vnd.jupyter.widget-view+json": {
              "model_id": "03ea2643153a46ed87ea2d5401362b3f",
              "version_major": 2,
              "version_minor": 0
            },
            "text/plain": [
              "  0%|          | 0/10 [00:00<?, ?it/s]"
            ]
          },
          "metadata": {},
          "output_type": "display_data"
        },
        {
          "name": "stderr",
          "output_type": "stream",
          "text": [
            "                                                                                \r"
          ]
        },
        {
          "name": "stdout",
          "output_type": "stream",
          "text": [
            "Configuration: lr=0.01, alpha=0.1, max_iter=10\n"
          ]
        },
        {
          "name": "stderr",
          "output_type": "stream",
          "text": [
            "                                                                                \r"
          ]
        },
        {
          "data": {
            "application/vnd.jupyter.widget-view+json": {
              "model_id": "ad965dde66804df68476caf190cd9676",
              "version_major": 2,
              "version_minor": 0
            },
            "text/plain": [
              "  0%|          | 0/10 [00:00<?, ?it/s]"
            ]
          },
          "metadata": {},
          "output_type": "display_data"
        },
        {
          "name": "stderr",
          "output_type": "stream",
          "text": [
            "                                                                                \r"
          ]
        },
        {
          "name": "stdout",
          "output_type": "stream",
          "text": [
            "Configuration: lr=0.1, alpha=0.0001, max_iter=10\n"
          ]
        },
        {
          "name": "stderr",
          "output_type": "stream",
          "text": [
            "                                                                                \r"
          ]
        },
        {
          "data": {
            "application/vnd.jupyter.widget-view+json": {
              "model_id": "41ad069675b14b73b43cd8a03ee057a5",
              "version_major": 2,
              "version_minor": 0
            },
            "text/plain": [
              "  0%|          | 0/100 [00:00<?, ?it/s]"
            ]
          },
          "metadata": {},
          "output_type": "display_data"
        },
        {
          "name": "stderr",
          "output_type": "stream",
          "text": [
            "                                                                                \r"
          ]
        },
        {
          "name": "stdout",
          "output_type": "stream",
          "text": [
            "Configuration: lr=1, alpha=0.001, max_iter=100\n"
          ]
        },
        {
          "name": "stderr",
          "output_type": "stream",
          "text": [
            "                                                                                \r"
          ]
        },
        {
          "data": {
            "application/vnd.jupyter.widget-view+json": {
              "model_id": "748bf8d5a66344038b5bdd25200b54a6",
              "version_major": 2,
              "version_minor": 0
            },
            "text/plain": [
              "  0%|          | 0/10 [00:00<?, ?it/s]"
            ]
          },
          "metadata": {},
          "output_type": "display_data"
        },
        {
          "name": "stderr",
          "output_type": "stream",
          "text": [
            "                                                                                \r"
          ]
        },
        {
          "name": "stdout",
          "output_type": "stream",
          "text": [
            "Configuration: lr=1, alpha=0.0001, max_iter=10\n"
          ]
        },
        {
          "name": "stderr",
          "output_type": "stream",
          "text": [
            "                                                                                \r"
          ]
        },
        {
          "data": {
            "application/vnd.jupyter.widget-view+json": {
              "model_id": "a8c4de5e77324166a5107f47091da9c0",
              "version_major": 2,
              "version_minor": 0
            },
            "text/plain": [
              "  0%|          | 0/10 [00:00<?, ?it/s]"
            ]
          },
          "metadata": {},
          "output_type": "display_data"
        },
        {
          "name": "stderr",
          "output_type": "stream",
          "text": [
            "                                                                                \r"
          ]
        },
        {
          "name": "stdout",
          "output_type": "stream",
          "text": [
            "Configuration: lr=0.01, alpha=0.01, max_iter=10\n"
          ]
        },
        {
          "name": "stderr",
          "output_type": "stream",
          "text": [
            "                                                                                \r"
          ]
        },
        {
          "data": {
            "application/vnd.jupyter.widget-view+json": {
              "model_id": "6b6f5b9bf3ed498e8f22272847ad8f53",
              "version_major": 2,
              "version_minor": 0
            },
            "text/plain": [
              "  0%|          | 0/100 [00:00<?, ?it/s]"
            ]
          },
          "metadata": {},
          "output_type": "display_data"
        },
        {
          "name": "stderr",
          "output_type": "stream",
          "text": [
            "                                                                                \r"
          ]
        },
        {
          "name": "stdout",
          "output_type": "stream",
          "text": [
            "Configuration: lr=0.01, alpha=0.001, max_iter=100\n"
          ]
        },
        {
          "name": "stderr",
          "output_type": "stream",
          "text": [
            "                                                                                \r"
          ]
        },
        {
          "data": {
            "application/vnd.jupyter.widget-view+json": {
              "model_id": "1dc621c4e39348b9913f8006676566ff",
              "version_major": 2,
              "version_minor": 0
            },
            "text/plain": [
              "  0%|          | 0/100 [00:00<?, ?it/s]"
            ]
          },
          "metadata": {},
          "output_type": "display_data"
        },
        {
          "name": "stderr",
          "output_type": "stream",
          "text": [
            "                                                                                \r"
          ]
        },
        {
          "name": "stdout",
          "output_type": "stream",
          "text": [
            "Configuration: lr=1, alpha=0.0001, max_iter=100\n"
          ]
        },
        {
          "name": "stderr",
          "output_type": "stream",
          "text": [
            "                                                                                \r"
          ]
        },
        {
          "data": {
            "application/vnd.jupyter.widget-view+json": {
              "model_id": "243ed49e06da4cfbb6dd45c2c68e2942",
              "version_major": 2,
              "version_minor": 0
            },
            "text/plain": [
              "  0%|          | 0/50 [00:00<?, ?it/s]"
            ]
          },
          "metadata": {},
          "output_type": "display_data"
        },
        {
          "name": "stderr",
          "output_type": "stream",
          "text": [
            "                                                                                \r"
          ]
        },
        {
          "name": "stdout",
          "output_type": "stream",
          "text": [
            "Configuration: lr=0.01, alpha=0.0001, max_iter=50\n"
          ]
        },
        {
          "name": "stderr",
          "output_type": "stream",
          "text": [
            "                                                                                \r"
          ]
        },
        {
          "data": {
            "application/vnd.jupyter.widget-view+json": {
              "model_id": "e7db5fe6063c48cc8d8fe31884c473fc",
              "version_major": 2,
              "version_minor": 0
            },
            "text/plain": [
              "  0%|          | 0/100 [00:00<?, ?it/s]"
            ]
          },
          "metadata": {},
          "output_type": "display_data"
        },
        {
          "name": "stderr",
          "output_type": "stream",
          "text": [
            "                                                                                \r"
          ]
        },
        {
          "name": "stdout",
          "output_type": "stream",
          "text": [
            "Configuration: lr=0.1, alpha=0.01, max_iter=100\n"
          ]
        },
        {
          "name": "stderr",
          "output_type": "stream",
          "text": [
            "                                                                                \r"
          ]
        },
        {
          "data": {
            "application/vnd.jupyter.widget-view+json": {
              "model_id": "734b4519f3c64067a77c8bfec3bf1e17",
              "version_major": 2,
              "version_minor": 0
            },
            "text/plain": [
              "  0%|          | 0/100 [00:00<?, ?it/s]"
            ]
          },
          "metadata": {},
          "output_type": "display_data"
        },
        {
          "name": "stderr",
          "output_type": "stream",
          "text": [
            "                                                                                \r"
          ]
        },
        {
          "name": "stdout",
          "output_type": "stream",
          "text": [
            "Configuration: lr=1, alpha=0.01, max_iter=100\n"
          ]
        },
        {
          "name": "stderr",
          "output_type": "stream",
          "text": [
            "                                                                                \r"
          ]
        },
        {
          "data": {
            "application/vnd.jupyter.widget-view+json": {
              "model_id": "6a97526232b440fc899688259cce41b7",
              "version_major": 2,
              "version_minor": 0
            },
            "text/plain": [
              "  0%|          | 0/50 [00:00<?, ?it/s]"
            ]
          },
          "metadata": {},
          "output_type": "display_data"
        },
        {
          "name": "stderr",
          "output_type": "stream",
          "text": [
            "                                                                                \r"
          ]
        },
        {
          "name": "stdout",
          "output_type": "stream",
          "text": [
            "Configuration: lr=1, alpha=0.1, max_iter=50\n"
          ]
        },
        {
          "name": "stderr",
          "output_type": "stream",
          "text": [
            "                                                                                \r"
          ]
        },
        {
          "data": {
            "application/vnd.jupyter.widget-view+json": {
              "model_id": "92aed8fa0fca458c997f655fc17f1e36",
              "version_major": 2,
              "version_minor": 0
            },
            "text/plain": [
              "  0%|          | 0/50 [00:00<?, ?it/s]"
            ]
          },
          "metadata": {},
          "output_type": "display_data"
        },
        {
          "name": "stderr",
          "output_type": "stream",
          "text": [
            "                                                                                \r"
          ]
        },
        {
          "name": "stdout",
          "output_type": "stream",
          "text": [
            "Configuration: lr=1, alpha=0.001, max_iter=50\n"
          ]
        },
        {
          "name": "stderr",
          "output_type": "stream",
          "text": [
            "                                                                                \r"
          ]
        },
        {
          "data": {
            "application/vnd.jupyter.widget-view+json": {
              "model_id": "997633488d144f01bb3bc9c2f263f6a1",
              "version_major": 2,
              "version_minor": 0
            },
            "text/plain": [
              "  0%|          | 0/50 [00:00<?, ?it/s]"
            ]
          },
          "metadata": {},
          "output_type": "display_data"
        },
        {
          "name": "stderr",
          "output_type": "stream",
          "text": [
            "                                                                                \r"
          ]
        },
        {
          "name": "stdout",
          "output_type": "stream",
          "text": [
            "Configuration: lr=1, alpha=0.0001, max_iter=50\n"
          ]
        },
        {
          "name": "stderr",
          "output_type": "stream",
          "text": [
            "                                                                                \r"
          ]
        },
        {
          "data": {
            "application/vnd.jupyter.widget-view+json": {
              "model_id": "b01e410d8fa542f4940c26b6f9b53b0a",
              "version_major": 2,
              "version_minor": 0
            },
            "text/plain": [
              "  0%|          | 0/50 [00:00<?, ?it/s]"
            ]
          },
          "metadata": {},
          "output_type": "display_data"
        },
        {
          "name": "stderr",
          "output_type": "stream",
          "text": [
            "                                                                                \r"
          ]
        },
        {
          "name": "stdout",
          "output_type": "stream",
          "text": [
            "Configuration: lr=0.1, alpha=0.1, max_iter=50\n"
          ]
        },
        {
          "name": "stderr",
          "output_type": "stream",
          "text": [
            "                                                                                \r"
          ]
        },
        {
          "data": {
            "application/vnd.jupyter.widget-view+json": {
              "model_id": "45633e80e7a1438a9c97ff4064680c1f",
              "version_major": 2,
              "version_minor": 0
            },
            "text/plain": [
              "  0%|          | 0/50 [00:00<?, ?it/s]"
            ]
          },
          "metadata": {},
          "output_type": "display_data"
        },
        {
          "name": "stderr",
          "output_type": "stream",
          "text": [
            "                                                                                \r"
          ]
        },
        {
          "name": "stdout",
          "output_type": "stream",
          "text": [
            "Configuration: lr=0.1, alpha=0.0001, max_iter=50\n"
          ]
        },
        {
          "name": "stderr",
          "output_type": "stream",
          "text": [
            "                                                                                \r"
          ]
        },
        {
          "data": {
            "application/vnd.jupyter.widget-view+json": {
              "model_id": "475d9b216073491bbc5427b15cdfb4d0",
              "version_major": 2,
              "version_minor": 0
            },
            "text/plain": [
              "  0%|          | 0/50 [00:00<?, ?it/s]"
            ]
          },
          "metadata": {},
          "output_type": "display_data"
        },
        {
          "name": "stderr",
          "output_type": "stream",
          "text": [
            "                                                                                \r"
          ]
        },
        {
          "name": "stdout",
          "output_type": "stream",
          "text": [
            "Configuration: lr=0.01, alpha=0.01, max_iter=50\n"
          ]
        },
        {
          "name": "stderr",
          "output_type": "stream",
          "text": [
            "                                                                                \r"
          ]
        },
        {
          "data": {
            "application/vnd.jupyter.widget-view+json": {
              "model_id": "da820086f3c44fa6b46389a66b83d838",
              "version_major": 2,
              "version_minor": 0
            },
            "text/plain": [
              "  0%|          | 0/10 [00:00<?, ?it/s]"
            ]
          },
          "metadata": {},
          "output_type": "display_data"
        },
        {
          "name": "stderr",
          "output_type": "stream",
          "text": [
            "                                                                                \r"
          ]
        },
        {
          "name": "stdout",
          "output_type": "stream",
          "text": [
            "Configuration: lr=0.1, alpha=0.1, max_iter=10\n"
          ]
        },
        {
          "name": "stderr",
          "output_type": "stream",
          "text": [
            "                                                                                \r"
          ]
        },
        {
          "data": {
            "application/vnd.jupyter.widget-view+json": {
              "model_id": "ef2adcca592e468cbc1e679633504f8e",
              "version_major": 2,
              "version_minor": 0
            },
            "text/plain": [
              "  0%|          | 0/10 [00:00<?, ?it/s]"
            ]
          },
          "metadata": {},
          "output_type": "display_data"
        },
        {
          "name": "stderr",
          "output_type": "stream",
          "text": [
            "                                                                                \r"
          ]
        },
        {
          "name": "stdout",
          "output_type": "stream",
          "text": [
            "Configuration: lr=0.01, alpha=0.0001, max_iter=10\n"
          ]
        },
        {
          "name": "stderr",
          "output_type": "stream",
          "text": [
            "                                                                                \r"
          ]
        },
        {
          "data": {
            "text/plain": [
              "{(100, 0.1, 0.1): 0.6843618042723085,\n",
              " (100, 0.01, 0.1): 0.6905243767777646,\n",
              " (50, 0.01, 0.001): 0.6912241289459173,\n",
              " (10, 0.1, 0.001): 0.6867867869122053,\n",
              " (50, 0.1, 0.001): 0.6817764721966282,\n",
              " (100, 1, 0.1): 0.6945973560774347,\n",
              " (10, 1, 0.001): 0.6804142152367573,\n",
              " (10, 1, 0.1): 0.6901445959432605,\n",
              " (50, 0.01, 0.1): 0.6912727251909132,\n",
              " (10, 1, 0.01): 0.6816215203624219,\n",
              " (10, 0.1, 0.01): 0.6868444991498428,\n",
              " (100, 0.1, 0.001): 0.68007587238274,\n",
              " (10, 0.01, 0.1): 0.6923675232185958,\n",
              " (10, 0.1, 0.0001): 0.6867809942743575,\n",
              " (100, 1, 0.001): 0.6832448060270521,\n",
              " (10, 1, 0.0001): 0.6802890398635975,\n",
              " (10, 0.01, 0.01): 0.6923605124734471,\n",
              " (100, 0.01, 0.001): 0.6904242280500693,\n",
              " (100, 1, 0.0001): 0.6830054973053228,\n",
              " (50, 0.01, 0.0001): 0.691223682576176,\n",
              " (100, 0.1, 0.01): 0.6805188167517382,\n",
              " (100, 1, 0.01): 0.6853935890127375,\n",
              " (50, 1, 0.1): 0.6939651899278982,\n",
              " (50, 1, 0.001): 0.68301526545674,\n",
              " (50, 1, 0.0001): 0.6828230488556717,\n",
              " (50, 0.1, 0.1): 0.684443233873553,\n",
              " (50, 0.1, 0.0001): 0.6817496975163223,\n",
              " (50, 0.01, 0.01): 0.6912285880714615,\n",
              " (10, 0.1, 0.1): 0.6874006898680549,\n",
              " (10, 0.01, 0.0001): 0.6923597384094972}"
            ]
          },
          "execution_count": 45,
          "metadata": {},
          "output_type": "execute_result"
        }
      ],
      "source": [
        "param_grid = { 'n_iters': [10, 50, 100],\n",
        "               'intial_lr': [0.01, 0.1, 1] ,\n",
        "               'alpha': [0.0001, 0.001, 0.01, 0.1]\n",
        "             }\n",
        "\n",
        "tuner = RandomSearchTuner(param_grid)\n",
        "tuner.search(train_rdd, val_rdd, 30)"
      ]
    },
    {
      "cell_type": "code",
      "execution_count": null,
      "metadata": {
        "id": "TyZ5CE73GLv7",
        "outputId": "77a5beba-9df8-440d-e760-d388de7bde83"
      },
      "outputs": [
        {
          "data": {
            "text/plain": [
              "{(100, 0.1, 0.1): 0.6843618042723085,\n",
              " (100, 0.01, 0.1): 0.6905243767777646,\n",
              " (50, 0.01, 0.001): 0.6912241289459173,\n",
              " (10, 0.1, 0.001): 0.6867867869122053,\n",
              " (50, 0.1, 0.001): 0.6817764721966282,\n",
              " (100, 1, 0.1): 0.6945973560774347,\n",
              " (10, 1, 0.001): 0.6804142152367573,\n",
              " (10, 1, 0.1): 0.6901445959432605,\n",
              " (50, 0.01, 0.1): 0.6912727251909132,\n",
              " (10, 1, 0.01): 0.6816215203624219,\n",
              " (10, 0.1, 0.01): 0.6868444991498428,\n",
              " (100, 0.1, 0.001): 0.68007587238274,\n",
              " (10, 0.01, 0.1): 0.6923675232185958,\n",
              " (10, 0.1, 0.0001): 0.6867809942743575,\n",
              " (100, 1, 0.001): 0.6832448060270521,\n",
              " (10, 1, 0.0001): 0.6802890398635975,\n",
              " (10, 0.01, 0.01): 0.6923605124734471,\n",
              " (100, 0.01, 0.001): 0.6904242280500693,\n",
              " (100, 1, 0.0001): 0.6830054973053228,\n",
              " (50, 0.01, 0.0001): 0.691223682576176,\n",
              " (100, 0.1, 0.01): 0.6805188167517382,\n",
              " (100, 1, 0.01): 0.6853935890127375,\n",
              " (50, 1, 0.1): 0.6939651899278982,\n",
              " (50, 1, 0.001): 0.68301526545674,\n",
              " (50, 1, 0.0001): 0.6828230488556717,\n",
              " (50, 0.1, 0.1): 0.684443233873553,\n",
              " (50, 0.1, 0.0001): 0.6817496975163223,\n",
              " (50, 0.01, 0.01): 0.6912285880714615,\n",
              " (10, 0.1, 0.1): 0.6874006898680549,\n",
              " (10, 0.01, 0.0001): 0.6923597384094972}"
            ]
          },
          "execution_count": 46,
          "metadata": {},
          "output_type": "execute_result"
        }
      ],
      "source": [
        "tuner.results"
      ]
    },
    {
      "cell_type": "markdown",
      "metadata": {
        "id": "tzdQORPpGLv8"
      },
      "source": [
        "### Tuning performances"
      ]
    },
    {
      "cell_type": "code",
      "execution_count": null,
      "metadata": {
        "colab": {
          "referenced_widgets": [
            "18e6991dbb814a3dbb2c09bd307a82b5"
          ]
        },
        "id": "L2N6_JeNGLv8",
        "outputId": "6401b2f3-bb1b-461f-82dc-104f799fba4c"
      },
      "outputs": [
        {
          "name": "stdout",
          "output_type": "stream",
          "text": [
            "The best configuration we are evaluating is  (100, 0.1, 0.001)\n"
          ]
        },
        {
          "name": "stderr",
          "output_type": "stream",
          "text": [
            "                                                                                \r"
          ]
        },
        {
          "data": {
            "application/vnd.jupyter.widget-view+json": {
              "model_id": "18e6991dbb814a3dbb2c09bd307a82b5",
              "version_major": 2,
              "version_minor": 0
            },
            "text/plain": [
              "  0%|          | 0/100 [00:00<?, ?it/s]"
            ]
          },
          "metadata": {},
          "output_type": "display_data"
        },
        {
          "name": "stderr",
          "output_type": "stream",
          "text": [
            "                                                                                \r"
          ]
        },
        {
          "name": "stdout",
          "output_type": "stream",
          "text": [
            "TN 4219691, TP 73887, FN 42694, FP 2877164\n"
          ]
        },
        {
          "name": "stderr",
          "output_type": "stream",
          "text": [
            "                                                                                \r"
          ]
        },
        {
          "data": {
            "text/html": [
              "<div>\n",
              "<style scoped>\n",
              "    .dataframe tbody tr th:only-of-type {\n",
              "        vertical-align: middle;\n",
              "    }\n",
              "\n",
              "    .dataframe tbody tr th {\n",
              "        vertical-align: top;\n",
              "    }\n",
              "\n",
              "    .dataframe thead th {\n",
              "        text-align: right;\n",
              "    }\n",
              "</style>\n",
              "<table border=\"1\" class=\"dataframe\">\n",
              "  <thead>\n",
              "    <tr style=\"text-align: right;\">\n",
              "      <th></th>\n",
              "      <th>Cost</th>\n",
              "      <th>F1 score</th>\n",
              "      <th>Accuracy</th>\n",
              "      <th>Recall</th>\n",
              "      <th>Specificity</th>\n",
              "      <th>Precision</th>\n",
              "      <th>AUPRC</th>\n",
              "      <th>AUROC</th>\n",
              "      <th>TP</th>\n",
              "      <th>TN</th>\n",
              "      <th>FP</th>\n",
              "      <th>FN</th>\n",
              "      <th>run_type</th>\n",
              "    </tr>\n",
              "  </thead>\n",
              "  <tbody>\n",
              "    <tr>\n",
              "      <th>0</th>\n",
              "      <td>0.664842</td>\n",
              "      <td>0.048172</td>\n",
              "      <td>0.59522</td>\n",
              "      <td>0.633783</td>\n",
              "      <td>0.594586</td>\n",
              "      <td>0.025038</td>\n",
              "      <td>0.03101</td>\n",
              "      <td>0.657497</td>\n",
              "      <td>73887</td>\n",
              "      <td>4219691</td>\n",
              "      <td>2877164</td>\n",
              "      <td>42694</td>\n",
              "      <td>tuning_test</td>\n",
              "    </tr>\n",
              "  </tbody>\n",
              "</table>\n",
              "</div>"
            ],
            "text/plain": [
              "       Cost  F1 score  Accuracy    Recall  Specificity  Precision    AUPRC  \\\n",
              "0  0.664842  0.048172   0.59522  0.633783     0.594586   0.025038  0.03101   \n",
              "\n",
              "      AUROC     TP       TN       FP     FN     run_type  \n",
              "0  0.657497  73887  4219691  2877164  42694  tuning_test  "
            ]
          },
          "execution_count": 47,
          "metadata": {},
          "output_type": "execute_result"
        }
      ],
      "source": [
        "tuner.evaluate_bestconfig(train_rdd, val_rdd, test_rdd)"
      ]
    },
    {
      "cell_type": "code",
      "source": [
        "data = [np.array([x[0], x[1], x[2], tuner.results[x]]) for x in tuner.results]\n",
        "data = pd.DataFrame(data, columns= ['n_iters', 'lr', 'alpha', 'cost'])\n",
        "\n",
        "import plotly.graph_objects as go\n",
        "\n",
        "fig = go.Figure(data=[go.Scatter3d(\n",
        "    x=data['lr'],\n",
        "    y=data['alpha'],\n",
        "    z=data['n_iters'],\n",
        "    mode='markers',\n",
        "    text=('lr', 'alpha', 'n_iters'),\n",
        "    marker=dict(\n",
        "        color=data['cost'],                # set color to an array/list of desired values\n",
        "        colorscale='Viridis',   # choose a colorscale\n",
        "        opacity=0.8,\n",
        "        size=14, colorbar=dict(thickness=20)\n",
        "    )\n",
        ")])\n",
        "\n",
        "\n",
        "# tight layout\n",
        "fig.update_layout(\n",
        "    autosize=False,\n",
        "    width=600, \n",
        "    height=600,\n",
        "    title='Hyperparameters space', \n",
        "    margin=dict(l=0, r=0, b=0, t=0),\n",
        "    scene=dict(\n",
        "        xaxis_title='learning rate',\n",
        "        yaxis_title='alpha',\n",
        "        zaxis_title='no. iters',\n",
        "    ),\n",
        ")\n",
        "\n",
        "fig.show()"
      ],
      "metadata": {
        "colab": {
          "base_uri": "https://localhost:8080/",
          "height": 617
        },
        "id": "z7b28x-371oU",
        "outputId": "8f5c8b26-bb5c-47f1-f43b-47f8759e2b90"
      },
      "execution_count": 30,
      "outputs": [
        {
          "output_type": "display_data",
          "data": {
            "text/html": [
              "<html>\n",
              "<head><meta charset=\"utf-8\" /></head>\n",
              "<body>\n",
              "    <div>            <script src=\"https://cdnjs.cloudflare.com/ajax/libs/mathjax/2.7.5/MathJax.js?config=TeX-AMS-MML_SVG\"></script><script type=\"text/javascript\">if (window.MathJax) {MathJax.Hub.Config({SVG: {font: \"STIX-Web\"}});}</script>                <script type=\"text/javascript\">window.PlotlyConfig = {MathJaxConfig: 'local'};</script>\n",
              "        <script src=\"https://cdn.plot.ly/plotly-2.8.3.min.js\"></script>                <div id=\"ef6af1c8-85c9-45c8-9723-fe4de1f1bfad\" class=\"plotly-graph-div\" style=\"height:600px; width:600px;\"></div>            <script type=\"text/javascript\">                                    window.PLOTLYENV=window.PLOTLYENV || {};                                    if (document.getElementById(\"ef6af1c8-85c9-45c8-9723-fe4de1f1bfad\")) {                    Plotly.newPlot(                        \"ef6af1c8-85c9-45c8-9723-fe4de1f1bfad\",                        [{\"marker\":{\"color\":[0.6843618042723085,0.6905243767777646,0.6912241289459173,0.6867867869122053,0.6817764721966282,0.6945973560774347,0.6804142152367573,0.6901445959432605,0.6912727251909132,0.6816215203624219,0.6868444991498428,0.68007587238274,0.6923675232185958,0.6867809942743575,0.6832448060270521,0.6802890398635975,0.6923605124734471,0.6904242280500693,0.6830054973053228,0.691223682576176,0.6805188167517382,0.6853935890127375,0.6939651899278982,0.68301526545674,0.6828230488556717,0.684443233873553,0.6817496975163223,0.6912285880714615,0.6874006898680549,0.6923597384094972],\"colorbar\":{\"thickness\":20},\"colorscale\":[[0.0,\"#440154\"],[0.1111111111111111,\"#482878\"],[0.2222222222222222,\"#3e4989\"],[0.3333333333333333,\"#31688e\"],[0.4444444444444444,\"#26828e\"],[0.5555555555555556,\"#1f9e89\"],[0.6666666666666666,\"#35b779\"],[0.7777777777777778,\"#6ece58\"],[0.8888888888888888,\"#b5de2b\"],[1.0,\"#fde725\"]],\"opacity\":0.8,\"size\":14},\"mode\":\"markers\",\"text\":[\"lr\",\"alpha\",\"n_iters\"],\"x\":[0.1,0.01,0.01,0.1,0.1,1.0,1.0,1.0,0.01,1.0,0.1,0.1,0.01,0.1,1.0,1.0,0.01,0.01,1.0,0.01,0.1,1.0,1.0,1.0,1.0,0.1,0.1,0.01,0.1,0.01],\"y\":[0.1,0.1,0.001,0.001,0.001,0.1,0.001,0.1,0.1,0.01,0.01,0.001,0.1,0.0001,0.001,0.0001,0.01,0.001,0.0001,0.0001,0.01,0.01,0.1,0.001,0.0001,0.1,0.0001,0.01,0.1,0.0001],\"z\":[100.0,100.0,50.0,10.0,50.0,100.0,10.0,10.0,50.0,10.0,10.0,100.0,10.0,10.0,100.0,10.0,10.0,100.0,100.0,50.0,100.0,100.0,50.0,50.0,50.0,50.0,50.0,50.0,10.0,10.0],\"type\":\"scatter3d\"}],                        {\"template\":{\"data\":{\"bar\":[{\"error_x\":{\"color\":\"#2a3f5f\"},\"error_y\":{\"color\":\"#2a3f5f\"},\"marker\":{\"line\":{\"color\":\"#E5ECF6\",\"width\":0.5},\"pattern\":{\"fillmode\":\"overlay\",\"size\":10,\"solidity\":0.2}},\"type\":\"bar\"}],\"barpolar\":[{\"marker\":{\"line\":{\"color\":\"#E5ECF6\",\"width\":0.5},\"pattern\":{\"fillmode\":\"overlay\",\"size\":10,\"solidity\":0.2}},\"type\":\"barpolar\"}],\"carpet\":[{\"aaxis\":{\"endlinecolor\":\"#2a3f5f\",\"gridcolor\":\"white\",\"linecolor\":\"white\",\"minorgridcolor\":\"white\",\"startlinecolor\":\"#2a3f5f\"},\"baxis\":{\"endlinecolor\":\"#2a3f5f\",\"gridcolor\":\"white\",\"linecolor\":\"white\",\"minorgridcolor\":\"white\",\"startlinecolor\":\"#2a3f5f\"},\"type\":\"carpet\"}],\"choropleth\":[{\"colorbar\":{\"outlinewidth\":0,\"ticks\":\"\"},\"type\":\"choropleth\"}],\"contour\":[{\"colorbar\":{\"outlinewidth\":0,\"ticks\":\"\"},\"colorscale\":[[0.0,\"#0d0887\"],[0.1111111111111111,\"#46039f\"],[0.2222222222222222,\"#7201a8\"],[0.3333333333333333,\"#9c179e\"],[0.4444444444444444,\"#bd3786\"],[0.5555555555555556,\"#d8576b\"],[0.6666666666666666,\"#ed7953\"],[0.7777777777777778,\"#fb9f3a\"],[0.8888888888888888,\"#fdca26\"],[1.0,\"#f0f921\"]],\"type\":\"contour\"}],\"contourcarpet\":[{\"colorbar\":{\"outlinewidth\":0,\"ticks\":\"\"},\"type\":\"contourcarpet\"}],\"heatmap\":[{\"colorbar\":{\"outlinewidth\":0,\"ticks\":\"\"},\"colorscale\":[[0.0,\"#0d0887\"],[0.1111111111111111,\"#46039f\"],[0.2222222222222222,\"#7201a8\"],[0.3333333333333333,\"#9c179e\"],[0.4444444444444444,\"#bd3786\"],[0.5555555555555556,\"#d8576b\"],[0.6666666666666666,\"#ed7953\"],[0.7777777777777778,\"#fb9f3a\"],[0.8888888888888888,\"#fdca26\"],[1.0,\"#f0f921\"]],\"type\":\"heatmap\"}],\"heatmapgl\":[{\"colorbar\":{\"outlinewidth\":0,\"ticks\":\"\"},\"colorscale\":[[0.0,\"#0d0887\"],[0.1111111111111111,\"#46039f\"],[0.2222222222222222,\"#7201a8\"],[0.3333333333333333,\"#9c179e\"],[0.4444444444444444,\"#bd3786\"],[0.5555555555555556,\"#d8576b\"],[0.6666666666666666,\"#ed7953\"],[0.7777777777777778,\"#fb9f3a\"],[0.8888888888888888,\"#fdca26\"],[1.0,\"#f0f921\"]],\"type\":\"heatmapgl\"}],\"histogram\":[{\"marker\":{\"pattern\":{\"fillmode\":\"overlay\",\"size\":10,\"solidity\":0.2}},\"type\":\"histogram\"}],\"histogram2d\":[{\"colorbar\":{\"outlinewidth\":0,\"ticks\":\"\"},\"colorscale\":[[0.0,\"#0d0887\"],[0.1111111111111111,\"#46039f\"],[0.2222222222222222,\"#7201a8\"],[0.3333333333333333,\"#9c179e\"],[0.4444444444444444,\"#bd3786\"],[0.5555555555555556,\"#d8576b\"],[0.6666666666666666,\"#ed7953\"],[0.7777777777777778,\"#fb9f3a\"],[0.8888888888888888,\"#fdca26\"],[1.0,\"#f0f921\"]],\"type\":\"histogram2d\"}],\"histogram2dcontour\":[{\"colorbar\":{\"outlinewidth\":0,\"ticks\":\"\"},\"colorscale\":[[0.0,\"#0d0887\"],[0.1111111111111111,\"#46039f\"],[0.2222222222222222,\"#7201a8\"],[0.3333333333333333,\"#9c179e\"],[0.4444444444444444,\"#bd3786\"],[0.5555555555555556,\"#d8576b\"],[0.6666666666666666,\"#ed7953\"],[0.7777777777777778,\"#fb9f3a\"],[0.8888888888888888,\"#fdca26\"],[1.0,\"#f0f921\"]],\"type\":\"histogram2dcontour\"}],\"mesh3d\":[{\"colorbar\":{\"outlinewidth\":0,\"ticks\":\"\"},\"type\":\"mesh3d\"}],\"parcoords\":[{\"line\":{\"colorbar\":{\"outlinewidth\":0,\"ticks\":\"\"}},\"type\":\"parcoords\"}],\"pie\":[{\"automargin\":true,\"type\":\"pie\"}],\"scatter\":[{\"marker\":{\"colorbar\":{\"outlinewidth\":0,\"ticks\":\"\"}},\"type\":\"scatter\"}],\"scatter3d\":[{\"line\":{\"colorbar\":{\"outlinewidth\":0,\"ticks\":\"\"}},\"marker\":{\"colorbar\":{\"outlinewidth\":0,\"ticks\":\"\"}},\"type\":\"scatter3d\"}],\"scattercarpet\":[{\"marker\":{\"colorbar\":{\"outlinewidth\":0,\"ticks\":\"\"}},\"type\":\"scattercarpet\"}],\"scattergeo\":[{\"marker\":{\"colorbar\":{\"outlinewidth\":0,\"ticks\":\"\"}},\"type\":\"scattergeo\"}],\"scattergl\":[{\"marker\":{\"colorbar\":{\"outlinewidth\":0,\"ticks\":\"\"}},\"type\":\"scattergl\"}],\"scattermapbox\":[{\"marker\":{\"colorbar\":{\"outlinewidth\":0,\"ticks\":\"\"}},\"type\":\"scattermapbox\"}],\"scatterpolar\":[{\"marker\":{\"colorbar\":{\"outlinewidth\":0,\"ticks\":\"\"}},\"type\":\"scatterpolar\"}],\"scatterpolargl\":[{\"marker\":{\"colorbar\":{\"outlinewidth\":0,\"ticks\":\"\"}},\"type\":\"scatterpolargl\"}],\"scatterternary\":[{\"marker\":{\"colorbar\":{\"outlinewidth\":0,\"ticks\":\"\"}},\"type\":\"scatterternary\"}],\"surface\":[{\"colorbar\":{\"outlinewidth\":0,\"ticks\":\"\"},\"colorscale\":[[0.0,\"#0d0887\"],[0.1111111111111111,\"#46039f\"],[0.2222222222222222,\"#7201a8\"],[0.3333333333333333,\"#9c179e\"],[0.4444444444444444,\"#bd3786\"],[0.5555555555555556,\"#d8576b\"],[0.6666666666666666,\"#ed7953\"],[0.7777777777777778,\"#fb9f3a\"],[0.8888888888888888,\"#fdca26\"],[1.0,\"#f0f921\"]],\"type\":\"surface\"}],\"table\":[{\"cells\":{\"fill\":{\"color\":\"#EBF0F8\"},\"line\":{\"color\":\"white\"}},\"header\":{\"fill\":{\"color\":\"#C8D4E3\"},\"line\":{\"color\":\"white\"}},\"type\":\"table\"}]},\"layout\":{\"annotationdefaults\":{\"arrowcolor\":\"#2a3f5f\",\"arrowhead\":0,\"arrowwidth\":1},\"autotypenumbers\":\"strict\",\"coloraxis\":{\"colorbar\":{\"outlinewidth\":0,\"ticks\":\"\"}},\"colorscale\":{\"diverging\":[[0,\"#8e0152\"],[0.1,\"#c51b7d\"],[0.2,\"#de77ae\"],[0.3,\"#f1b6da\"],[0.4,\"#fde0ef\"],[0.5,\"#f7f7f7\"],[0.6,\"#e6f5d0\"],[0.7,\"#b8e186\"],[0.8,\"#7fbc41\"],[0.9,\"#4d9221\"],[1,\"#276419\"]],\"sequential\":[[0.0,\"#0d0887\"],[0.1111111111111111,\"#46039f\"],[0.2222222222222222,\"#7201a8\"],[0.3333333333333333,\"#9c179e\"],[0.4444444444444444,\"#bd3786\"],[0.5555555555555556,\"#d8576b\"],[0.6666666666666666,\"#ed7953\"],[0.7777777777777778,\"#fb9f3a\"],[0.8888888888888888,\"#fdca26\"],[1.0,\"#f0f921\"]],\"sequentialminus\":[[0.0,\"#0d0887\"],[0.1111111111111111,\"#46039f\"],[0.2222222222222222,\"#7201a8\"],[0.3333333333333333,\"#9c179e\"],[0.4444444444444444,\"#bd3786\"],[0.5555555555555556,\"#d8576b\"],[0.6666666666666666,\"#ed7953\"],[0.7777777777777778,\"#fb9f3a\"],[0.8888888888888888,\"#fdca26\"],[1.0,\"#f0f921\"]]},\"colorway\":[\"#636efa\",\"#EF553B\",\"#00cc96\",\"#ab63fa\",\"#FFA15A\",\"#19d3f3\",\"#FF6692\",\"#B6E880\",\"#FF97FF\",\"#FECB52\"],\"font\":{\"color\":\"#2a3f5f\"},\"geo\":{\"bgcolor\":\"white\",\"lakecolor\":\"white\",\"landcolor\":\"#E5ECF6\",\"showlakes\":true,\"showland\":true,\"subunitcolor\":\"white\"},\"hoverlabel\":{\"align\":\"left\"},\"hovermode\":\"closest\",\"mapbox\":{\"style\":\"light\"},\"paper_bgcolor\":\"white\",\"plot_bgcolor\":\"#E5ECF6\",\"polar\":{\"angularaxis\":{\"gridcolor\":\"white\",\"linecolor\":\"white\",\"ticks\":\"\"},\"bgcolor\":\"#E5ECF6\",\"radialaxis\":{\"gridcolor\":\"white\",\"linecolor\":\"white\",\"ticks\":\"\"}},\"scene\":{\"xaxis\":{\"backgroundcolor\":\"#E5ECF6\",\"gridcolor\":\"white\",\"gridwidth\":2,\"linecolor\":\"white\",\"showbackground\":true,\"ticks\":\"\",\"zerolinecolor\":\"white\"},\"yaxis\":{\"backgroundcolor\":\"#E5ECF6\",\"gridcolor\":\"white\",\"gridwidth\":2,\"linecolor\":\"white\",\"showbackground\":true,\"ticks\":\"\",\"zerolinecolor\":\"white\"},\"zaxis\":{\"backgroundcolor\":\"#E5ECF6\",\"gridcolor\":\"white\",\"gridwidth\":2,\"linecolor\":\"white\",\"showbackground\":true,\"ticks\":\"\",\"zerolinecolor\":\"white\"}},\"shapedefaults\":{\"line\":{\"color\":\"#2a3f5f\"}},\"ternary\":{\"aaxis\":{\"gridcolor\":\"white\",\"linecolor\":\"white\",\"ticks\":\"\"},\"baxis\":{\"gridcolor\":\"white\",\"linecolor\":\"white\",\"ticks\":\"\"},\"bgcolor\":\"#E5ECF6\",\"caxis\":{\"gridcolor\":\"white\",\"linecolor\":\"white\",\"ticks\":\"\"}},\"title\":{\"x\":0.05},\"xaxis\":{\"automargin\":true,\"gridcolor\":\"white\",\"linecolor\":\"white\",\"ticks\":\"\",\"title\":{\"standoff\":15},\"zerolinecolor\":\"white\",\"zerolinewidth\":2},\"yaxis\":{\"automargin\":true,\"gridcolor\":\"white\",\"linecolor\":\"white\",\"ticks\":\"\",\"title\":{\"standoff\":15},\"zerolinecolor\":\"white\",\"zerolinewidth\":2}}},\"margin\":{\"l\":0,\"r\":0,\"b\":0,\"t\":0},\"autosize\":false,\"width\":600,\"height\":600,\"title\":{\"text\":\"Hyperparameters space\"},\"scene\":{\"xaxis\":{\"title\":{\"text\":\"learning rate\"}},\"yaxis\":{\"title\":{\"text\":\"alpha\"}},\"zaxis\":{\"title\":{\"text\":\"no. iters\"}}}},                        {\"responsive\": true}                    ).then(function(){\n",
              "                            \n",
              "var gd = document.getElementById('ef6af1c8-85c9-45c8-9723-fe4de1f1bfad');\n",
              "var x = new MutationObserver(function (mutations, observer) {{\n",
              "        var display = window.getComputedStyle(gd).display;\n",
              "        if (!display || display === 'none') {{\n",
              "            console.log([gd, 'removed!']);\n",
              "            Plotly.purge(gd);\n",
              "            observer.disconnect();\n",
              "        }}\n",
              "}});\n",
              "\n",
              "// Listen for the removal of the full notebook cells\n",
              "var notebookContainer = gd.closest('#notebook-container');\n",
              "if (notebookContainer) {{\n",
              "    x.observe(notebookContainer, {childList: true});\n",
              "}}\n",
              "\n",
              "// Listen for the clearing of the current output cell\n",
              "var outputEl = gd.closest('.output');\n",
              "if (outputEl) {{\n",
              "    x.observe(outputEl, {childList: true});\n",
              "}}\n",
              "\n",
              "                        })                };                            </script>        </div>\n",
              "</body>\n",
              "</html>"
            ]
          },
          "metadata": {}
        }
      ]
    },
    {
      "cell_type": "markdown",
      "metadata": {
        "id": "rJ0U2DyeGLv9"
      },
      "source": [
        "# Bonus: Decision Tree"
      ]
    },
    {
      "cell_type": "code",
      "source": [
        "#Warning! Time consuming cell, caching the two rdds\n",
        "train_01labels.cache().count()\n",
        "test_01labels.cache().count()"
      ],
      "metadata": {
        "colab": {
          "base_uri": "https://localhost:8080/"
        },
        "id": "6XZcd1WYAdqO",
        "outputId": "257bd77d-48be-4b60-9b89-8c9d25af3001"
      },
      "execution_count": 23,
      "outputs": [
        {
          "output_type": "execute_result",
          "data": {
            "text/plain": [
              "7213436"
            ]
          },
          "metadata": {},
          "execution_count": 23
        }
      ]
    },
    {
      "cell_type": "code",
      "execution_count": 24,
      "metadata": {
        "id": "jCu1I4ShGLv9"
      },
      "outputs": [],
      "source": [
        "from pyspark.mllib.tree import DecisionTree, DecisionTreeModel\n",
        "from pyspark.mllib.util import MLUtils"
      ]
    },
    {
      "cell_type": "code",
      "execution_count": 25,
      "metadata": {
        "id": "nL-GIcQ8GLv-",
        "outputId": "e020e3e2-51b1-439a-b3a5-3d2aae0b4752",
        "colab": {
          "base_uri": "https://localhost:8080/"
        }
      },
      "outputs": [
        {
          "output_type": "stream",
          "name": "stdout",
          "text": [
            "Train Error = 0.3273334494975896\n"
          ]
        }
      ],
      "source": [
        "model = DecisionTree.trainClassifier(train_01labels, numClasses=2, categoricalFeaturesInfo={}, \n",
        "                                     impurity='gini', maxDepth=10, maxBins=32)\n",
        "\n",
        "# Compute training error (based on 0/1 loss)\n",
        "predictions = model.predict(train_01labels.map(lambda x: x.features))\n",
        "labelsAndPredictions = train_01labels.map(lambda lp: lp.label).zip(predictions)\n",
        "trainErr = labelsAndPredictions.filter( lambda lp: lp[0] != lp[1]).count() / float(train_01labels.count())\n",
        "print('Train Error = ' + str(trainErr))"
      ]
    },
    {
      "cell_type": "code",
      "execution_count": 26,
      "metadata": {
        "id": "7AVY06fcGLv-"
      },
      "outputs": [],
      "source": [
        "predictions = model.predict(test_01labels.map(lambda x: x.features))\n",
        "labelsAndPredictions = test_01labels.map(lambda lp: lp.label).zip(predictions)\n",
        "TN = labelsAndPredictions.filter(lambda x: x[0] == 0 and x[1] ==0).count()\n",
        "TP = labelsAndPredictions.filter(lambda x: x[0] == 1 and x[1] ==1).count()\n",
        "FN = labelsAndPredictions.filter(lambda x: x[0] == 1 and x[1] ==0).count()\n",
        "FP = labelsAndPredictions.filter(lambda x: x[0] == 0 and x[1] ==1).count()\n",
        "precision = TP / (TP + FP)\n",
        "recall = TP / (TP + FN)\n",
        "f1 =  2 * (precision*recall) / (precision + recall)\n",
        "acc = (TP+TN)/(TP+TN+FN+FP)\n",
        "recall = TP/(TP+FN)\n",
        "specificity = TN/(TN+FP)"
      ]
    },
    {
      "cell_type": "code",
      "execution_count": 27,
      "metadata": {
        "id": "kcmn4YMlGLv_",
        "outputId": "d0deedc3-1fb8-4209-8bd6-107c41f8cbb4",
        "colab": {
          "base_uri": "https://localhost:8080/",
          "height": 81
        }
      },
      "outputs": [
        {
          "output_type": "execute_result",
          "data": {
            "text/plain": [
              "   F1 score  Accuracy    Recall  Precision  specificity     TP       TN  \\\n",
              "0  0.053688  0.711215  0.506875   0.028345     0.714572  59092  5071214   \n",
              "\n",
              "        FP     FN  \n",
              "0  2025641  57489  "
            ],
            "text/html": [
              "\n",
              "  <div id=\"df-79ef27fe-c6f3-4f01-9b44-e1790520745e\">\n",
              "    <div class=\"colab-df-container\">\n",
              "      <div>\n",
              "<style scoped>\n",
              "    .dataframe tbody tr th:only-of-type {\n",
              "        vertical-align: middle;\n",
              "    }\n",
              "\n",
              "    .dataframe tbody tr th {\n",
              "        vertical-align: top;\n",
              "    }\n",
              "\n",
              "    .dataframe thead th {\n",
              "        text-align: right;\n",
              "    }\n",
              "</style>\n",
              "<table border=\"1\" class=\"dataframe\">\n",
              "  <thead>\n",
              "    <tr style=\"text-align: right;\">\n",
              "      <th></th>\n",
              "      <th>F1 score</th>\n",
              "      <th>Accuracy</th>\n",
              "      <th>Recall</th>\n",
              "      <th>Precision</th>\n",
              "      <th>specificity</th>\n",
              "      <th>TP</th>\n",
              "      <th>TN</th>\n",
              "      <th>FP</th>\n",
              "      <th>FN</th>\n",
              "    </tr>\n",
              "  </thead>\n",
              "  <tbody>\n",
              "    <tr>\n",
              "      <th>0</th>\n",
              "      <td>0.053688</td>\n",
              "      <td>0.711215</td>\n",
              "      <td>0.506875</td>\n",
              "      <td>0.028345</td>\n",
              "      <td>0.714572</td>\n",
              "      <td>59092</td>\n",
              "      <td>5071214</td>\n",
              "      <td>2025641</td>\n",
              "      <td>57489</td>\n",
              "    </tr>\n",
              "  </tbody>\n",
              "</table>\n",
              "</div>\n",
              "      <button class=\"colab-df-convert\" onclick=\"convertToInteractive('df-79ef27fe-c6f3-4f01-9b44-e1790520745e')\"\n",
              "              title=\"Convert this dataframe to an interactive table.\"\n",
              "              style=\"display:none;\">\n",
              "        \n",
              "  <svg xmlns=\"http://www.w3.org/2000/svg\" height=\"24px\"viewBox=\"0 0 24 24\"\n",
              "       width=\"24px\">\n",
              "    <path d=\"M0 0h24v24H0V0z\" fill=\"none\"/>\n",
              "    <path d=\"M18.56 5.44l.94 2.06.94-2.06 2.06-.94-2.06-.94-.94-2.06-.94 2.06-2.06.94zm-11 1L8.5 8.5l.94-2.06 2.06-.94-2.06-.94L8.5 2.5l-.94 2.06-2.06.94zm10 10l.94 2.06.94-2.06 2.06-.94-2.06-.94-.94-2.06-.94 2.06-2.06.94z\"/><path d=\"M17.41 7.96l-1.37-1.37c-.4-.4-.92-.59-1.43-.59-.52 0-1.04.2-1.43.59L10.3 9.45l-7.72 7.72c-.78.78-.78 2.05 0 2.83L4 21.41c.39.39.9.59 1.41.59.51 0 1.02-.2 1.41-.59l7.78-7.78 2.81-2.81c.8-.78.8-2.07 0-2.86zM5.41 20L4 18.59l7.72-7.72 1.47 1.35L5.41 20z\"/>\n",
              "  </svg>\n",
              "      </button>\n",
              "      \n",
              "  <style>\n",
              "    .colab-df-container {\n",
              "      display:flex;\n",
              "      flex-wrap:wrap;\n",
              "      gap: 12px;\n",
              "    }\n",
              "\n",
              "    .colab-df-convert {\n",
              "      background-color: #E8F0FE;\n",
              "      border: none;\n",
              "      border-radius: 50%;\n",
              "      cursor: pointer;\n",
              "      display: none;\n",
              "      fill: #1967D2;\n",
              "      height: 32px;\n",
              "      padding: 0 0 0 0;\n",
              "      width: 32px;\n",
              "    }\n",
              "\n",
              "    .colab-df-convert:hover {\n",
              "      background-color: #E2EBFA;\n",
              "      box-shadow: 0px 1px 2px rgba(60, 64, 67, 0.3), 0px 1px 3px 1px rgba(60, 64, 67, 0.15);\n",
              "      fill: #174EA6;\n",
              "    }\n",
              "\n",
              "    [theme=dark] .colab-df-convert {\n",
              "      background-color: #3B4455;\n",
              "      fill: #D2E3FC;\n",
              "    }\n",
              "\n",
              "    [theme=dark] .colab-df-convert:hover {\n",
              "      background-color: #434B5C;\n",
              "      box-shadow: 0px 1px 3px 1px rgba(0, 0, 0, 0.15);\n",
              "      filter: drop-shadow(0px 1px 2px rgba(0, 0, 0, 0.3));\n",
              "      fill: #FFFFFF;\n",
              "    }\n",
              "  </style>\n",
              "\n",
              "      <script>\n",
              "        const buttonEl =\n",
              "          document.querySelector('#df-79ef27fe-c6f3-4f01-9b44-e1790520745e button.colab-df-convert');\n",
              "        buttonEl.style.display =\n",
              "          google.colab.kernel.accessAllowed ? 'block' : 'none';\n",
              "\n",
              "        async function convertToInteractive(key) {\n",
              "          const element = document.querySelector('#df-79ef27fe-c6f3-4f01-9b44-e1790520745e');\n",
              "          const dataTable =\n",
              "            await google.colab.kernel.invokeFunction('convertToInteractive',\n",
              "                                                     [key], {});\n",
              "          if (!dataTable) return;\n",
              "\n",
              "          const docLinkHtml = 'Like what you see? Visit the ' +\n",
              "            '<a target=\"_blank\" href=https://colab.research.google.com/notebooks/data_table.ipynb>data table notebook</a>'\n",
              "            + ' to learn more about interactive tables.';\n",
              "          element.innerHTML = '';\n",
              "          dataTable['output_type'] = 'display_data';\n",
              "          await google.colab.output.renderOutput(dataTable, element);\n",
              "          const docLink = document.createElement('div');\n",
              "          docLink.innerHTML = docLinkHtml;\n",
              "          element.appendChild(docLink);\n",
              "        }\n",
              "      </script>\n",
              "    </div>\n",
              "  </div>\n",
              "  "
            ]
          },
          "metadata": {},
          "execution_count": 27
        }
      ],
      "source": [
        "pd.DataFrame([[f1, acc, recall, precision, specificity, TP , TN, FP, FN]], columns = ['F1 score', 'Accuracy', 'Recall', 'Precision',  'specificity','TP', 'TN', 'FP', 'FN'])"
      ]
    }
  ],
  "metadata": {
    "colab": {
      "collapsed_sections": [],
      "name": "Progetto_AMD_SML.ipynb",
      "provenance": [],
      "include_colab_link": true
    },
    "kernelspec": {
      "display_name": "Python 3 (ipykernel)",
      "language": "python",
      "name": "python3"
    },
    "language_info": {
      "codemirror_mode": {
        "name": "ipython",
        "version": 3
      },
      "file_extension": ".py",
      "mimetype": "text/x-python",
      "name": "python",
      "nbconvert_exporter": "python",
      "pygments_lexer": "ipython3",
      "version": "3.9.7"
    },
    "widgets": {
      "application/vnd.jupyter.widget-state+json": {
        "02707438aff64a18bb37e8f02e5c65c6": {
          "model_module": "@jupyter-widgets/base",
          "model_module_version": "1.2.0",
          "model_name": "LayoutModel",
          "state": {
            "_model_module": "@jupyter-widgets/base",
            "_model_module_version": "1.2.0",
            "_model_name": "LayoutModel",
            "_view_count": null,
            "_view_module": "@jupyter-widgets/base",
            "_view_module_version": "1.2.0",
            "_view_name": "LayoutView",
            "align_content": null,
            "align_items": null,
            "align_self": null,
            "border": null,
            "bottom": null,
            "display": null,
            "flex": null,
            "flex_flow": null,
            "grid_area": null,
            "grid_auto_columns": null,
            "grid_auto_flow": null,
            "grid_auto_rows": null,
            "grid_column": null,
            "grid_gap": null,
            "grid_row": null,
            "grid_template_areas": null,
            "grid_template_columns": null,
            "grid_template_rows": null,
            "height": null,
            "justify_content": null,
            "justify_items": null,
            "left": null,
            "margin": null,
            "max_height": null,
            "max_width": null,
            "min_height": null,
            "min_width": null,
            "object_fit": null,
            "object_position": null,
            "order": null,
            "overflow": null,
            "overflow_x": null,
            "overflow_y": null,
            "padding": null,
            "right": null,
            "top": null,
            "visibility": null,
            "width": null
          }
        },
        "03224af6e1944fe2aa5dfee0d1bfd275": {
          "model_module": "@jupyter-widgets/base",
          "model_module_version": "1.2.0",
          "model_name": "LayoutModel",
          "state": {
            "_model_module": "@jupyter-widgets/base",
            "_model_module_version": "1.2.0",
            "_model_name": "LayoutModel",
            "_view_count": null,
            "_view_module": "@jupyter-widgets/base",
            "_view_module_version": "1.2.0",
            "_view_name": "LayoutView",
            "align_content": null,
            "align_items": null,
            "align_self": null,
            "border": null,
            "bottom": null,
            "display": null,
            "flex": null,
            "flex_flow": null,
            "grid_area": null,
            "grid_auto_columns": null,
            "grid_auto_flow": null,
            "grid_auto_rows": null,
            "grid_column": null,
            "grid_gap": null,
            "grid_row": null,
            "grid_template_areas": null,
            "grid_template_columns": null,
            "grid_template_rows": null,
            "height": null,
            "justify_content": null,
            "justify_items": null,
            "left": null,
            "margin": null,
            "max_height": null,
            "max_width": null,
            "min_height": null,
            "min_width": null,
            "object_fit": null,
            "object_position": null,
            "order": null,
            "overflow": null,
            "overflow_x": null,
            "overflow_y": null,
            "padding": null,
            "right": null,
            "top": null,
            "visibility": null,
            "width": null
          }
        },
        "0324f10378eb45378d74f237c28414ef": {
          "model_module": "@jupyter-widgets/base",
          "model_module_version": "1.2.0",
          "model_name": "LayoutModel",
          "state": {
            "_model_module": "@jupyter-widgets/base",
            "_model_module_version": "1.2.0",
            "_model_name": "LayoutModel",
            "_view_count": null,
            "_view_module": "@jupyter-widgets/base",
            "_view_module_version": "1.2.0",
            "_view_name": "LayoutView",
            "align_content": null,
            "align_items": null,
            "align_self": null,
            "border": null,
            "bottom": null,
            "display": null,
            "flex": null,
            "flex_flow": null,
            "grid_area": null,
            "grid_auto_columns": null,
            "grid_auto_flow": null,
            "grid_auto_rows": null,
            "grid_column": null,
            "grid_gap": null,
            "grid_row": null,
            "grid_template_areas": null,
            "grid_template_columns": null,
            "grid_template_rows": null,
            "height": null,
            "justify_content": null,
            "justify_items": null,
            "left": null,
            "margin": null,
            "max_height": null,
            "max_width": null,
            "min_height": null,
            "min_width": null,
            "object_fit": null,
            "object_position": null,
            "order": null,
            "overflow": null,
            "overflow_x": null,
            "overflow_y": null,
            "padding": null,
            "right": null,
            "top": null,
            "visibility": null,
            "width": null
          }
        },
        "03bbcebba08f45cfb577e1b0fa246a6a": {
          "model_module": "@jupyter-widgets/controls",
          "model_module_version": "1.5.0",
          "model_name": "ProgressStyleModel",
          "state": {
            "_model_module": "@jupyter-widgets/controls",
            "_model_module_version": "1.5.0",
            "_model_name": "ProgressStyleModel",
            "_view_count": null,
            "_view_module": "@jupyter-widgets/base",
            "_view_module_version": "1.2.0",
            "_view_name": "StyleView",
            "bar_color": null,
            "description_width": ""
          }
        },
        "04bed61157444cc5a73fcd0b6e04ee11": {
          "model_module": "@jupyter-widgets/controls",
          "model_module_version": "1.5.0",
          "model_name": "DescriptionStyleModel",
          "state": {
            "_model_module": "@jupyter-widgets/controls",
            "_model_module_version": "1.5.0",
            "_model_name": "DescriptionStyleModel",
            "_view_count": null,
            "_view_module": "@jupyter-widgets/base",
            "_view_module_version": "1.2.0",
            "_view_name": "StyleView",
            "description_width": ""
          }
        },
        "06976e6315254715ba332f42fc89d65f": {
          "model_module": "@jupyter-widgets/controls",
          "model_module_version": "1.5.0",
          "model_name": "DescriptionStyleModel",
          "state": {
            "_model_module": "@jupyter-widgets/controls",
            "_model_module_version": "1.5.0",
            "_model_name": "DescriptionStyleModel",
            "_view_count": null,
            "_view_module": "@jupyter-widgets/base",
            "_view_module_version": "1.2.0",
            "_view_name": "StyleView",
            "description_width": ""
          }
        },
        "09dfacf5c9ab4911925bcce01a08787c": {
          "model_module": "@jupyter-widgets/controls",
          "model_module_version": "1.5.0",
          "model_name": "HBoxModel",
          "state": {
            "_dom_classes": [],
            "_model_module": "@jupyter-widgets/controls",
            "_model_module_version": "1.5.0",
            "_model_name": "HBoxModel",
            "_view_count": null,
            "_view_module": "@jupyter-widgets/controls",
            "_view_module_version": "1.5.0",
            "_view_name": "HBoxView",
            "box_style": "",
            "children": [
              "IPY_MODEL_0fab2701be2d40a981a8dc8e81b7df55",
              "IPY_MODEL_e899d273f9144960a2604269c657b3c6",
              "IPY_MODEL_1d9208c6ae8c4b3aa3c66a9c8ec523fb"
            ],
            "layout": "IPY_MODEL_db5b5af34d2844a0aca0d07dbcd5b6e5"
          }
        },
        "0b79e68f46184635b15f0e698cbb9737": {
          "model_module": "@jupyter-widgets/controls",
          "model_module_version": "1.5.0",
          "model_name": "DescriptionStyleModel",
          "state": {
            "_model_module": "@jupyter-widgets/controls",
            "_model_module_version": "1.5.0",
            "_model_name": "DescriptionStyleModel",
            "_view_count": null,
            "_view_module": "@jupyter-widgets/base",
            "_view_module_version": "1.2.0",
            "_view_name": "StyleView",
            "description_width": ""
          }
        },
        "0cc27e2b3f5e414aaa1f7b2481092641": {
          "model_module": "@jupyter-widgets/base",
          "model_module_version": "1.2.0",
          "model_name": "LayoutModel",
          "state": {
            "_model_module": "@jupyter-widgets/base",
            "_model_module_version": "1.2.0",
            "_model_name": "LayoutModel",
            "_view_count": null,
            "_view_module": "@jupyter-widgets/base",
            "_view_module_version": "1.2.0",
            "_view_name": "LayoutView",
            "align_content": null,
            "align_items": null,
            "align_self": null,
            "border": null,
            "bottom": null,
            "display": null,
            "flex": null,
            "flex_flow": null,
            "grid_area": null,
            "grid_auto_columns": null,
            "grid_auto_flow": null,
            "grid_auto_rows": null,
            "grid_column": null,
            "grid_gap": null,
            "grid_row": null,
            "grid_template_areas": null,
            "grid_template_columns": null,
            "grid_template_rows": null,
            "height": null,
            "justify_content": null,
            "justify_items": null,
            "left": null,
            "margin": null,
            "max_height": null,
            "max_width": null,
            "min_height": null,
            "min_width": null,
            "object_fit": null,
            "object_position": null,
            "order": null,
            "overflow": null,
            "overflow_x": null,
            "overflow_y": null,
            "padding": null,
            "right": null,
            "top": null,
            "visibility": null,
            "width": null
          }
        },
        "0dce1347990c4001a97a876435f7075e": {
          "model_module": "@jupyter-widgets/controls",
          "model_module_version": "1.5.0",
          "model_name": "DescriptionStyleModel",
          "state": {
            "_model_module": "@jupyter-widgets/controls",
            "_model_module_version": "1.5.0",
            "_model_name": "DescriptionStyleModel",
            "_view_count": null,
            "_view_module": "@jupyter-widgets/base",
            "_view_module_version": "1.2.0",
            "_view_name": "StyleView",
            "description_width": ""
          }
        },
        "0de49aeb042e4a8ca96f440e1b00c35f": {
          "model_module": "@jupyter-widgets/controls",
          "model_module_version": "1.5.0",
          "model_name": "DescriptionStyleModel",
          "state": {
            "_model_module": "@jupyter-widgets/controls",
            "_model_module_version": "1.5.0",
            "_model_name": "DescriptionStyleModel",
            "_view_count": null,
            "_view_module": "@jupyter-widgets/base",
            "_view_module_version": "1.2.0",
            "_view_name": "StyleView",
            "description_width": ""
          }
        },
        "0eeb45387de64dc7bf265a9c9a3685d3": {
          "model_module": "@jupyter-widgets/controls",
          "model_module_version": "1.5.0",
          "model_name": "ProgressStyleModel",
          "state": {
            "_model_module": "@jupyter-widgets/controls",
            "_model_module_version": "1.5.0",
            "_model_name": "ProgressStyleModel",
            "_view_count": null,
            "_view_module": "@jupyter-widgets/base",
            "_view_module_version": "1.2.0",
            "_view_name": "StyleView",
            "bar_color": null,
            "description_width": ""
          }
        },
        "0f5eb450ec2e480b82acbecfc52f967a": {
          "model_module": "@jupyter-widgets/controls",
          "model_module_version": "1.5.0",
          "model_name": "HBoxModel",
          "state": {
            "_dom_classes": [],
            "_model_module": "@jupyter-widgets/controls",
            "_model_module_version": "1.5.0",
            "_model_name": "HBoxModel",
            "_view_count": null,
            "_view_module": "@jupyter-widgets/controls",
            "_view_module_version": "1.5.0",
            "_view_name": "HBoxView",
            "box_style": "",
            "children": [
              "IPY_MODEL_84d40b52956b41c0ae0744b11833289c",
              "IPY_MODEL_60571d4536944b85902887a5425bbdbb",
              "IPY_MODEL_5df11b4fe78a40acbce74cde013011c2"
            ],
            "layout": "IPY_MODEL_02707438aff64a18bb37e8f02e5c65c6"
          }
        },
        "0fab2701be2d40a981a8dc8e81b7df55": {
          "model_module": "@jupyter-widgets/controls",
          "model_module_version": "1.5.0",
          "model_name": "HTMLModel",
          "state": {
            "_dom_classes": [],
            "_model_module": "@jupyter-widgets/controls",
            "_model_module_version": "1.5.0",
            "_model_name": "HTMLModel",
            "_view_count": null,
            "_view_module": "@jupyter-widgets/controls",
            "_view_module_version": "1.5.0",
            "_view_name": "HTMLView",
            "description": "",
            "description_tooltip": null,
            "layout": "IPY_MODEL_a087ba4250e944899f6ebca3007930d0",
            "placeholder": "​",
            "style": "IPY_MODEL_0dce1347990c4001a97a876435f7075e",
            "value": "loss: 153.15156725558444: 100%"
          }
        },
        "1318d466f33847baaaea9df374b2f971": {
          "model_module": "@jupyter-widgets/controls",
          "model_module_version": "1.5.0",
          "model_name": "DescriptionStyleModel",
          "state": {
            "_model_module": "@jupyter-widgets/controls",
            "_model_module_version": "1.5.0",
            "_model_name": "DescriptionStyleModel",
            "_view_count": null,
            "_view_module": "@jupyter-widgets/base",
            "_view_module_version": "1.2.0",
            "_view_name": "StyleView",
            "description_width": ""
          }
        },
        "13673243061149c79384446e40798cb9": {
          "model_module": "@jupyter-widgets/controls",
          "model_module_version": "1.5.0",
          "model_name": "DescriptionStyleModel",
          "state": {
            "_model_module": "@jupyter-widgets/controls",
            "_model_module_version": "1.5.0",
            "_model_name": "DescriptionStyleModel",
            "_view_count": null,
            "_view_module": "@jupyter-widgets/base",
            "_view_module_version": "1.2.0",
            "_view_name": "StyleView",
            "description_width": ""
          }
        },
        "13def3eee65b4ba090cdd18d64a45fee": {
          "model_module": "@jupyter-widgets/controls",
          "model_module_version": "1.5.0",
          "model_name": "DescriptionStyleModel",
          "state": {
            "_model_module": "@jupyter-widgets/controls",
            "_model_module_version": "1.5.0",
            "_model_name": "DescriptionStyleModel",
            "_view_count": null,
            "_view_module": "@jupyter-widgets/base",
            "_view_module_version": "1.2.0",
            "_view_name": "StyleView",
            "description_width": ""
          }
        },
        "149c17348da44aab80dfbda547482329": {
          "model_module": "@jupyter-widgets/controls",
          "model_module_version": "1.5.0",
          "model_name": "DescriptionStyleModel",
          "state": {
            "_model_module": "@jupyter-widgets/controls",
            "_model_module_version": "1.5.0",
            "_model_name": "DescriptionStyleModel",
            "_view_count": null,
            "_view_module": "@jupyter-widgets/base",
            "_view_module_version": "1.2.0",
            "_view_name": "StyleView",
            "description_width": ""
          }
        },
        "16a09e02868b412f842e92c2087729ee": {
          "model_module": "@jupyter-widgets/base",
          "model_module_version": "1.2.0",
          "model_name": "LayoutModel",
          "state": {
            "_model_module": "@jupyter-widgets/base",
            "_model_module_version": "1.2.0",
            "_model_name": "LayoutModel",
            "_view_count": null,
            "_view_module": "@jupyter-widgets/base",
            "_view_module_version": "1.2.0",
            "_view_name": "LayoutView",
            "align_content": null,
            "align_items": null,
            "align_self": null,
            "border": null,
            "bottom": null,
            "display": null,
            "flex": null,
            "flex_flow": null,
            "grid_area": null,
            "grid_auto_columns": null,
            "grid_auto_flow": null,
            "grid_auto_rows": null,
            "grid_column": null,
            "grid_gap": null,
            "grid_row": null,
            "grid_template_areas": null,
            "grid_template_columns": null,
            "grid_template_rows": null,
            "height": null,
            "justify_content": null,
            "justify_items": null,
            "left": null,
            "margin": null,
            "max_height": null,
            "max_width": null,
            "min_height": null,
            "min_width": null,
            "object_fit": null,
            "object_position": null,
            "order": null,
            "overflow": null,
            "overflow_x": null,
            "overflow_y": null,
            "padding": null,
            "right": null,
            "top": null,
            "visibility": null,
            "width": null
          }
        },
        "18068600e0954e16a01596623ad87062": {
          "model_module": "@jupyter-widgets/controls",
          "model_module_version": "1.5.0",
          "model_name": "HBoxModel",
          "state": {
            "_dom_classes": [],
            "_model_module": "@jupyter-widgets/controls",
            "_model_module_version": "1.5.0",
            "_model_name": "HBoxModel",
            "_view_count": null,
            "_view_module": "@jupyter-widgets/controls",
            "_view_module_version": "1.5.0",
            "_view_name": "HBoxView",
            "box_style": "",
            "children": [
              "IPY_MODEL_9bf453586c204445b4bb0a7ccd683c60",
              "IPY_MODEL_91e7897d1ec4450fa7c6d49d093568cd",
              "IPY_MODEL_f2ff2a9805984dc096d74238e3692b2a"
            ],
            "layout": "IPY_MODEL_205907bbf168422e9ec04b4a579c8f57"
          }
        },
        "18d0e281c5924f31acb54628644b9d8d": {
          "model_module": "@jupyter-widgets/controls",
          "model_module_version": "1.5.0",
          "model_name": "HTMLModel",
          "state": {
            "_dom_classes": [],
            "_model_module": "@jupyter-widgets/controls",
            "_model_module_version": "1.5.0",
            "_model_name": "HTMLModel",
            "_view_count": null,
            "_view_module": "@jupyter-widgets/controls",
            "_view_module_version": "1.5.0",
            "_view_name": "HTMLView",
            "description": "",
            "description_tooltip": null,
            "layout": "IPY_MODEL_b1c17ad4b42b47f98d98a94518b07fe5",
            "placeholder": "​",
            "style": "IPY_MODEL_c989b9943db44283bf40b44080a00779",
            "value": "loss: 56.789088365561575: 100%"
          }
        },
        "1b70a022a10742fe870189fb5bd8371a": {
          "model_module": "@jupyter-widgets/controls",
          "model_module_version": "1.5.0",
          "model_name": "HBoxModel",
          "state": {
            "_dom_classes": [],
            "_model_module": "@jupyter-widgets/controls",
            "_model_module_version": "1.5.0",
            "_model_name": "HBoxModel",
            "_view_count": null,
            "_view_module": "@jupyter-widgets/controls",
            "_view_module_version": "1.5.0",
            "_view_name": "HBoxView",
            "box_style": "",
            "children": [
              "IPY_MODEL_7814e4f683b64f699847f7e0a7a77185",
              "IPY_MODEL_f92f7123e87e48ee839f09a2fc4532fd",
              "IPY_MODEL_aa44904b7daa489790d5199b42249d9c"
            ],
            "layout": "IPY_MODEL_1f450df7cfae42ce9bc547ca53bd04ee"
          }
        },
        "1d9208c6ae8c4b3aa3c66a9c8ec523fb": {
          "model_module": "@jupyter-widgets/controls",
          "model_module_version": "1.5.0",
          "model_name": "HTMLModel",
          "state": {
            "_dom_classes": [],
            "_model_module": "@jupyter-widgets/controls",
            "_model_module_version": "1.5.0",
            "_model_name": "HTMLModel",
            "_view_count": null,
            "_view_module": "@jupyter-widgets/controls",
            "_view_module_version": "1.5.0",
            "_view_name": "HTMLView",
            "description": "",
            "description_tooltip": null,
            "layout": "IPY_MODEL_e29b8fb40c5e4430a8f3b1f6c14caffc",
            "placeholder": "​",
            "style": "IPY_MODEL_a9cb6e4db328406faa91177da3cfcac6",
            "value": " 100/100 [00:21&lt;00:00,  3.84it/s]"
          }
        },
        "1f450df7cfae42ce9bc547ca53bd04ee": {
          "model_module": "@jupyter-widgets/base",
          "model_module_version": "1.2.0",
          "model_name": "LayoutModel",
          "state": {
            "_model_module": "@jupyter-widgets/base",
            "_model_module_version": "1.2.0",
            "_model_name": "LayoutModel",
            "_view_count": null,
            "_view_module": "@jupyter-widgets/base",
            "_view_module_version": "1.2.0",
            "_view_name": "LayoutView",
            "align_content": null,
            "align_items": null,
            "align_self": null,
            "border": null,
            "bottom": null,
            "display": null,
            "flex": null,
            "flex_flow": null,
            "grid_area": null,
            "grid_auto_columns": null,
            "grid_auto_flow": null,
            "grid_auto_rows": null,
            "grid_column": null,
            "grid_gap": null,
            "grid_row": null,
            "grid_template_areas": null,
            "grid_template_columns": null,
            "grid_template_rows": null,
            "height": null,
            "justify_content": null,
            "justify_items": null,
            "left": null,
            "margin": null,
            "max_height": null,
            "max_width": null,
            "min_height": null,
            "min_width": null,
            "object_fit": null,
            "object_position": null,
            "order": null,
            "overflow": null,
            "overflow_x": null,
            "overflow_y": null,
            "padding": null,
            "right": null,
            "top": null,
            "visibility": null,
            "width": null
          }
        },
        "1fcda0c7bf5b4d489d885e72425d1937": {
          "model_module": "@jupyter-widgets/controls",
          "model_module_version": "1.5.0",
          "model_name": "DescriptionStyleModel",
          "state": {
            "_model_module": "@jupyter-widgets/controls",
            "_model_module_version": "1.5.0",
            "_model_name": "DescriptionStyleModel",
            "_view_count": null,
            "_view_module": "@jupyter-widgets/base",
            "_view_module_version": "1.2.0",
            "_view_name": "StyleView",
            "description_width": ""
          }
        },
        "205907bbf168422e9ec04b4a579c8f57": {
          "model_module": "@jupyter-widgets/base",
          "model_module_version": "1.2.0",
          "model_name": "LayoutModel",
          "state": {
            "_model_module": "@jupyter-widgets/base",
            "_model_module_version": "1.2.0",
            "_model_name": "LayoutModel",
            "_view_count": null,
            "_view_module": "@jupyter-widgets/base",
            "_view_module_version": "1.2.0",
            "_view_name": "LayoutView",
            "align_content": null,
            "align_items": null,
            "align_self": null,
            "border": null,
            "bottom": null,
            "display": null,
            "flex": null,
            "flex_flow": null,
            "grid_area": null,
            "grid_auto_columns": null,
            "grid_auto_flow": null,
            "grid_auto_rows": null,
            "grid_column": null,
            "grid_gap": null,
            "grid_row": null,
            "grid_template_areas": null,
            "grid_template_columns": null,
            "grid_template_rows": null,
            "height": null,
            "justify_content": null,
            "justify_items": null,
            "left": null,
            "margin": null,
            "max_height": null,
            "max_width": null,
            "min_height": null,
            "min_width": null,
            "object_fit": null,
            "object_position": null,
            "order": null,
            "overflow": null,
            "overflow_x": null,
            "overflow_y": null,
            "padding": null,
            "right": null,
            "top": null,
            "visibility": null,
            "width": null
          }
        },
        "2b160a8a7ddb459e93da5413d1136d39": {
          "model_module": "@jupyter-widgets/controls",
          "model_module_version": "1.5.0",
          "model_name": "HTMLModel",
          "state": {
            "_dom_classes": [],
            "_model_module": "@jupyter-widgets/controls",
            "_model_module_version": "1.5.0",
            "_model_name": "HTMLModel",
            "_view_count": null,
            "_view_module": "@jupyter-widgets/controls",
            "_view_module_version": "1.5.0",
            "_view_name": "HTMLView",
            "description": "",
            "description_tooltip": null,
            "layout": "IPY_MODEL_ed0392365cbf4fb7b641505d548634c4",
            "placeholder": "​",
            "style": "IPY_MODEL_e78b96c065fe46658a930ac8a43673b4",
            "value": "loss: 73.90754308675452: 100%"
          }
        },
        "2b43d2a964324d9b856b2f95f596025e": {
          "model_module": "@jupyter-widgets/base",
          "model_module_version": "1.2.0",
          "model_name": "LayoutModel",
          "state": {
            "_model_module": "@jupyter-widgets/base",
            "_model_module_version": "1.2.0",
            "_model_name": "LayoutModel",
            "_view_count": null,
            "_view_module": "@jupyter-widgets/base",
            "_view_module_version": "1.2.0",
            "_view_name": "LayoutView",
            "align_content": null,
            "align_items": null,
            "align_self": null,
            "border": null,
            "bottom": null,
            "display": null,
            "flex": null,
            "flex_flow": null,
            "grid_area": null,
            "grid_auto_columns": null,
            "grid_auto_flow": null,
            "grid_auto_rows": null,
            "grid_column": null,
            "grid_gap": null,
            "grid_row": null,
            "grid_template_areas": null,
            "grid_template_columns": null,
            "grid_template_rows": null,
            "height": null,
            "justify_content": null,
            "justify_items": null,
            "left": null,
            "margin": null,
            "max_height": null,
            "max_width": null,
            "min_height": null,
            "min_width": null,
            "object_fit": null,
            "object_position": null,
            "order": null,
            "overflow": null,
            "overflow_x": null,
            "overflow_y": null,
            "padding": null,
            "right": null,
            "top": null,
            "visibility": null,
            "width": null
          }
        },
        "2c3c1186e71a4869a5fead96a2a6a82e": {
          "model_module": "@jupyter-widgets/controls",
          "model_module_version": "1.5.0",
          "model_name": "ProgressStyleModel",
          "state": {
            "_model_module": "@jupyter-widgets/controls",
            "_model_module_version": "1.5.0",
            "_model_name": "ProgressStyleModel",
            "_view_count": null,
            "_view_module": "@jupyter-widgets/base",
            "_view_module_version": "1.2.0",
            "_view_name": "StyleView",
            "bar_color": null,
            "description_width": ""
          }
        },
        "30c655253943439189820e1f06ae05f1": {
          "model_module": "@jupyter-widgets/controls",
          "model_module_version": "1.5.0",
          "model_name": "HTMLModel",
          "state": {
            "_dom_classes": [],
            "_model_module": "@jupyter-widgets/controls",
            "_model_module_version": "1.5.0",
            "_model_name": "HTMLModel",
            "_view_count": null,
            "_view_module": "@jupyter-widgets/controls",
            "_view_module_version": "1.5.0",
            "_view_name": "HTMLView",
            "description": "",
            "description_tooltip": null,
            "layout": "IPY_MODEL_94aa0ad13a2a49bdb0dd2d5e95c4bbd4",
            "placeholder": "​",
            "style": "IPY_MODEL_f27a2c93e47f46b19bebcf37fe729581",
            "value": "loss: 63.10851883245493: 100%"
          }
        },
        "324f1e74c83b4e8e81e86e0f2d087550": {
          "model_module": "@jupyter-widgets/controls",
          "model_module_version": "1.5.0",
          "model_name": "FloatProgressModel",
          "state": {
            "_dom_classes": [],
            "_model_module": "@jupyter-widgets/controls",
            "_model_module_version": "1.5.0",
            "_model_name": "FloatProgressModel",
            "_view_count": null,
            "_view_module": "@jupyter-widgets/controls",
            "_view_module_version": "1.5.0",
            "_view_name": "ProgressView",
            "bar_style": "success",
            "description": "",
            "description_tooltip": null,
            "layout": "IPY_MODEL_c18588af5fdd4bc094a32a0489a94b31",
            "max": 500,
            "min": 0,
            "orientation": "horizontal",
            "style": "IPY_MODEL_cba5a8c8906a460e90f2017075f096c0",
            "value": 500
          }
        },
        "339f9e1b52334f688d4e4a7907243636": {
          "model_module": "@jupyter-widgets/base",
          "model_module_version": "1.2.0",
          "model_name": "LayoutModel",
          "state": {
            "_model_module": "@jupyter-widgets/base",
            "_model_module_version": "1.2.0",
            "_model_name": "LayoutModel",
            "_view_count": null,
            "_view_module": "@jupyter-widgets/base",
            "_view_module_version": "1.2.0",
            "_view_name": "LayoutView",
            "align_content": null,
            "align_items": null,
            "align_self": null,
            "border": null,
            "bottom": null,
            "display": null,
            "flex": null,
            "flex_flow": null,
            "grid_area": null,
            "grid_auto_columns": null,
            "grid_auto_flow": null,
            "grid_auto_rows": null,
            "grid_column": null,
            "grid_gap": null,
            "grid_row": null,
            "grid_template_areas": null,
            "grid_template_columns": null,
            "grid_template_rows": null,
            "height": null,
            "justify_content": null,
            "justify_items": null,
            "left": null,
            "margin": null,
            "max_height": null,
            "max_width": null,
            "min_height": null,
            "min_width": null,
            "object_fit": null,
            "object_position": null,
            "order": null,
            "overflow": null,
            "overflow_x": null,
            "overflow_y": null,
            "padding": null,
            "right": null,
            "top": null,
            "visibility": null,
            "width": null
          }
        },
        "3550e41853a74e88ad62054ca4fcedf8": {
          "model_module": "@jupyter-widgets/controls",
          "model_module_version": "1.5.0",
          "model_name": "DescriptionStyleModel",
          "state": {
            "_model_module": "@jupyter-widgets/controls",
            "_model_module_version": "1.5.0",
            "_model_name": "DescriptionStyleModel",
            "_view_count": null,
            "_view_module": "@jupyter-widgets/base",
            "_view_module_version": "1.2.0",
            "_view_name": "StyleView",
            "description_width": ""
          }
        },
        "35ba52f1ea314265946aaf8a6d8e369b": {
          "model_module": "@jupyter-widgets/controls",
          "model_module_version": "1.5.0",
          "model_name": "DescriptionStyleModel",
          "state": {
            "_model_module": "@jupyter-widgets/controls",
            "_model_module_version": "1.5.0",
            "_model_name": "DescriptionStyleModel",
            "_view_count": null,
            "_view_module": "@jupyter-widgets/base",
            "_view_module_version": "1.2.0",
            "_view_name": "StyleView",
            "description_width": ""
          }
        },
        "362db7b355414c53af9de2d6669db7a1": {
          "model_module": "@jupyter-widgets/base",
          "model_module_version": "1.2.0",
          "model_name": "LayoutModel",
          "state": {
            "_model_module": "@jupyter-widgets/base",
            "_model_module_version": "1.2.0",
            "_model_name": "LayoutModel",
            "_view_count": null,
            "_view_module": "@jupyter-widgets/base",
            "_view_module_version": "1.2.0",
            "_view_name": "LayoutView",
            "align_content": null,
            "align_items": null,
            "align_self": null,
            "border": null,
            "bottom": null,
            "display": null,
            "flex": null,
            "flex_flow": null,
            "grid_area": null,
            "grid_auto_columns": null,
            "grid_auto_flow": null,
            "grid_auto_rows": null,
            "grid_column": null,
            "grid_gap": null,
            "grid_row": null,
            "grid_template_areas": null,
            "grid_template_columns": null,
            "grid_template_rows": null,
            "height": null,
            "justify_content": null,
            "justify_items": null,
            "left": null,
            "margin": null,
            "max_height": null,
            "max_width": null,
            "min_height": null,
            "min_width": null,
            "object_fit": null,
            "object_position": null,
            "order": null,
            "overflow": null,
            "overflow_x": null,
            "overflow_y": null,
            "padding": null,
            "right": null,
            "top": null,
            "visibility": null,
            "width": null
          }
        },
        "378d4af65a97429a87192ac0b0e333f2": {
          "model_module": "@jupyter-widgets/controls",
          "model_module_version": "1.5.0",
          "model_name": "HBoxModel",
          "state": {
            "_dom_classes": [],
            "_model_module": "@jupyter-widgets/controls",
            "_model_module_version": "1.5.0",
            "_model_name": "HBoxModel",
            "_view_count": null,
            "_view_module": "@jupyter-widgets/controls",
            "_view_module_version": "1.5.0",
            "_view_name": "HBoxView",
            "box_style": "",
            "children": [
              "IPY_MODEL_18d0e281c5924f31acb54628644b9d8d",
              "IPY_MODEL_dcef2946b72b467fa06ed5f1339d0474",
              "IPY_MODEL_6632713786bb48fd97a1716e54705d3a"
            ],
            "layout": "IPY_MODEL_c883d205bc9d4f27a6bfaf90bd4d3e39"
          }
        },
        "38598b311eb3403ab0b097159335b6f9": {
          "model_module": "@jupyter-widgets/controls",
          "model_module_version": "1.5.0",
          "model_name": "DescriptionStyleModel",
          "state": {
            "_model_module": "@jupyter-widgets/controls",
            "_model_module_version": "1.5.0",
            "_model_name": "DescriptionStyleModel",
            "_view_count": null,
            "_view_module": "@jupyter-widgets/base",
            "_view_module_version": "1.2.0",
            "_view_name": "StyleView",
            "description_width": ""
          }
        },
        "387503a4e544441ca7b9ef6a3d5ed35c": {
          "model_module": "@jupyter-widgets/controls",
          "model_module_version": "1.5.0",
          "model_name": "ProgressStyleModel",
          "state": {
            "_model_module": "@jupyter-widgets/controls",
            "_model_module_version": "1.5.0",
            "_model_name": "ProgressStyleModel",
            "_view_count": null,
            "_view_module": "@jupyter-widgets/base",
            "_view_module_version": "1.2.0",
            "_view_name": "StyleView",
            "bar_color": null,
            "description_width": ""
          }
        },
        "39db20bc2b8443239a3424bcfb84f002": {
          "model_module": "@jupyter-widgets/controls",
          "model_module_version": "1.5.0",
          "model_name": "HTMLModel",
          "state": {
            "_dom_classes": [],
            "_model_module": "@jupyter-widgets/controls",
            "_model_module_version": "1.5.0",
            "_model_name": "HTMLModel",
            "_view_count": null,
            "_view_module": "@jupyter-widgets/controls",
            "_view_module_version": "1.5.0",
            "_view_name": "HTMLView",
            "description": "",
            "description_tooltip": null,
            "layout": "IPY_MODEL_9fca10a4ecd84bdb989236fd9944d5da",
            "placeholder": "​",
            "style": "IPY_MODEL_0b79e68f46184635b15f0e698cbb9737",
            "value": " 1100/1100 [03:11&lt;00:00,  6.25it/s]"
          }
        },
        "39e0078a376f4c0f899467f2bd101846": {
          "model_module": "@jupyter-widgets/base",
          "model_module_version": "1.2.0",
          "model_name": "LayoutModel",
          "state": {
            "_model_module": "@jupyter-widgets/base",
            "_model_module_version": "1.2.0",
            "_model_name": "LayoutModel",
            "_view_count": null,
            "_view_module": "@jupyter-widgets/base",
            "_view_module_version": "1.2.0",
            "_view_name": "LayoutView",
            "align_content": null,
            "align_items": null,
            "align_self": null,
            "border": null,
            "bottom": null,
            "display": null,
            "flex": null,
            "flex_flow": null,
            "grid_area": null,
            "grid_auto_columns": null,
            "grid_auto_flow": null,
            "grid_auto_rows": null,
            "grid_column": null,
            "grid_gap": null,
            "grid_row": null,
            "grid_template_areas": null,
            "grid_template_columns": null,
            "grid_template_rows": null,
            "height": null,
            "justify_content": null,
            "justify_items": null,
            "left": null,
            "margin": null,
            "max_height": null,
            "max_width": null,
            "min_height": null,
            "min_width": null,
            "object_fit": null,
            "object_position": null,
            "order": null,
            "overflow": null,
            "overflow_x": null,
            "overflow_y": null,
            "padding": null,
            "right": null,
            "top": null,
            "visibility": null,
            "width": null
          }
        },
        "3a186ca7240e4473be91a53dbabb46a5": {
          "model_module": "@jupyter-widgets/base",
          "model_module_version": "1.2.0",
          "model_name": "LayoutModel",
          "state": {
            "_model_module": "@jupyter-widgets/base",
            "_model_module_version": "1.2.0",
            "_model_name": "LayoutModel",
            "_view_count": null,
            "_view_module": "@jupyter-widgets/base",
            "_view_module_version": "1.2.0",
            "_view_name": "LayoutView",
            "align_content": null,
            "align_items": null,
            "align_self": null,
            "border": null,
            "bottom": null,
            "display": null,
            "flex": null,
            "flex_flow": null,
            "grid_area": null,
            "grid_auto_columns": null,
            "grid_auto_flow": null,
            "grid_auto_rows": null,
            "grid_column": null,
            "grid_gap": null,
            "grid_row": null,
            "grid_template_areas": null,
            "grid_template_columns": null,
            "grid_template_rows": null,
            "height": null,
            "justify_content": null,
            "justify_items": null,
            "left": null,
            "margin": null,
            "max_height": null,
            "max_width": null,
            "min_height": null,
            "min_width": null,
            "object_fit": null,
            "object_position": null,
            "order": null,
            "overflow": null,
            "overflow_x": null,
            "overflow_y": null,
            "padding": null,
            "right": null,
            "top": null,
            "visibility": null,
            "width": null
          }
        },
        "3c33144df0af4b30a825ba455c18b6c5": {
          "model_module": "@jupyter-widgets/controls",
          "model_module_version": "1.5.0",
          "model_name": "ProgressStyleModel",
          "state": {
            "_model_module": "@jupyter-widgets/controls",
            "_model_module_version": "1.5.0",
            "_model_name": "ProgressStyleModel",
            "_view_count": null,
            "_view_module": "@jupyter-widgets/base",
            "_view_module_version": "1.2.0",
            "_view_name": "StyleView",
            "bar_color": null,
            "description_width": ""
          }
        },
        "3ed6bbee04f2440ebf1fbaa99c244708": {
          "model_module": "@jupyter-widgets/base",
          "model_module_version": "1.2.0",
          "model_name": "LayoutModel",
          "state": {
            "_model_module": "@jupyter-widgets/base",
            "_model_module_version": "1.2.0",
            "_model_name": "LayoutModel",
            "_view_count": null,
            "_view_module": "@jupyter-widgets/base",
            "_view_module_version": "1.2.0",
            "_view_name": "LayoutView",
            "align_content": null,
            "align_items": null,
            "align_self": null,
            "border": null,
            "bottom": null,
            "display": null,
            "flex": null,
            "flex_flow": null,
            "grid_area": null,
            "grid_auto_columns": null,
            "grid_auto_flow": null,
            "grid_auto_rows": null,
            "grid_column": null,
            "grid_gap": null,
            "grid_row": null,
            "grid_template_areas": null,
            "grid_template_columns": null,
            "grid_template_rows": null,
            "height": null,
            "justify_content": null,
            "justify_items": null,
            "left": null,
            "margin": null,
            "max_height": null,
            "max_width": null,
            "min_height": null,
            "min_width": null,
            "object_fit": null,
            "object_position": null,
            "order": null,
            "overflow": null,
            "overflow_x": null,
            "overflow_y": null,
            "padding": null,
            "right": null,
            "top": null,
            "visibility": null,
            "width": null
          }
        },
        "4085b902725d4a36b7071eb7d2cdb843": {
          "model_module": "@jupyter-widgets/controls",
          "model_module_version": "1.5.0",
          "model_name": "DescriptionStyleModel",
          "state": {
            "_model_module": "@jupyter-widgets/controls",
            "_model_module_version": "1.5.0",
            "_model_name": "DescriptionStyleModel",
            "_view_count": null,
            "_view_module": "@jupyter-widgets/base",
            "_view_module_version": "1.2.0",
            "_view_name": "StyleView",
            "description_width": ""
          }
        },
        "42872394c36543fea91bf3d88f156b49": {
          "model_module": "@jupyter-widgets/controls",
          "model_module_version": "1.5.0",
          "model_name": "DescriptionStyleModel",
          "state": {
            "_model_module": "@jupyter-widgets/controls",
            "_model_module_version": "1.5.0",
            "_model_name": "DescriptionStyleModel",
            "_view_count": null,
            "_view_module": "@jupyter-widgets/base",
            "_view_module_version": "1.2.0",
            "_view_name": "StyleView",
            "description_width": ""
          }
        },
        "42b2d1c9c54349f38726851df1a64188": {
          "model_module": "@jupyter-widgets/base",
          "model_module_version": "1.2.0",
          "model_name": "LayoutModel",
          "state": {
            "_model_module": "@jupyter-widgets/base",
            "_model_module_version": "1.2.0",
            "_model_name": "LayoutModel",
            "_view_count": null,
            "_view_module": "@jupyter-widgets/base",
            "_view_module_version": "1.2.0",
            "_view_name": "LayoutView",
            "align_content": null,
            "align_items": null,
            "align_self": null,
            "border": null,
            "bottom": null,
            "display": null,
            "flex": null,
            "flex_flow": null,
            "grid_area": null,
            "grid_auto_columns": null,
            "grid_auto_flow": null,
            "grid_auto_rows": null,
            "grid_column": null,
            "grid_gap": null,
            "grid_row": null,
            "grid_template_areas": null,
            "grid_template_columns": null,
            "grid_template_rows": null,
            "height": null,
            "justify_content": null,
            "justify_items": null,
            "left": null,
            "margin": null,
            "max_height": null,
            "max_width": null,
            "min_height": null,
            "min_width": null,
            "object_fit": null,
            "object_position": null,
            "order": null,
            "overflow": null,
            "overflow_x": null,
            "overflow_y": null,
            "padding": null,
            "right": null,
            "top": null,
            "visibility": null,
            "width": null
          }
        },
        "42ff66bf63bc46c1ba69b91e1722b82e": {
          "model_module": "@jupyter-widgets/controls",
          "model_module_version": "1.5.0",
          "model_name": "DescriptionStyleModel",
          "state": {
            "_model_module": "@jupyter-widgets/controls",
            "_model_module_version": "1.5.0",
            "_model_name": "DescriptionStyleModel",
            "_view_count": null,
            "_view_module": "@jupyter-widgets/base",
            "_view_module_version": "1.2.0",
            "_view_name": "StyleView",
            "description_width": ""
          }
        },
        "48fe2b01f9424ebebaacdeae46f0d1fe": {
          "model_module": "@jupyter-widgets/controls",
          "model_module_version": "1.5.0",
          "model_name": "ProgressStyleModel",
          "state": {
            "_model_module": "@jupyter-widgets/controls",
            "_model_module_version": "1.5.0",
            "_model_name": "ProgressStyleModel",
            "_view_count": null,
            "_view_module": "@jupyter-widgets/base",
            "_view_module_version": "1.2.0",
            "_view_name": "StyleView",
            "bar_color": null,
            "description_width": ""
          }
        },
        "4bc202f1ed9149288541c411e844d459": {
          "model_module": "@jupyter-widgets/base",
          "model_module_version": "1.2.0",
          "model_name": "LayoutModel",
          "state": {
            "_model_module": "@jupyter-widgets/base",
            "_model_module_version": "1.2.0",
            "_model_name": "LayoutModel",
            "_view_count": null,
            "_view_module": "@jupyter-widgets/base",
            "_view_module_version": "1.2.0",
            "_view_name": "LayoutView",
            "align_content": null,
            "align_items": null,
            "align_self": null,
            "border": null,
            "bottom": null,
            "display": null,
            "flex": null,
            "flex_flow": null,
            "grid_area": null,
            "grid_auto_columns": null,
            "grid_auto_flow": null,
            "grid_auto_rows": null,
            "grid_column": null,
            "grid_gap": null,
            "grid_row": null,
            "grid_template_areas": null,
            "grid_template_columns": null,
            "grid_template_rows": null,
            "height": null,
            "justify_content": null,
            "justify_items": null,
            "left": null,
            "margin": null,
            "max_height": null,
            "max_width": null,
            "min_height": null,
            "min_width": null,
            "object_fit": null,
            "object_position": null,
            "order": null,
            "overflow": null,
            "overflow_x": null,
            "overflow_y": null,
            "padding": null,
            "right": null,
            "top": null,
            "visibility": null,
            "width": null
          }
        },
        "4bed2da24f9e46c9838c48e8738f1464": {
          "model_module": "@jupyter-widgets/controls",
          "model_module_version": "1.5.0",
          "model_name": "FloatProgressModel",
          "state": {
            "_dom_classes": [],
            "_model_module": "@jupyter-widgets/controls",
            "_model_module_version": "1.5.0",
            "_model_name": "FloatProgressModel",
            "_view_count": null,
            "_view_module": "@jupyter-widgets/controls",
            "_view_module_version": "1.5.0",
            "_view_name": "ProgressView",
            "bar_style": "success",
            "description": "",
            "description_tooltip": null,
            "layout": "IPY_MODEL_54f2d957bace48528010f7109b44fd1d",
            "max": 800,
            "min": 0,
            "orientation": "horizontal",
            "style": "IPY_MODEL_0eeb45387de64dc7bf265a9c9a3685d3",
            "value": 800
          }
        },
        "5065e01dd5434b9abf869a3fa2cd9dec": {
          "model_module": "@jupyter-widgets/controls",
          "model_module_version": "1.5.0",
          "model_name": "FloatProgressModel",
          "state": {
            "_dom_classes": [],
            "_model_module": "@jupyter-widgets/controls",
            "_model_module_version": "1.5.0",
            "_model_name": "FloatProgressModel",
            "_view_count": null,
            "_view_module": "@jupyter-widgets/controls",
            "_view_module_version": "1.5.0",
            "_view_name": "ProgressView",
            "bar_style": "success",
            "description": "",
            "description_tooltip": null,
            "layout": "IPY_MODEL_8d298b3251314d19ba99d9a4b30f126c",
            "max": 200,
            "min": 0,
            "orientation": "horizontal",
            "style": "IPY_MODEL_48fe2b01f9424ebebaacdeae46f0d1fe",
            "value": 200
          }
        },
        "52467d3808414db2afe2baee309b4885": {
          "model_module": "@jupyter-widgets/controls",
          "model_module_version": "1.5.0",
          "model_name": "HBoxModel",
          "state": {
            "_dom_classes": [],
            "_model_module": "@jupyter-widgets/controls",
            "_model_module_version": "1.5.0",
            "_model_name": "HBoxModel",
            "_view_count": null,
            "_view_module": "@jupyter-widgets/controls",
            "_view_module_version": "1.5.0",
            "_view_name": "HBoxView",
            "box_style": "",
            "children": [
              "IPY_MODEL_99d9a86c88954a6b9732c4253a859032",
              "IPY_MODEL_bb23bbbfdd064d88b83cfcf2fb521157",
              "IPY_MODEL_f8ec1a069fcf4ff6b7f3e2e21b3f049a"
            ],
            "layout": "IPY_MODEL_c0d667e68d0f47d49933aceca8e0c511"
          }
        },
        "52efecb3eb5145809cbcb06511a527a1": {
          "model_module": "@jupyter-widgets/controls",
          "model_module_version": "1.5.0",
          "model_name": "ProgressStyleModel",
          "state": {
            "_model_module": "@jupyter-widgets/controls",
            "_model_module_version": "1.5.0",
            "_model_name": "ProgressStyleModel",
            "_view_count": null,
            "_view_module": "@jupyter-widgets/base",
            "_view_module_version": "1.2.0",
            "_view_name": "StyleView",
            "bar_color": null,
            "description_width": ""
          }
        },
        "54f2d957bace48528010f7109b44fd1d": {
          "model_module": "@jupyter-widgets/base",
          "model_module_version": "1.2.0",
          "model_name": "LayoutModel",
          "state": {
            "_model_module": "@jupyter-widgets/base",
            "_model_module_version": "1.2.0",
            "_model_name": "LayoutModel",
            "_view_count": null,
            "_view_module": "@jupyter-widgets/base",
            "_view_module_version": "1.2.0",
            "_view_name": "LayoutView",
            "align_content": null,
            "align_items": null,
            "align_self": null,
            "border": null,
            "bottom": null,
            "display": null,
            "flex": null,
            "flex_flow": null,
            "grid_area": null,
            "grid_auto_columns": null,
            "grid_auto_flow": null,
            "grid_auto_rows": null,
            "grid_column": null,
            "grid_gap": null,
            "grid_row": null,
            "grid_template_areas": null,
            "grid_template_columns": null,
            "grid_template_rows": null,
            "height": null,
            "justify_content": null,
            "justify_items": null,
            "left": null,
            "margin": null,
            "max_height": null,
            "max_width": null,
            "min_height": null,
            "min_width": null,
            "object_fit": null,
            "object_position": null,
            "order": null,
            "overflow": null,
            "overflow_x": null,
            "overflow_y": null,
            "padding": null,
            "right": null,
            "top": null,
            "visibility": null,
            "width": null
          }
        },
        "566ec03a39a145a19eec857b179b47a9": {
          "model_module": "@jupyter-widgets/base",
          "model_module_version": "1.2.0",
          "model_name": "LayoutModel",
          "state": {
            "_model_module": "@jupyter-widgets/base",
            "_model_module_version": "1.2.0",
            "_model_name": "LayoutModel",
            "_view_count": null,
            "_view_module": "@jupyter-widgets/base",
            "_view_module_version": "1.2.0",
            "_view_name": "LayoutView",
            "align_content": null,
            "align_items": null,
            "align_self": null,
            "border": null,
            "bottom": null,
            "display": null,
            "flex": null,
            "flex_flow": null,
            "grid_area": null,
            "grid_auto_columns": null,
            "grid_auto_flow": null,
            "grid_auto_rows": null,
            "grid_column": null,
            "grid_gap": null,
            "grid_row": null,
            "grid_template_areas": null,
            "grid_template_columns": null,
            "grid_template_rows": null,
            "height": null,
            "justify_content": null,
            "justify_items": null,
            "left": null,
            "margin": null,
            "max_height": null,
            "max_width": null,
            "min_height": null,
            "min_width": null,
            "object_fit": null,
            "object_position": null,
            "order": null,
            "overflow": null,
            "overflow_x": null,
            "overflow_y": null,
            "padding": null,
            "right": null,
            "top": null,
            "visibility": null,
            "width": null
          }
        },
        "5a8d9060826249028d3049f461eedd65": {
          "model_module": "@jupyter-widgets/controls",
          "model_module_version": "1.5.0",
          "model_name": "DescriptionStyleModel",
          "state": {
            "_model_module": "@jupyter-widgets/controls",
            "_model_module_version": "1.5.0",
            "_model_name": "DescriptionStyleModel",
            "_view_count": null,
            "_view_module": "@jupyter-widgets/base",
            "_view_module_version": "1.2.0",
            "_view_name": "StyleView",
            "description_width": ""
          }
        },
        "5df11b4fe78a40acbce74cde013011c2": {
          "model_module": "@jupyter-widgets/controls",
          "model_module_version": "1.5.0",
          "model_name": "HTMLModel",
          "state": {
            "_dom_classes": [],
            "_model_module": "@jupyter-widgets/controls",
            "_model_module_version": "1.5.0",
            "_model_name": "HTMLModel",
            "_view_count": null,
            "_view_module": "@jupyter-widgets/controls",
            "_view_module_version": "1.5.0",
            "_view_name": "HTMLView",
            "description": "",
            "description_tooltip": null,
            "layout": "IPY_MODEL_16a09e02868b412f842e92c2087729ee",
            "placeholder": "​",
            "style": "IPY_MODEL_149c17348da44aab80dfbda547482329",
            "value": " 12/? [24:02&lt;00:00, 171.14s/it]"
          }
        },
        "5ffd3722546245fe962e50f7c5b8624f": {
          "model_module": "@jupyter-widgets/base",
          "model_module_version": "1.2.0",
          "model_name": "LayoutModel",
          "state": {
            "_model_module": "@jupyter-widgets/base",
            "_model_module_version": "1.2.0",
            "_model_name": "LayoutModel",
            "_view_count": null,
            "_view_module": "@jupyter-widgets/base",
            "_view_module_version": "1.2.0",
            "_view_name": "LayoutView",
            "align_content": null,
            "align_items": null,
            "align_self": null,
            "border": null,
            "bottom": null,
            "display": null,
            "flex": null,
            "flex_flow": null,
            "grid_area": null,
            "grid_auto_columns": null,
            "grid_auto_flow": null,
            "grid_auto_rows": null,
            "grid_column": null,
            "grid_gap": null,
            "grid_row": null,
            "grid_template_areas": null,
            "grid_template_columns": null,
            "grid_template_rows": null,
            "height": null,
            "justify_content": null,
            "justify_items": null,
            "left": null,
            "margin": null,
            "max_height": null,
            "max_width": null,
            "min_height": null,
            "min_width": null,
            "object_fit": null,
            "object_position": null,
            "order": null,
            "overflow": null,
            "overflow_x": null,
            "overflow_y": null,
            "padding": null,
            "right": null,
            "top": null,
            "visibility": null,
            "width": null
          }
        },
        "60571d4536944b85902887a5425bbdbb": {
          "model_module": "@jupyter-widgets/controls",
          "model_module_version": "1.5.0",
          "model_name": "FloatProgressModel",
          "state": {
            "_dom_classes": [],
            "_model_module": "@jupyter-widgets/controls",
            "_model_module_version": "1.5.0",
            "_model_name": "FloatProgressModel",
            "_view_count": null,
            "_view_module": "@jupyter-widgets/controls",
            "_view_module_version": "1.5.0",
            "_view_name": "ProgressView",
            "bar_style": "danger",
            "description": "",
            "description_tooltip": null,
            "layout": "IPY_MODEL_e10b091fca98485db8c6bb53fa52a466",
            "max": 1,
            "min": 0,
            "orientation": "horizontal",
            "style": "IPY_MODEL_eff92e922e1f4fecadd639a216057596",
            "value": 1
          }
        },
        "612203a2efd14b51a04930dec4920d26": {
          "model_module": "@jupyter-widgets/controls",
          "model_module_version": "1.5.0",
          "model_name": "HBoxModel",
          "state": {
            "_dom_classes": [],
            "_model_module": "@jupyter-widgets/controls",
            "_model_module_version": "1.5.0",
            "_model_name": "HBoxModel",
            "_view_count": null,
            "_view_module": "@jupyter-widgets/controls",
            "_view_module_version": "1.5.0",
            "_view_name": "HBoxView",
            "box_style": "",
            "children": [
              "IPY_MODEL_70f99bb2aa6b41169ab61fa69cb7148c",
              "IPY_MODEL_cc9e7ef78cac40389ac5cf72d4f58638",
              "IPY_MODEL_8395d3f7d2ed4a45b52e5bbb228f9274"
            ],
            "layout": "IPY_MODEL_630f40736eb54059ba807084dd149c22"
          }
        },
        "61257404f8cd44c29d6f4fed5e3f9f49": {
          "model_module": "@jupyter-widgets/controls",
          "model_module_version": "1.5.0",
          "model_name": "DescriptionStyleModel",
          "state": {
            "_model_module": "@jupyter-widgets/controls",
            "_model_module_version": "1.5.0",
            "_model_name": "DescriptionStyleModel",
            "_view_count": null,
            "_view_module": "@jupyter-widgets/base",
            "_view_module_version": "1.2.0",
            "_view_name": "StyleView",
            "description_width": ""
          }
        },
        "61db403abcb245b295c74a235e12a583": {
          "model_module": "@jupyter-widgets/controls",
          "model_module_version": "1.5.0",
          "model_name": "HTMLModel",
          "state": {
            "_dom_classes": [],
            "_model_module": "@jupyter-widgets/controls",
            "_model_module_version": "1.5.0",
            "_model_name": "HTMLModel",
            "_view_count": null,
            "_view_module": "@jupyter-widgets/controls",
            "_view_module_version": "1.5.0",
            "_view_name": "HTMLView",
            "description": "",
            "description_tooltip": null,
            "layout": "IPY_MODEL_9343adab461b42e2aa3e698abc8771e9",
            "placeholder": "​",
            "style": "IPY_MODEL_99e98cf3857a449083eecf18c49a6d74",
            "value": " 200/200 [00:37&lt;00:00,  5.93it/s]"
          }
        },
        "630f40736eb54059ba807084dd149c22": {
          "model_module": "@jupyter-widgets/base",
          "model_module_version": "1.2.0",
          "model_name": "LayoutModel",
          "state": {
            "_model_module": "@jupyter-widgets/base",
            "_model_module_version": "1.2.0",
            "_model_name": "LayoutModel",
            "_view_count": null,
            "_view_module": "@jupyter-widgets/base",
            "_view_module_version": "1.2.0",
            "_view_name": "LayoutView",
            "align_content": null,
            "align_items": null,
            "align_self": null,
            "border": null,
            "bottom": null,
            "display": null,
            "flex": null,
            "flex_flow": null,
            "grid_area": null,
            "grid_auto_columns": null,
            "grid_auto_flow": null,
            "grid_auto_rows": null,
            "grid_column": null,
            "grid_gap": null,
            "grid_row": null,
            "grid_template_areas": null,
            "grid_template_columns": null,
            "grid_template_rows": null,
            "height": null,
            "justify_content": null,
            "justify_items": null,
            "left": null,
            "margin": null,
            "max_height": null,
            "max_width": null,
            "min_height": null,
            "min_width": null,
            "object_fit": null,
            "object_position": null,
            "order": null,
            "overflow": null,
            "overflow_x": null,
            "overflow_y": null,
            "padding": null,
            "right": null,
            "top": null,
            "visibility": null,
            "width": null
          }
        },
        "65872b9bacfd4d0bb1e54898534a67b3": {
          "model_module": "@jupyter-widgets/base",
          "model_module_version": "1.2.0",
          "model_name": "LayoutModel",
          "state": {
            "_model_module": "@jupyter-widgets/base",
            "_model_module_version": "1.2.0",
            "_model_name": "LayoutModel",
            "_view_count": null,
            "_view_module": "@jupyter-widgets/base",
            "_view_module_version": "1.2.0",
            "_view_name": "LayoutView",
            "align_content": null,
            "align_items": null,
            "align_self": null,
            "border": null,
            "bottom": null,
            "display": null,
            "flex": null,
            "flex_flow": null,
            "grid_area": null,
            "grid_auto_columns": null,
            "grid_auto_flow": null,
            "grid_auto_rows": null,
            "grid_column": null,
            "grid_gap": null,
            "grid_row": null,
            "grid_template_areas": null,
            "grid_template_columns": null,
            "grid_template_rows": null,
            "height": null,
            "justify_content": null,
            "justify_items": null,
            "left": null,
            "margin": null,
            "max_height": null,
            "max_width": null,
            "min_height": null,
            "min_width": null,
            "object_fit": null,
            "object_position": null,
            "order": null,
            "overflow": null,
            "overflow_x": null,
            "overflow_y": null,
            "padding": null,
            "right": null,
            "top": null,
            "visibility": null,
            "width": null
          }
        },
        "6632713786bb48fd97a1716e54705d3a": {
          "model_module": "@jupyter-widgets/controls",
          "model_module_version": "1.5.0",
          "model_name": "HTMLModel",
          "state": {
            "_dom_classes": [],
            "_model_module": "@jupyter-widgets/controls",
            "_model_module_version": "1.5.0",
            "_model_name": "HTMLModel",
            "_view_count": null,
            "_view_module": "@jupyter-widgets/controls",
            "_view_module_version": "1.5.0",
            "_view_name": "HTMLView",
            "description": "",
            "description_tooltip": null,
            "layout": "IPY_MODEL_7b1d5e8d8a2b46e4bebbb42028140ddc",
            "placeholder": "​",
            "style": "IPY_MODEL_42ff66bf63bc46c1ba69b91e1722b82e",
            "value": " 1200/1200 [03:24&lt;00:00,  5.22it/s]"
          }
        },
        "67c52b9d52894d0388d83013197442bf": {
          "model_module": "@jupyter-widgets/base",
          "model_module_version": "1.2.0",
          "model_name": "LayoutModel",
          "state": {
            "_model_module": "@jupyter-widgets/base",
            "_model_module_version": "1.2.0",
            "_model_name": "LayoutModel",
            "_view_count": null,
            "_view_module": "@jupyter-widgets/base",
            "_view_module_version": "1.2.0",
            "_view_name": "LayoutView",
            "align_content": null,
            "align_items": null,
            "align_self": null,
            "border": null,
            "bottom": null,
            "display": null,
            "flex": null,
            "flex_flow": null,
            "grid_area": null,
            "grid_auto_columns": null,
            "grid_auto_flow": null,
            "grid_auto_rows": null,
            "grid_column": null,
            "grid_gap": null,
            "grid_row": null,
            "grid_template_areas": null,
            "grid_template_columns": null,
            "grid_template_rows": null,
            "height": null,
            "justify_content": null,
            "justify_items": null,
            "left": null,
            "margin": null,
            "max_height": null,
            "max_width": null,
            "min_height": null,
            "min_width": null,
            "object_fit": null,
            "object_position": null,
            "order": null,
            "overflow": null,
            "overflow_x": null,
            "overflow_y": null,
            "padding": null,
            "right": null,
            "top": null,
            "visibility": null,
            "width": null
          }
        },
        "68f6ca0dd65b472e86c0098cdd9d9c7a": {
          "model_module": "@jupyter-widgets/base",
          "model_module_version": "1.2.0",
          "model_name": "LayoutModel",
          "state": {
            "_model_module": "@jupyter-widgets/base",
            "_model_module_version": "1.2.0",
            "_model_name": "LayoutModel",
            "_view_count": null,
            "_view_module": "@jupyter-widgets/base",
            "_view_module_version": "1.2.0",
            "_view_name": "LayoutView",
            "align_content": null,
            "align_items": null,
            "align_self": null,
            "border": null,
            "bottom": null,
            "display": null,
            "flex": null,
            "flex_flow": null,
            "grid_area": null,
            "grid_auto_columns": null,
            "grid_auto_flow": null,
            "grid_auto_rows": null,
            "grid_column": null,
            "grid_gap": null,
            "grid_row": null,
            "grid_template_areas": null,
            "grid_template_columns": null,
            "grid_template_rows": null,
            "height": null,
            "justify_content": null,
            "justify_items": null,
            "left": null,
            "margin": null,
            "max_height": null,
            "max_width": null,
            "min_height": null,
            "min_width": null,
            "object_fit": null,
            "object_position": null,
            "order": null,
            "overflow": null,
            "overflow_x": null,
            "overflow_y": null,
            "padding": null,
            "right": null,
            "top": null,
            "visibility": null,
            "width": null
          }
        },
        "6bdaefcf82b54594a1ed369629ac0c0e": {
          "model_module": "@jupyter-widgets/controls",
          "model_module_version": "1.5.0",
          "model_name": "HTMLModel",
          "state": {
            "_dom_classes": [],
            "_model_module": "@jupyter-widgets/controls",
            "_model_module_version": "1.5.0",
            "_model_name": "HTMLModel",
            "_view_count": null,
            "_view_module": "@jupyter-widgets/controls",
            "_view_module_version": "1.5.0",
            "_view_name": "HTMLView",
            "description": "",
            "description_tooltip": null,
            "layout": "IPY_MODEL_566ec03a39a145a19eec857b179b47a9",
            "placeholder": "​",
            "style": "IPY_MODEL_b2be0637f720416e821fa96f2820bdb1",
            "value": " 800/800 [02:18&lt;00:00,  5.45it/s]"
          }
        },
        "6db9f16e798f483296f2df38656888d0": {
          "model_module": "@jupyter-widgets/controls",
          "model_module_version": "1.5.0",
          "model_name": "DescriptionStyleModel",
          "state": {
            "_model_module": "@jupyter-widgets/controls",
            "_model_module_version": "1.5.0",
            "_model_name": "DescriptionStyleModel",
            "_view_count": null,
            "_view_module": "@jupyter-widgets/base",
            "_view_module_version": "1.2.0",
            "_view_name": "StyleView",
            "description_width": ""
          }
        },
        "6f37b714580a448283bfe1853bc4aaf9": {
          "model_module": "@jupyter-widgets/controls",
          "model_module_version": "1.5.0",
          "model_name": "HBoxModel",
          "state": {
            "_dom_classes": [],
            "_model_module": "@jupyter-widgets/controls",
            "_model_module_version": "1.5.0",
            "_model_name": "HBoxModel",
            "_view_count": null,
            "_view_module": "@jupyter-widgets/controls",
            "_view_module_version": "1.5.0",
            "_view_name": "HBoxView",
            "box_style": "",
            "children": [
              "IPY_MODEL_8c945fed9df1438a92768b0c35b84db8",
              "IPY_MODEL_324f1e74c83b4e8e81e86e0f2d087550",
              "IPY_MODEL_db13303dd9dc46f2a0ffacc50c4791b6"
            ],
            "layout": "IPY_MODEL_7ed83bd28dc24bcb9917bd72e4fe3da7"
          }
        },
        "70f99bb2aa6b41169ab61fa69cb7148c": {
          "model_module": "@jupyter-widgets/controls",
          "model_module_version": "1.5.0",
          "model_name": "HTMLModel",
          "state": {
            "_dom_classes": [],
            "_model_module": "@jupyter-widgets/controls",
            "_model_module_version": "1.5.0",
            "_model_name": "HTMLModel",
            "_view_count": null,
            "_view_module": "@jupyter-widgets/controls",
            "_view_module_version": "1.5.0",
            "_view_name": "HTMLView",
            "description": "",
            "description_tooltip": null,
            "layout": "IPY_MODEL_e916b701cbb14540932ca97317536518",
            "placeholder": "​",
            "style": "IPY_MODEL_5a8d9060826249028d3049f461eedd65",
            "value": "loss: 60.67483901486712: 100%"
          }
        },
        "7449be24562a42fdb93ff2b6bee4f356": {
          "model_module": "@jupyter-widgets/controls",
          "model_module_version": "1.5.0",
          "model_name": "ProgressStyleModel",
          "state": {
            "_model_module": "@jupyter-widgets/controls",
            "_model_module_version": "1.5.0",
            "_model_name": "ProgressStyleModel",
            "_view_count": null,
            "_view_module": "@jupyter-widgets/base",
            "_view_module_version": "1.2.0",
            "_view_name": "StyleView",
            "bar_color": null,
            "description_width": ""
          }
        },
        "747387b1b46a42d5a438d19b5adcd856": {
          "model_module": "@jupyter-widgets/controls",
          "model_module_version": "1.5.0",
          "model_name": "HBoxModel",
          "state": {
            "_dom_classes": [],
            "_model_module": "@jupyter-widgets/controls",
            "_model_module_version": "1.5.0",
            "_model_name": "HBoxModel",
            "_view_count": null,
            "_view_module": "@jupyter-widgets/controls",
            "_view_module_version": "1.5.0",
            "_view_name": "HBoxView",
            "box_style": "",
            "children": [
              "IPY_MODEL_7f58ed70d5b0477ebbe8ad6ba6573499",
              "IPY_MODEL_96e18c5625f744188d5b1447a0ded4c1",
              "IPY_MODEL_e535ada499724b8f96512a05ecc5b204"
            ],
            "layout": "IPY_MODEL_67c52b9d52894d0388d83013197442bf"
          }
        },
        "766ee18a846a4de8aac5c3ae474676b7": {
          "model_module": "@jupyter-widgets/base",
          "model_module_version": "1.2.0",
          "model_name": "LayoutModel",
          "state": {
            "_model_module": "@jupyter-widgets/base",
            "_model_module_version": "1.2.0",
            "_model_name": "LayoutModel",
            "_view_count": null,
            "_view_module": "@jupyter-widgets/base",
            "_view_module_version": "1.2.0",
            "_view_name": "LayoutView",
            "align_content": null,
            "align_items": null,
            "align_self": null,
            "border": null,
            "bottom": null,
            "display": null,
            "flex": null,
            "flex_flow": null,
            "grid_area": null,
            "grid_auto_columns": null,
            "grid_auto_flow": null,
            "grid_auto_rows": null,
            "grid_column": null,
            "grid_gap": null,
            "grid_row": null,
            "grid_template_areas": null,
            "grid_template_columns": null,
            "grid_template_rows": null,
            "height": null,
            "justify_content": null,
            "justify_items": null,
            "left": null,
            "margin": null,
            "max_height": null,
            "max_width": null,
            "min_height": null,
            "min_width": null,
            "object_fit": null,
            "object_position": null,
            "order": null,
            "overflow": null,
            "overflow_x": null,
            "overflow_y": null,
            "padding": null,
            "right": null,
            "top": null,
            "visibility": null,
            "width": null
          }
        },
        "7814e4f683b64f699847f7e0a7a77185": {
          "model_module": "@jupyter-widgets/controls",
          "model_module_version": "1.5.0",
          "model_name": "HTMLModel",
          "state": {
            "_dom_classes": [],
            "_model_module": "@jupyter-widgets/controls",
            "_model_module_version": "1.5.0",
            "_model_name": "HTMLModel",
            "_view_count": null,
            "_view_module": "@jupyter-widgets/controls",
            "_view_module_version": "1.5.0",
            "_view_name": "HTMLView",
            "description": "",
            "description_tooltip": null,
            "layout": "IPY_MODEL_cc9dbb71f8214331b3cdbe14a88c7a23",
            "placeholder": "​",
            "style": "IPY_MODEL_04bed61157444cc5a73fcd0b6e04ee11",
            "value": "loss: 98.35664189661932: 100%"
          }
        },
        "7b1d5e8d8a2b46e4bebbb42028140ddc": {
          "model_module": "@jupyter-widgets/base",
          "model_module_version": "1.2.0",
          "model_name": "LayoutModel",
          "state": {
            "_model_module": "@jupyter-widgets/base",
            "_model_module_version": "1.2.0",
            "_model_name": "LayoutModel",
            "_view_count": null,
            "_view_module": "@jupyter-widgets/base",
            "_view_module_version": "1.2.0",
            "_view_name": "LayoutView",
            "align_content": null,
            "align_items": null,
            "align_self": null,
            "border": null,
            "bottom": null,
            "display": null,
            "flex": null,
            "flex_flow": null,
            "grid_area": null,
            "grid_auto_columns": null,
            "grid_auto_flow": null,
            "grid_auto_rows": null,
            "grid_column": null,
            "grid_gap": null,
            "grid_row": null,
            "grid_template_areas": null,
            "grid_template_columns": null,
            "grid_template_rows": null,
            "height": null,
            "justify_content": null,
            "justify_items": null,
            "left": null,
            "margin": null,
            "max_height": null,
            "max_width": null,
            "min_height": null,
            "min_width": null,
            "object_fit": null,
            "object_position": null,
            "order": null,
            "overflow": null,
            "overflow_x": null,
            "overflow_y": null,
            "padding": null,
            "right": null,
            "top": null,
            "visibility": null,
            "width": null
          }
        },
        "7ed83bd28dc24bcb9917bd72e4fe3da7": {
          "model_module": "@jupyter-widgets/base",
          "model_module_version": "1.2.0",
          "model_name": "LayoutModel",
          "state": {
            "_model_module": "@jupyter-widgets/base",
            "_model_module_version": "1.2.0",
            "_model_name": "LayoutModel",
            "_view_count": null,
            "_view_module": "@jupyter-widgets/base",
            "_view_module_version": "1.2.0",
            "_view_name": "LayoutView",
            "align_content": null,
            "align_items": null,
            "align_self": null,
            "border": null,
            "bottom": null,
            "display": null,
            "flex": null,
            "flex_flow": null,
            "grid_area": null,
            "grid_auto_columns": null,
            "grid_auto_flow": null,
            "grid_auto_rows": null,
            "grid_column": null,
            "grid_gap": null,
            "grid_row": null,
            "grid_template_areas": null,
            "grid_template_columns": null,
            "grid_template_rows": null,
            "height": null,
            "justify_content": null,
            "justify_items": null,
            "left": null,
            "margin": null,
            "max_height": null,
            "max_width": null,
            "min_height": null,
            "min_width": null,
            "object_fit": null,
            "object_position": null,
            "order": null,
            "overflow": null,
            "overflow_x": null,
            "overflow_y": null,
            "padding": null,
            "right": null,
            "top": null,
            "visibility": null,
            "width": null
          }
        },
        "7f58ed70d5b0477ebbe8ad6ba6573499": {
          "model_module": "@jupyter-widgets/controls",
          "model_module_version": "1.5.0",
          "model_name": "HTMLModel",
          "state": {
            "_dom_classes": [],
            "_model_module": "@jupyter-widgets/controls",
            "_model_module_version": "1.5.0",
            "_model_name": "HTMLModel",
            "_view_count": null,
            "_view_module": "@jupyter-widgets/controls",
            "_view_module_version": "1.5.0",
            "_view_name": "HTMLView",
            "description": "",
            "description_tooltip": null,
            "layout": "IPY_MODEL_e9ca881396194dca89dbec9305a2a447",
            "placeholder": "​",
            "style": "IPY_MODEL_1318d466f33847baaaea9df374b2f971",
            "value": "loss: 69.52045457148337: 100%"
          }
        },
        "802f91233cf547638609759d49b90a2a": {
          "model_module": "@jupyter-widgets/controls",
          "model_module_version": "1.5.0",
          "model_name": "HTMLModel",
          "state": {
            "_dom_classes": [],
            "_model_module": "@jupyter-widgets/controls",
            "_model_module_version": "1.5.0",
            "_model_name": "HTMLModel",
            "_view_count": null,
            "_view_module": "@jupyter-widgets/controls",
            "_view_module_version": "1.5.0",
            "_view_name": "HTMLView",
            "description": "",
            "description_tooltip": null,
            "layout": "IPY_MODEL_4bc202f1ed9149288541c411e844d459",
            "placeholder": "​",
            "style": "IPY_MODEL_13673243061149c79384446e40798cb9",
            "value": " 900/900 [02:40&lt;00:00,  5.16it/s]"
          }
        },
        "8395d3f7d2ed4a45b52e5bbb228f9274": {
          "model_module": "@jupyter-widgets/controls",
          "model_module_version": "1.5.0",
          "model_name": "HTMLModel",
          "state": {
            "_dom_classes": [],
            "_model_module": "@jupyter-widgets/controls",
            "_model_module_version": "1.5.0",
            "_model_name": "HTMLModel",
            "_view_count": null,
            "_view_module": "@jupyter-widgets/controls",
            "_view_module_version": "1.5.0",
            "_view_name": "HTMLView",
            "description": "",
            "description_tooltip": null,
            "layout": "IPY_MODEL_65872b9bacfd4d0bb1e54898534a67b3",
            "placeholder": "​",
            "style": "IPY_MODEL_f048f364f61c47a1bd416eef1af26643",
            "value": " 1000/1000 [02:54&lt;00:00,  5.27it/s]"
          }
        },
        "84d40b52956b41c0ae0744b11833289c": {
          "model_module": "@jupyter-widgets/controls",
          "model_module_version": "1.5.0",
          "model_name": "HTMLModel",
          "state": {
            "_dom_classes": [],
            "_model_module": "@jupyter-widgets/controls",
            "_model_module_version": "1.5.0",
            "_model_name": "HTMLModel",
            "_view_count": null,
            "_view_module": "@jupyter-widgets/controls",
            "_view_module_version": "1.5.0",
            "_view_name": "HTMLView",
            "description": "",
            "description_tooltip": null,
            "layout": "IPY_MODEL_42b2d1c9c54349f38726851df1a64188",
            "placeholder": "​",
            "style": "IPY_MODEL_06976e6315254715ba332f42fc89d65f",
            "value": ""
          }
        },
        "858f1650c9b04088b41a938dae675ae5": {
          "model_module": "@jupyter-widgets/base",
          "model_module_version": "1.2.0",
          "model_name": "LayoutModel",
          "state": {
            "_model_module": "@jupyter-widgets/base",
            "_model_module_version": "1.2.0",
            "_model_name": "LayoutModel",
            "_view_count": null,
            "_view_module": "@jupyter-widgets/base",
            "_view_module_version": "1.2.0",
            "_view_name": "LayoutView",
            "align_content": null,
            "align_items": null,
            "align_self": null,
            "border": null,
            "bottom": null,
            "display": null,
            "flex": null,
            "flex_flow": null,
            "grid_area": null,
            "grid_auto_columns": null,
            "grid_auto_flow": null,
            "grid_auto_rows": null,
            "grid_column": null,
            "grid_gap": null,
            "grid_row": null,
            "grid_template_areas": null,
            "grid_template_columns": null,
            "grid_template_rows": null,
            "height": null,
            "justify_content": null,
            "justify_items": null,
            "left": null,
            "margin": null,
            "max_height": null,
            "max_width": null,
            "min_height": null,
            "min_width": null,
            "object_fit": null,
            "object_position": null,
            "order": null,
            "overflow": null,
            "overflow_x": null,
            "overflow_y": null,
            "padding": null,
            "right": null,
            "top": null,
            "visibility": null,
            "width": null
          }
        },
        "87244c23d6d14aad8f53e843c67fc09f": {
          "model_module": "@jupyter-widgets/base",
          "model_module_version": "1.2.0",
          "model_name": "LayoutModel",
          "state": {
            "_model_module": "@jupyter-widgets/base",
            "_model_module_version": "1.2.0",
            "_model_name": "LayoutModel",
            "_view_count": null,
            "_view_module": "@jupyter-widgets/base",
            "_view_module_version": "1.2.0",
            "_view_name": "LayoutView",
            "align_content": null,
            "align_items": null,
            "align_self": null,
            "border": null,
            "bottom": null,
            "display": null,
            "flex": null,
            "flex_flow": null,
            "grid_area": null,
            "grid_auto_columns": null,
            "grid_auto_flow": null,
            "grid_auto_rows": null,
            "grid_column": null,
            "grid_gap": null,
            "grid_row": null,
            "grid_template_areas": null,
            "grid_template_columns": null,
            "grid_template_rows": null,
            "height": null,
            "justify_content": null,
            "justify_items": null,
            "left": null,
            "margin": null,
            "max_height": null,
            "max_width": null,
            "min_height": null,
            "min_width": null,
            "object_fit": null,
            "object_position": null,
            "order": null,
            "overflow": null,
            "overflow_x": null,
            "overflow_y": null,
            "padding": null,
            "right": null,
            "top": null,
            "visibility": null,
            "width": null
          }
        },
        "884c2af573ec4c4fa21c32e39fdf7262": {
          "model_module": "@jupyter-widgets/controls",
          "model_module_version": "1.5.0",
          "model_name": "FloatProgressModel",
          "state": {
            "_dom_classes": [],
            "_model_module": "@jupyter-widgets/controls",
            "_model_module_version": "1.5.0",
            "_model_name": "FloatProgressModel",
            "_view_count": null,
            "_view_module": "@jupyter-widgets/controls",
            "_view_module_version": "1.5.0",
            "_view_name": "ProgressView",
            "bar_style": "success",
            "description": "",
            "description_tooltip": null,
            "layout": "IPY_MODEL_9053fac889ac4551b67546e5296227cf",
            "max": 900,
            "min": 0,
            "orientation": "horizontal",
            "style": "IPY_MODEL_8f1db7f4c11040d18b2b05fac0fe1d1c",
            "value": 900
          }
        },
        "8ab20c521f564fada6fab706ae0ec6a0": {
          "model_module": "@jupyter-widgets/controls",
          "model_module_version": "1.5.0",
          "model_name": "HTMLModel",
          "state": {
            "_dom_classes": [],
            "_model_module": "@jupyter-widgets/controls",
            "_model_module_version": "1.5.0",
            "_model_name": "HTMLModel",
            "_view_count": null,
            "_view_module": "@jupyter-widgets/controls",
            "_view_module_version": "1.5.0",
            "_view_name": "HTMLView",
            "description": "",
            "description_tooltip": null,
            "layout": "IPY_MODEL_03224af6e1944fe2aa5dfee0d1bfd275",
            "placeholder": "​",
            "style": "IPY_MODEL_d1b9c3e4de7f4064aa828eedcdff4908",
            "value": "loss: 66.00354338465266: 100%"
          }
        },
        "8c945fed9df1438a92768b0c35b84db8": {
          "model_module": "@jupyter-widgets/controls",
          "model_module_version": "1.5.0",
          "model_name": "HTMLModel",
          "state": {
            "_dom_classes": [],
            "_model_module": "@jupyter-widgets/controls",
            "_model_module_version": "1.5.0",
            "_model_name": "HTMLModel",
            "_view_count": null,
            "_view_module": "@jupyter-widgets/controls",
            "_view_module_version": "1.5.0",
            "_view_name": "HTMLView",
            "description": "",
            "description_tooltip": null,
            "layout": "IPY_MODEL_989d25ea0c824685a8d0146f2ebb16d4",
            "placeholder": "​",
            "style": "IPY_MODEL_6db9f16e798f483296f2df38656888d0",
            "value": "loss: 79.57222418658722: 100%"
          }
        },
        "8d298b3251314d19ba99d9a4b30f126c": {
          "model_module": "@jupyter-widgets/base",
          "model_module_version": "1.2.0",
          "model_name": "LayoutModel",
          "state": {
            "_model_module": "@jupyter-widgets/base",
            "_model_module_version": "1.2.0",
            "_model_name": "LayoutModel",
            "_view_count": null,
            "_view_module": "@jupyter-widgets/base",
            "_view_module_version": "1.2.0",
            "_view_name": "LayoutView",
            "align_content": null,
            "align_items": null,
            "align_self": null,
            "border": null,
            "bottom": null,
            "display": null,
            "flex": null,
            "flex_flow": null,
            "grid_area": null,
            "grid_auto_columns": null,
            "grid_auto_flow": null,
            "grid_auto_rows": null,
            "grid_column": null,
            "grid_gap": null,
            "grid_row": null,
            "grid_template_areas": null,
            "grid_template_columns": null,
            "grid_template_rows": null,
            "height": null,
            "justify_content": null,
            "justify_items": null,
            "left": null,
            "margin": null,
            "max_height": null,
            "max_width": null,
            "min_height": null,
            "min_width": null,
            "object_fit": null,
            "object_position": null,
            "order": null,
            "overflow": null,
            "overflow_x": null,
            "overflow_y": null,
            "padding": null,
            "right": null,
            "top": null,
            "visibility": null,
            "width": null
          }
        },
        "8f1db7f4c11040d18b2b05fac0fe1d1c": {
          "model_module": "@jupyter-widgets/controls",
          "model_module_version": "1.5.0",
          "model_name": "ProgressStyleModel",
          "state": {
            "_model_module": "@jupyter-widgets/controls",
            "_model_module_version": "1.5.0",
            "_model_name": "ProgressStyleModel",
            "_view_count": null,
            "_view_module": "@jupyter-widgets/base",
            "_view_module_version": "1.2.0",
            "_view_name": "StyleView",
            "bar_color": null,
            "description_width": ""
          }
        },
        "8f68cdc07fcb41ca9e989b72f307590c": {
          "model_module": "@jupyter-widgets/controls",
          "model_module_version": "1.5.0",
          "model_name": "ProgressStyleModel",
          "state": {
            "_model_module": "@jupyter-widgets/controls",
            "_model_module_version": "1.5.0",
            "_model_name": "ProgressStyleModel",
            "_view_count": null,
            "_view_module": "@jupyter-widgets/base",
            "_view_module_version": "1.2.0",
            "_view_name": "StyleView",
            "bar_color": null,
            "description_width": ""
          }
        },
        "9053fac889ac4551b67546e5296227cf": {
          "model_module": "@jupyter-widgets/base",
          "model_module_version": "1.2.0",
          "model_name": "LayoutModel",
          "state": {
            "_model_module": "@jupyter-widgets/base",
            "_model_module_version": "1.2.0",
            "_model_name": "LayoutModel",
            "_view_count": null,
            "_view_module": "@jupyter-widgets/base",
            "_view_module_version": "1.2.0",
            "_view_name": "LayoutView",
            "align_content": null,
            "align_items": null,
            "align_self": null,
            "border": null,
            "bottom": null,
            "display": null,
            "flex": null,
            "flex_flow": null,
            "grid_area": null,
            "grid_auto_columns": null,
            "grid_auto_flow": null,
            "grid_auto_rows": null,
            "grid_column": null,
            "grid_gap": null,
            "grid_row": null,
            "grid_template_areas": null,
            "grid_template_columns": null,
            "grid_template_rows": null,
            "height": null,
            "justify_content": null,
            "justify_items": null,
            "left": null,
            "margin": null,
            "max_height": null,
            "max_width": null,
            "min_height": null,
            "min_width": null,
            "object_fit": null,
            "object_position": null,
            "order": null,
            "overflow": null,
            "overflow_x": null,
            "overflow_y": null,
            "padding": null,
            "right": null,
            "top": null,
            "visibility": null,
            "width": null
          }
        },
        "9125845de4154f5887f9f656f40acee8": {
          "model_module": "@jupyter-widgets/controls",
          "model_module_version": "1.5.0",
          "model_name": "HBoxModel",
          "state": {
            "_dom_classes": [],
            "_model_module": "@jupyter-widgets/controls",
            "_model_module_version": "1.5.0",
            "_model_name": "HBoxModel",
            "_view_count": null,
            "_view_module": "@jupyter-widgets/controls",
            "_view_module_version": "1.5.0",
            "_view_name": "HBoxView",
            "box_style": "",
            "children": [
              "IPY_MODEL_8ab20c521f564fada6fab706ae0ec6a0",
              "IPY_MODEL_4bed2da24f9e46c9838c48e8738f1464",
              "IPY_MODEL_6bdaefcf82b54594a1ed369629ac0c0e"
            ],
            "layout": "IPY_MODEL_f76011a8c7e546c995e049b2eed43c6a"
          }
        },
        "91e7897d1ec4450fa7c6d49d093568cd": {
          "model_module": "@jupyter-widgets/controls",
          "model_module_version": "1.5.0",
          "model_name": "FloatProgressModel",
          "state": {
            "_dom_classes": [],
            "_model_module": "@jupyter-widgets/controls",
            "_model_module_version": "1.5.0",
            "_model_name": "FloatProgressModel",
            "_view_count": null,
            "_view_module": "@jupyter-widgets/controls",
            "_view_module_version": "1.5.0",
            "_view_name": "ProgressView",
            "bar_style": "success",
            "description": "",
            "description_tooltip": null,
            "layout": "IPY_MODEL_f23e232a54364ab6afe3e044c40284e5",
            "max": 400,
            "min": 0,
            "orientation": "horizontal",
            "style": "IPY_MODEL_d33854ffb5284a4fbac1f4e0c57c9368",
            "value": 400
          }
        },
        "9343adab461b42e2aa3e698abc8771e9": {
          "model_module": "@jupyter-widgets/base",
          "model_module_version": "1.2.0",
          "model_name": "LayoutModel",
          "state": {
            "_model_module": "@jupyter-widgets/base",
            "_model_module_version": "1.2.0",
            "_model_name": "LayoutModel",
            "_view_count": null,
            "_view_module": "@jupyter-widgets/base",
            "_view_module_version": "1.2.0",
            "_view_name": "LayoutView",
            "align_content": null,
            "align_items": null,
            "align_self": null,
            "border": null,
            "bottom": null,
            "display": null,
            "flex": null,
            "flex_flow": null,
            "grid_area": null,
            "grid_auto_columns": null,
            "grid_auto_flow": null,
            "grid_auto_rows": null,
            "grid_column": null,
            "grid_gap": null,
            "grid_row": null,
            "grid_template_areas": null,
            "grid_template_columns": null,
            "grid_template_rows": null,
            "height": null,
            "justify_content": null,
            "justify_items": null,
            "left": null,
            "margin": null,
            "max_height": null,
            "max_width": null,
            "min_height": null,
            "min_width": null,
            "object_fit": null,
            "object_position": null,
            "order": null,
            "overflow": null,
            "overflow_x": null,
            "overflow_y": null,
            "padding": null,
            "right": null,
            "top": null,
            "visibility": null,
            "width": null
          }
        },
        "93bb81ac41804518a4d1f1b3324956b9": {
          "model_module": "@jupyter-widgets/base",
          "model_module_version": "1.2.0",
          "model_name": "LayoutModel",
          "state": {
            "_model_module": "@jupyter-widgets/base",
            "_model_module_version": "1.2.0",
            "_model_name": "LayoutModel",
            "_view_count": null,
            "_view_module": "@jupyter-widgets/base",
            "_view_module_version": "1.2.0",
            "_view_name": "LayoutView",
            "align_content": null,
            "align_items": null,
            "align_self": null,
            "border": null,
            "bottom": null,
            "display": null,
            "flex": null,
            "flex_flow": null,
            "grid_area": null,
            "grid_auto_columns": null,
            "grid_auto_flow": null,
            "grid_auto_rows": null,
            "grid_column": null,
            "grid_gap": null,
            "grid_row": null,
            "grid_template_areas": null,
            "grid_template_columns": null,
            "grid_template_rows": null,
            "height": null,
            "justify_content": null,
            "justify_items": null,
            "left": null,
            "margin": null,
            "max_height": null,
            "max_width": null,
            "min_height": null,
            "min_width": null,
            "object_fit": null,
            "object_position": null,
            "order": null,
            "overflow": null,
            "overflow_x": null,
            "overflow_y": null,
            "padding": null,
            "right": null,
            "top": null,
            "visibility": null,
            "width": null
          }
        },
        "94aa0ad13a2a49bdb0dd2d5e95c4bbd4": {
          "model_module": "@jupyter-widgets/base",
          "model_module_version": "1.2.0",
          "model_name": "LayoutModel",
          "state": {
            "_model_module": "@jupyter-widgets/base",
            "_model_module_version": "1.2.0",
            "_model_name": "LayoutModel",
            "_view_count": null,
            "_view_module": "@jupyter-widgets/base",
            "_view_module_version": "1.2.0",
            "_view_name": "LayoutView",
            "align_content": null,
            "align_items": null,
            "align_self": null,
            "border": null,
            "bottom": null,
            "display": null,
            "flex": null,
            "flex_flow": null,
            "grid_area": null,
            "grid_auto_columns": null,
            "grid_auto_flow": null,
            "grid_auto_rows": null,
            "grid_column": null,
            "grid_gap": null,
            "grid_row": null,
            "grid_template_areas": null,
            "grid_template_columns": null,
            "grid_template_rows": null,
            "height": null,
            "justify_content": null,
            "justify_items": null,
            "left": null,
            "margin": null,
            "max_height": null,
            "max_width": null,
            "min_height": null,
            "min_width": null,
            "object_fit": null,
            "object_position": null,
            "order": null,
            "overflow": null,
            "overflow_x": null,
            "overflow_y": null,
            "padding": null,
            "right": null,
            "top": null,
            "visibility": null,
            "width": null
          }
        },
        "96e18c5625f744188d5b1447a0ded4c1": {
          "model_module": "@jupyter-widgets/controls",
          "model_module_version": "1.5.0",
          "model_name": "FloatProgressModel",
          "state": {
            "_dom_classes": [],
            "_model_module": "@jupyter-widgets/controls",
            "_model_module_version": "1.5.0",
            "_model_name": "FloatProgressModel",
            "_view_count": null,
            "_view_module": "@jupyter-widgets/controls",
            "_view_module_version": "1.5.0",
            "_view_name": "ProgressView",
            "bar_style": "success",
            "description": "",
            "description_tooltip": null,
            "layout": "IPY_MODEL_3a186ca7240e4473be91a53dbabb46a5",
            "max": 700,
            "min": 0,
            "orientation": "horizontal",
            "style": "IPY_MODEL_387503a4e544441ca7b9ef6a3d5ed35c",
            "value": 700
          }
        },
        "989d25ea0c824685a8d0146f2ebb16d4": {
          "model_module": "@jupyter-widgets/base",
          "model_module_version": "1.2.0",
          "model_name": "LayoutModel",
          "state": {
            "_model_module": "@jupyter-widgets/base",
            "_model_module_version": "1.2.0",
            "_model_name": "LayoutModel",
            "_view_count": null,
            "_view_module": "@jupyter-widgets/base",
            "_view_module_version": "1.2.0",
            "_view_name": "LayoutView",
            "align_content": null,
            "align_items": null,
            "align_self": null,
            "border": null,
            "bottom": null,
            "display": null,
            "flex": null,
            "flex_flow": null,
            "grid_area": null,
            "grid_auto_columns": null,
            "grid_auto_flow": null,
            "grid_auto_rows": null,
            "grid_column": null,
            "grid_gap": null,
            "grid_row": null,
            "grid_template_areas": null,
            "grid_template_columns": null,
            "grid_template_rows": null,
            "height": null,
            "justify_content": null,
            "justify_items": null,
            "left": null,
            "margin": null,
            "max_height": null,
            "max_width": null,
            "min_height": null,
            "min_width": null,
            "object_fit": null,
            "object_position": null,
            "order": null,
            "overflow": null,
            "overflow_x": null,
            "overflow_y": null,
            "padding": null,
            "right": null,
            "top": null,
            "visibility": null,
            "width": null
          }
        },
        "98e1e64273be4a4e9e9a56fbb4de2a55": {
          "model_module": "@jupyter-widgets/controls",
          "model_module_version": "1.5.0",
          "model_name": "HBoxModel",
          "state": {
            "_dom_classes": [],
            "_model_module": "@jupyter-widgets/controls",
            "_model_module_version": "1.5.0",
            "_model_name": "HBoxModel",
            "_view_count": null,
            "_view_module": "@jupyter-widgets/controls",
            "_view_module_version": "1.5.0",
            "_view_name": "HBoxView",
            "box_style": "",
            "children": [
              "IPY_MODEL_ec08424ef606419a93eae5c34db33668",
              "IPY_MODEL_f3cadfe461244a84b69f6c4a1609b0cd",
              "IPY_MODEL_dd99e08ffcff407f8847738a285efa46"
            ],
            "layout": "IPY_MODEL_39e0078a376f4c0f899467f2bd101846"
          }
        },
        "991e7860747c48258d58e12048f340e3": {
          "model_module": "@jupyter-widgets/controls",
          "model_module_version": "1.5.0",
          "model_name": "FloatProgressModel",
          "state": {
            "_dom_classes": [],
            "_model_module": "@jupyter-widgets/controls",
            "_model_module_version": "1.5.0",
            "_model_name": "FloatProgressModel",
            "_view_count": null,
            "_view_module": "@jupyter-widgets/controls",
            "_view_module_version": "1.5.0",
            "_view_name": "ProgressView",
            "bar_style": "success",
            "description": "",
            "description_tooltip": null,
            "layout": "IPY_MODEL_766ee18a846a4de8aac5c3ae474676b7",
            "max": 50,
            "min": 0,
            "orientation": "horizontal",
            "style": "IPY_MODEL_7449be24562a42fdb93ff2b6bee4f356",
            "value": 50
          }
        },
        "999da23e652342fa846d6299c86014eb": {
          "model_module": "@jupyter-widgets/controls",
          "model_module_version": "1.5.0",
          "model_name": "DescriptionStyleModel",
          "state": {
            "_model_module": "@jupyter-widgets/controls",
            "_model_module_version": "1.5.0",
            "_model_name": "DescriptionStyleModel",
            "_view_count": null,
            "_view_module": "@jupyter-widgets/base",
            "_view_module_version": "1.2.0",
            "_view_name": "StyleView",
            "description_width": ""
          }
        },
        "99d9a86c88954a6b9732c4253a859032": {
          "model_module": "@jupyter-widgets/controls",
          "model_module_version": "1.5.0",
          "model_name": "HTMLModel",
          "state": {
            "_dom_classes": [],
            "_model_module": "@jupyter-widgets/controls",
            "_model_module_version": "1.5.0",
            "_model_name": "HTMLModel",
            "_view_count": null,
            "_view_module": "@jupyter-widgets/controls",
            "_view_module_version": "1.5.0",
            "_view_name": "HTMLView",
            "description": "",
            "description_tooltip": null,
            "layout": "IPY_MODEL_93bb81ac41804518a4d1f1b3324956b9",
            "placeholder": "​",
            "style": "IPY_MODEL_42872394c36543fea91bf3d88f156b49",
            "value": "loss: 94.39811432618276:  25%"
          }
        },
        "99e98cf3857a449083eecf18c49a6d74": {
          "model_module": "@jupyter-widgets/controls",
          "model_module_version": "1.5.0",
          "model_name": "DescriptionStyleModel",
          "state": {
            "_model_module": "@jupyter-widgets/controls",
            "_model_module_version": "1.5.0",
            "_model_name": "DescriptionStyleModel",
            "_view_count": null,
            "_view_module": "@jupyter-widgets/base",
            "_view_module_version": "1.2.0",
            "_view_name": "StyleView",
            "description_width": ""
          }
        },
        "9aa333345a5447169f05ef718fcd4eea": {
          "model_module": "@jupyter-widgets/base",
          "model_module_version": "1.2.0",
          "model_name": "LayoutModel",
          "state": {
            "_model_module": "@jupyter-widgets/base",
            "_model_module_version": "1.2.0",
            "_model_name": "LayoutModel",
            "_view_count": null,
            "_view_module": "@jupyter-widgets/base",
            "_view_module_version": "1.2.0",
            "_view_name": "LayoutView",
            "align_content": null,
            "align_items": null,
            "align_self": null,
            "border": null,
            "bottom": null,
            "display": null,
            "flex": null,
            "flex_flow": null,
            "grid_area": null,
            "grid_auto_columns": null,
            "grid_auto_flow": null,
            "grid_auto_rows": null,
            "grid_column": null,
            "grid_gap": null,
            "grid_row": null,
            "grid_template_areas": null,
            "grid_template_columns": null,
            "grid_template_rows": null,
            "height": null,
            "justify_content": null,
            "justify_items": null,
            "left": null,
            "margin": null,
            "max_height": null,
            "max_width": null,
            "min_height": null,
            "min_width": null,
            "object_fit": null,
            "object_position": null,
            "order": null,
            "overflow": null,
            "overflow_x": null,
            "overflow_y": null,
            "padding": null,
            "right": null,
            "top": null,
            "visibility": null,
            "width": null
          }
        },
        "9bf453586c204445b4bb0a7ccd683c60": {
          "model_module": "@jupyter-widgets/controls",
          "model_module_version": "1.5.0",
          "model_name": "HTMLModel",
          "state": {
            "_dom_classes": [],
            "_model_module": "@jupyter-widgets/controls",
            "_model_module_version": "1.5.0",
            "_model_name": "HTMLModel",
            "_view_count": null,
            "_view_module": "@jupyter-widgets/controls",
            "_view_module_version": "1.5.0",
            "_view_name": "HTMLView",
            "description": "",
            "description_tooltip": null,
            "layout": "IPY_MODEL_858f1650c9b04088b41a938dae675ae5",
            "placeholder": "​",
            "style": "IPY_MODEL_35ba52f1ea314265946aaf8a6d8e369b",
            "value": "loss: 87.23899818007371: 100%"
          }
        },
        "9eb181ba72ad4989b8cbbeff6cd71b39": {
          "model_module": "@jupyter-widgets/base",
          "model_module_version": "1.2.0",
          "model_name": "LayoutModel",
          "state": {
            "_model_module": "@jupyter-widgets/base",
            "_model_module_version": "1.2.0",
            "_model_name": "LayoutModel",
            "_view_count": null,
            "_view_module": "@jupyter-widgets/base",
            "_view_module_version": "1.2.0",
            "_view_name": "LayoutView",
            "align_content": null,
            "align_items": null,
            "align_self": null,
            "border": null,
            "bottom": null,
            "display": null,
            "flex": null,
            "flex_flow": null,
            "grid_area": null,
            "grid_auto_columns": null,
            "grid_auto_flow": null,
            "grid_auto_rows": null,
            "grid_column": null,
            "grid_gap": null,
            "grid_row": null,
            "grid_template_areas": null,
            "grid_template_columns": null,
            "grid_template_rows": null,
            "height": null,
            "justify_content": null,
            "justify_items": null,
            "left": null,
            "margin": null,
            "max_height": null,
            "max_width": null,
            "min_height": null,
            "min_width": null,
            "object_fit": null,
            "object_position": null,
            "order": null,
            "overflow": null,
            "overflow_x": null,
            "overflow_y": null,
            "padding": null,
            "right": null,
            "top": null,
            "visibility": null,
            "width": null
          }
        },
        "9fba13d64f2b4df79d2dee6703273653": {
          "model_module": "@jupyter-widgets/base",
          "model_module_version": "1.2.0",
          "model_name": "LayoutModel",
          "state": {
            "_model_module": "@jupyter-widgets/base",
            "_model_module_version": "1.2.0",
            "_model_name": "LayoutModel",
            "_view_count": null,
            "_view_module": "@jupyter-widgets/base",
            "_view_module_version": "1.2.0",
            "_view_name": "LayoutView",
            "align_content": null,
            "align_items": null,
            "align_self": null,
            "border": null,
            "bottom": null,
            "display": null,
            "flex": null,
            "flex_flow": null,
            "grid_area": null,
            "grid_auto_columns": null,
            "grid_auto_flow": null,
            "grid_auto_rows": null,
            "grid_column": null,
            "grid_gap": null,
            "grid_row": null,
            "grid_template_areas": null,
            "grid_template_columns": null,
            "grid_template_rows": null,
            "height": null,
            "justify_content": null,
            "justify_items": null,
            "left": null,
            "margin": null,
            "max_height": null,
            "max_width": null,
            "min_height": null,
            "min_width": null,
            "object_fit": null,
            "object_position": null,
            "order": null,
            "overflow": null,
            "overflow_x": null,
            "overflow_y": null,
            "padding": null,
            "right": null,
            "top": null,
            "visibility": null,
            "width": null
          }
        },
        "9fca10a4ecd84bdb989236fd9944d5da": {
          "model_module": "@jupyter-widgets/base",
          "model_module_version": "1.2.0",
          "model_name": "LayoutModel",
          "state": {
            "_model_module": "@jupyter-widgets/base",
            "_model_module_version": "1.2.0",
            "_model_name": "LayoutModel",
            "_view_count": null,
            "_view_module": "@jupyter-widgets/base",
            "_view_module_version": "1.2.0",
            "_view_name": "LayoutView",
            "align_content": null,
            "align_items": null,
            "align_self": null,
            "border": null,
            "bottom": null,
            "display": null,
            "flex": null,
            "flex_flow": null,
            "grid_area": null,
            "grid_auto_columns": null,
            "grid_auto_flow": null,
            "grid_auto_rows": null,
            "grid_column": null,
            "grid_gap": null,
            "grid_row": null,
            "grid_template_areas": null,
            "grid_template_columns": null,
            "grid_template_rows": null,
            "height": null,
            "justify_content": null,
            "justify_items": null,
            "left": null,
            "margin": null,
            "max_height": null,
            "max_width": null,
            "min_height": null,
            "min_width": null,
            "object_fit": null,
            "object_position": null,
            "order": null,
            "overflow": null,
            "overflow_x": null,
            "overflow_y": null,
            "padding": null,
            "right": null,
            "top": null,
            "visibility": null,
            "width": null
          }
        },
        "a087ba4250e944899f6ebca3007930d0": {
          "model_module": "@jupyter-widgets/base",
          "model_module_version": "1.2.0",
          "model_name": "LayoutModel",
          "state": {
            "_model_module": "@jupyter-widgets/base",
            "_model_module_version": "1.2.0",
            "_model_name": "LayoutModel",
            "_view_count": null,
            "_view_module": "@jupyter-widgets/base",
            "_view_module_version": "1.2.0",
            "_view_name": "LayoutView",
            "align_content": null,
            "align_items": null,
            "align_self": null,
            "border": null,
            "bottom": null,
            "display": null,
            "flex": null,
            "flex_flow": null,
            "grid_area": null,
            "grid_auto_columns": null,
            "grid_auto_flow": null,
            "grid_auto_rows": null,
            "grid_column": null,
            "grid_gap": null,
            "grid_row": null,
            "grid_template_areas": null,
            "grid_template_columns": null,
            "grid_template_rows": null,
            "height": null,
            "justify_content": null,
            "justify_items": null,
            "left": null,
            "margin": null,
            "max_height": null,
            "max_width": null,
            "min_height": null,
            "min_width": null,
            "object_fit": null,
            "object_position": null,
            "order": null,
            "overflow": null,
            "overflow_x": null,
            "overflow_y": null,
            "padding": null,
            "right": null,
            "top": null,
            "visibility": null,
            "width": null
          }
        },
        "a91c5b4e94b74d77ba321ffbd903868c": {
          "model_module": "@jupyter-widgets/base",
          "model_module_version": "1.2.0",
          "model_name": "LayoutModel",
          "state": {
            "_model_module": "@jupyter-widgets/base",
            "_model_module_version": "1.2.0",
            "_model_name": "LayoutModel",
            "_view_count": null,
            "_view_module": "@jupyter-widgets/base",
            "_view_module_version": "1.2.0",
            "_view_name": "LayoutView",
            "align_content": null,
            "align_items": null,
            "align_self": null,
            "border": null,
            "bottom": null,
            "display": null,
            "flex": null,
            "flex_flow": null,
            "grid_area": null,
            "grid_auto_columns": null,
            "grid_auto_flow": null,
            "grid_auto_rows": null,
            "grid_column": null,
            "grid_gap": null,
            "grid_row": null,
            "grid_template_areas": null,
            "grid_template_columns": null,
            "grid_template_rows": null,
            "height": null,
            "justify_content": null,
            "justify_items": null,
            "left": null,
            "margin": null,
            "max_height": null,
            "max_width": null,
            "min_height": null,
            "min_width": null,
            "object_fit": null,
            "object_position": null,
            "order": null,
            "overflow": null,
            "overflow_x": null,
            "overflow_y": null,
            "padding": null,
            "right": null,
            "top": null,
            "visibility": null,
            "width": null
          }
        },
        "a9cb6e4db328406faa91177da3cfcac6": {
          "model_module": "@jupyter-widgets/controls",
          "model_module_version": "1.5.0",
          "model_name": "DescriptionStyleModel",
          "state": {
            "_model_module": "@jupyter-widgets/controls",
            "_model_module_version": "1.5.0",
            "_model_name": "DescriptionStyleModel",
            "_view_count": null,
            "_view_module": "@jupyter-widgets/base",
            "_view_module_version": "1.2.0",
            "_view_name": "StyleView",
            "description_width": ""
          }
        },
        "a9fd3c03e9b6402bb991a335bf71f4b0": {
          "model_module": "@jupyter-widgets/base",
          "model_module_version": "1.2.0",
          "model_name": "LayoutModel",
          "state": {
            "_model_module": "@jupyter-widgets/base",
            "_model_module_version": "1.2.0",
            "_model_name": "LayoutModel",
            "_view_count": null,
            "_view_module": "@jupyter-widgets/base",
            "_view_module_version": "1.2.0",
            "_view_name": "LayoutView",
            "align_content": null,
            "align_items": null,
            "align_self": null,
            "border": null,
            "bottom": null,
            "display": null,
            "flex": null,
            "flex_flow": null,
            "grid_area": null,
            "grid_auto_columns": null,
            "grid_auto_flow": null,
            "grid_auto_rows": null,
            "grid_column": null,
            "grid_gap": null,
            "grid_row": null,
            "grid_template_areas": null,
            "grid_template_columns": null,
            "grid_template_rows": null,
            "height": null,
            "justify_content": null,
            "justify_items": null,
            "left": null,
            "margin": null,
            "max_height": null,
            "max_width": null,
            "min_height": null,
            "min_width": null,
            "object_fit": null,
            "object_position": null,
            "order": null,
            "overflow": null,
            "overflow_x": null,
            "overflow_y": null,
            "padding": null,
            "right": null,
            "top": null,
            "visibility": null,
            "width": null
          }
        },
        "aa44904b7daa489790d5199b42249d9c": {
          "model_module": "@jupyter-widgets/controls",
          "model_module_version": "1.5.0",
          "model_name": "HTMLModel",
          "state": {
            "_dom_classes": [],
            "_model_module": "@jupyter-widgets/controls",
            "_model_module_version": "1.5.0",
            "_model_name": "HTMLModel",
            "_view_count": null,
            "_view_module": "@jupyter-widgets/controls",
            "_view_module_version": "1.5.0",
            "_view_name": "HTMLView",
            "description": "",
            "description_tooltip": null,
            "layout": "IPY_MODEL_87244c23d6d14aad8f53e843c67fc09f",
            "placeholder": "​",
            "style": "IPY_MODEL_61257404f8cd44c29d6f4fed5e3f9f49",
            "value": " 300/300 [00:57&lt;00:00,  6.02it/s]"
          }
        },
        "ab4a51102ef2405bbef4748595b0e886": {
          "model_module": "@jupyter-widgets/controls",
          "model_module_version": "1.5.0",
          "model_name": "DescriptionStyleModel",
          "state": {
            "_model_module": "@jupyter-widgets/controls",
            "_model_module_version": "1.5.0",
            "_model_name": "DescriptionStyleModel",
            "_view_count": null,
            "_view_module": "@jupyter-widgets/base",
            "_view_module_version": "1.2.0",
            "_view_name": "StyleView",
            "description_width": ""
          }
        },
        "ac3c4dbe03c24420ba68d59041218eb9": {
          "model_module": "@jupyter-widgets/base",
          "model_module_version": "1.2.0",
          "model_name": "LayoutModel",
          "state": {
            "_model_module": "@jupyter-widgets/base",
            "_model_module_version": "1.2.0",
            "_model_name": "LayoutModel",
            "_view_count": null,
            "_view_module": "@jupyter-widgets/base",
            "_view_module_version": "1.2.0",
            "_view_name": "LayoutView",
            "align_content": null,
            "align_items": null,
            "align_self": null,
            "border": null,
            "bottom": null,
            "display": null,
            "flex": null,
            "flex_flow": null,
            "grid_area": null,
            "grid_auto_columns": null,
            "grid_auto_flow": null,
            "grid_auto_rows": null,
            "grid_column": null,
            "grid_gap": null,
            "grid_row": null,
            "grid_template_areas": null,
            "grid_template_columns": null,
            "grid_template_rows": null,
            "height": null,
            "justify_content": null,
            "justify_items": null,
            "left": null,
            "margin": null,
            "max_height": null,
            "max_width": null,
            "min_height": null,
            "min_width": null,
            "object_fit": null,
            "object_position": null,
            "order": null,
            "overflow": null,
            "overflow_x": null,
            "overflow_y": null,
            "padding": null,
            "right": null,
            "top": null,
            "visibility": null,
            "width": null
          }
        },
        "aeba2a51d6b7476e8271f03e26ac674d": {
          "model_module": "@jupyter-widgets/controls",
          "model_module_version": "1.5.0",
          "model_name": "HTMLModel",
          "state": {
            "_dom_classes": [],
            "_model_module": "@jupyter-widgets/controls",
            "_model_module_version": "1.5.0",
            "_model_name": "HTMLModel",
            "_view_count": null,
            "_view_module": "@jupyter-widgets/controls",
            "_view_module_version": "1.5.0",
            "_view_name": "HTMLView",
            "description": "",
            "description_tooltip": null,
            "layout": "IPY_MODEL_0cc27e2b3f5e414aaa1f7b2481092641",
            "placeholder": "​",
            "style": "IPY_MODEL_b94d2df22429476ca58b97e85cbfb1fb",
            "value": " 600/600 [01:46&lt;00:00,  6.07it/s]"
          }
        },
        "b048b02017d74d37b5f211fa1fc4da32": {
          "model_module": "@jupyter-widgets/controls",
          "model_module_version": "1.5.0",
          "model_name": "ProgressStyleModel",
          "state": {
            "_model_module": "@jupyter-widgets/controls",
            "_model_module_version": "1.5.0",
            "_model_name": "ProgressStyleModel",
            "_view_count": null,
            "_view_module": "@jupyter-widgets/base",
            "_view_module_version": "1.2.0",
            "_view_name": "StyleView",
            "bar_color": null,
            "description_width": ""
          }
        },
        "b1c17ad4b42b47f98d98a94518b07fe5": {
          "model_module": "@jupyter-widgets/base",
          "model_module_version": "1.2.0",
          "model_name": "LayoutModel",
          "state": {
            "_model_module": "@jupyter-widgets/base",
            "_model_module_version": "1.2.0",
            "_model_name": "LayoutModel",
            "_view_count": null,
            "_view_module": "@jupyter-widgets/base",
            "_view_module_version": "1.2.0",
            "_view_name": "LayoutView",
            "align_content": null,
            "align_items": null,
            "align_self": null,
            "border": null,
            "bottom": null,
            "display": null,
            "flex": null,
            "flex_flow": null,
            "grid_area": null,
            "grid_auto_columns": null,
            "grid_auto_flow": null,
            "grid_auto_rows": null,
            "grid_column": null,
            "grid_gap": null,
            "grid_row": null,
            "grid_template_areas": null,
            "grid_template_columns": null,
            "grid_template_rows": null,
            "height": null,
            "justify_content": null,
            "justify_items": null,
            "left": null,
            "margin": null,
            "max_height": null,
            "max_width": null,
            "min_height": null,
            "min_width": null,
            "object_fit": null,
            "object_position": null,
            "order": null,
            "overflow": null,
            "overflow_x": null,
            "overflow_y": null,
            "padding": null,
            "right": null,
            "top": null,
            "visibility": null,
            "width": null
          }
        },
        "b2be0637f720416e821fa96f2820bdb1": {
          "model_module": "@jupyter-widgets/controls",
          "model_module_version": "1.5.0",
          "model_name": "DescriptionStyleModel",
          "state": {
            "_model_module": "@jupyter-widgets/controls",
            "_model_module_version": "1.5.0",
            "_model_name": "DescriptionStyleModel",
            "_view_count": null,
            "_view_module": "@jupyter-widgets/base",
            "_view_module_version": "1.2.0",
            "_view_name": "StyleView",
            "description_width": ""
          }
        },
        "b76a4be14a16440181788b69cef9c0d9": {
          "model_module": "@jupyter-widgets/base",
          "model_module_version": "1.2.0",
          "model_name": "LayoutModel",
          "state": {
            "_model_module": "@jupyter-widgets/base",
            "_model_module_version": "1.2.0",
            "_model_name": "LayoutModel",
            "_view_count": null,
            "_view_module": "@jupyter-widgets/base",
            "_view_module_version": "1.2.0",
            "_view_name": "LayoutView",
            "align_content": null,
            "align_items": null,
            "align_self": null,
            "border": null,
            "bottom": null,
            "display": null,
            "flex": null,
            "flex_flow": null,
            "grid_area": null,
            "grid_auto_columns": null,
            "grid_auto_flow": null,
            "grid_auto_rows": null,
            "grid_column": null,
            "grid_gap": null,
            "grid_row": null,
            "grid_template_areas": null,
            "grid_template_columns": null,
            "grid_template_rows": null,
            "height": null,
            "justify_content": null,
            "justify_items": null,
            "left": null,
            "margin": null,
            "max_height": null,
            "max_width": null,
            "min_height": null,
            "min_width": null,
            "object_fit": null,
            "object_position": null,
            "order": null,
            "overflow": null,
            "overflow_x": null,
            "overflow_y": null,
            "padding": null,
            "right": null,
            "top": null,
            "visibility": null,
            "width": null
          }
        },
        "b94d2df22429476ca58b97e85cbfb1fb": {
          "model_module": "@jupyter-widgets/controls",
          "model_module_version": "1.5.0",
          "model_name": "DescriptionStyleModel",
          "state": {
            "_model_module": "@jupyter-widgets/controls",
            "_model_module_version": "1.5.0",
            "_model_name": "DescriptionStyleModel",
            "_view_count": null,
            "_view_module": "@jupyter-widgets/base",
            "_view_module_version": "1.2.0",
            "_view_name": "StyleView",
            "description_width": ""
          }
        },
        "b9f17ad20b194c1c8357c9098fd8c115": {
          "model_module": "@jupyter-widgets/controls",
          "model_module_version": "1.5.0",
          "model_name": "HTMLModel",
          "state": {
            "_dom_classes": [],
            "_model_module": "@jupyter-widgets/controls",
            "_model_module_version": "1.5.0",
            "_model_name": "HTMLModel",
            "_view_count": null,
            "_view_module": "@jupyter-widgets/controls",
            "_view_module_version": "1.5.0",
            "_view_name": "HTMLView",
            "description": "",
            "description_tooltip": null,
            "layout": "IPY_MODEL_e30bb913edc84274a68a56b80ed50d35",
            "placeholder": "​",
            "style": "IPY_MODEL_1fcda0c7bf5b4d489d885e72425d1937",
            "value": "loss: 116.4160104743924: 100%"
          }
        },
        "bb23bbbfdd064d88b83cfcf2fb521157": {
          "model_module": "@jupyter-widgets/controls",
          "model_module_version": "1.5.0",
          "model_name": "FloatProgressModel",
          "state": {
            "_dom_classes": [],
            "_model_module": "@jupyter-widgets/controls",
            "_model_module_version": "1.5.0",
            "_model_name": "FloatProgressModel",
            "_view_count": null,
            "_view_module": "@jupyter-widgets/controls",
            "_view_module_version": "1.5.0",
            "_view_name": "ProgressView",
            "bar_style": "danger",
            "description": "",
            "description_tooltip": null,
            "layout": "IPY_MODEL_2b43d2a964324d9b856b2f95f596025e",
            "max": 1300,
            "min": 0,
            "orientation": "horizontal",
            "style": "IPY_MODEL_3c33144df0af4b30a825ba455c18b6c5",
            "value": 331
          }
        },
        "bc368db59e55463898fae1c71652efb6": {
          "model_module": "@jupyter-widgets/controls",
          "model_module_version": "1.5.0",
          "model_name": "DescriptionStyleModel",
          "state": {
            "_model_module": "@jupyter-widgets/controls",
            "_model_module_version": "1.5.0",
            "_model_name": "DescriptionStyleModel",
            "_view_count": null,
            "_view_module": "@jupyter-widgets/base",
            "_view_module_version": "1.2.0",
            "_view_name": "StyleView",
            "description_width": ""
          }
        },
        "c0d667e68d0f47d49933aceca8e0c511": {
          "model_module": "@jupyter-widgets/base",
          "model_module_version": "1.2.0",
          "model_name": "LayoutModel",
          "state": {
            "_model_module": "@jupyter-widgets/base",
            "_model_module_version": "1.2.0",
            "_model_name": "LayoutModel",
            "_view_count": null,
            "_view_module": "@jupyter-widgets/base",
            "_view_module_version": "1.2.0",
            "_view_name": "LayoutView",
            "align_content": null,
            "align_items": null,
            "align_self": null,
            "border": null,
            "bottom": null,
            "display": null,
            "flex": null,
            "flex_flow": null,
            "grid_area": null,
            "grid_auto_columns": null,
            "grid_auto_flow": null,
            "grid_auto_rows": null,
            "grid_column": null,
            "grid_gap": null,
            "grid_row": null,
            "grid_template_areas": null,
            "grid_template_columns": null,
            "grid_template_rows": null,
            "height": null,
            "justify_content": null,
            "justify_items": null,
            "left": null,
            "margin": null,
            "max_height": null,
            "max_width": null,
            "min_height": null,
            "min_width": null,
            "object_fit": null,
            "object_position": null,
            "order": null,
            "overflow": null,
            "overflow_x": null,
            "overflow_y": null,
            "padding": null,
            "right": null,
            "top": null,
            "visibility": null,
            "width": null
          }
        },
        "c18588af5fdd4bc094a32a0489a94b31": {
          "model_module": "@jupyter-widgets/base",
          "model_module_version": "1.2.0",
          "model_name": "LayoutModel",
          "state": {
            "_model_module": "@jupyter-widgets/base",
            "_model_module_version": "1.2.0",
            "_model_name": "LayoutModel",
            "_view_count": null,
            "_view_module": "@jupyter-widgets/base",
            "_view_module_version": "1.2.0",
            "_view_name": "LayoutView",
            "align_content": null,
            "align_items": null,
            "align_self": null,
            "border": null,
            "bottom": null,
            "display": null,
            "flex": null,
            "flex_flow": null,
            "grid_area": null,
            "grid_auto_columns": null,
            "grid_auto_flow": null,
            "grid_auto_rows": null,
            "grid_column": null,
            "grid_gap": null,
            "grid_row": null,
            "grid_template_areas": null,
            "grid_template_columns": null,
            "grid_template_rows": null,
            "height": null,
            "justify_content": null,
            "justify_items": null,
            "left": null,
            "margin": null,
            "max_height": null,
            "max_width": null,
            "min_height": null,
            "min_width": null,
            "object_fit": null,
            "object_position": null,
            "order": null,
            "overflow": null,
            "overflow_x": null,
            "overflow_y": null,
            "padding": null,
            "right": null,
            "top": null,
            "visibility": null,
            "width": null
          }
        },
        "c4c4d6ae3cac4d54ae5ed5cca9ae17f9": {
          "model_module": "@jupyter-widgets/controls",
          "model_module_version": "1.5.0",
          "model_name": "HBoxModel",
          "state": {
            "_dom_classes": [],
            "_model_module": "@jupyter-widgets/controls",
            "_model_module_version": "1.5.0",
            "_model_name": "HBoxModel",
            "_view_count": null,
            "_view_module": "@jupyter-widgets/controls",
            "_view_module_version": "1.5.0",
            "_view_name": "HBoxView",
            "box_style": "",
            "children": [
              "IPY_MODEL_2b160a8a7ddb459e93da5413d1136d39",
              "IPY_MODEL_edd5057fb6ef4f4fae766e5a57f3c5f4",
              "IPY_MODEL_aeba2a51d6b7476e8271f03e26ac674d"
            ],
            "layout": "IPY_MODEL_ebbea9d0cbdd4e729cc504765314f003"
          }
        },
        "c883d205bc9d4f27a6bfaf90bd4d3e39": {
          "model_module": "@jupyter-widgets/base",
          "model_module_version": "1.2.0",
          "model_name": "LayoutModel",
          "state": {
            "_model_module": "@jupyter-widgets/base",
            "_model_module_version": "1.2.0",
            "_model_name": "LayoutModel",
            "_view_count": null,
            "_view_module": "@jupyter-widgets/base",
            "_view_module_version": "1.2.0",
            "_view_name": "LayoutView",
            "align_content": null,
            "align_items": null,
            "align_self": null,
            "border": null,
            "bottom": null,
            "display": null,
            "flex": null,
            "flex_flow": null,
            "grid_area": null,
            "grid_auto_columns": null,
            "grid_auto_flow": null,
            "grid_auto_rows": null,
            "grid_column": null,
            "grid_gap": null,
            "grid_row": null,
            "grid_template_areas": null,
            "grid_template_columns": null,
            "grid_template_rows": null,
            "height": null,
            "justify_content": null,
            "justify_items": null,
            "left": null,
            "margin": null,
            "max_height": null,
            "max_width": null,
            "min_height": null,
            "min_width": null,
            "object_fit": null,
            "object_position": null,
            "order": null,
            "overflow": null,
            "overflow_x": null,
            "overflow_y": null,
            "padding": null,
            "right": null,
            "top": null,
            "visibility": null,
            "width": null
          }
        },
        "c989b9943db44283bf40b44080a00779": {
          "model_module": "@jupyter-widgets/controls",
          "model_module_version": "1.5.0",
          "model_name": "DescriptionStyleModel",
          "state": {
            "_model_module": "@jupyter-widgets/controls",
            "_model_module_version": "1.5.0",
            "_model_name": "DescriptionStyleModel",
            "_view_count": null,
            "_view_module": "@jupyter-widgets/base",
            "_view_module_version": "1.2.0",
            "_view_name": "StyleView",
            "description_width": ""
          }
        },
        "cba5a8c8906a460e90f2017075f096c0": {
          "model_module": "@jupyter-widgets/controls",
          "model_module_version": "1.5.0",
          "model_name": "ProgressStyleModel",
          "state": {
            "_model_module": "@jupyter-widgets/controls",
            "_model_module_version": "1.5.0",
            "_model_name": "ProgressStyleModel",
            "_view_count": null,
            "_view_module": "@jupyter-widgets/base",
            "_view_module_version": "1.2.0",
            "_view_name": "StyleView",
            "bar_color": null,
            "description_width": ""
          }
        },
        "cc9dbb71f8214331b3cdbe14a88c7a23": {
          "model_module": "@jupyter-widgets/base",
          "model_module_version": "1.2.0",
          "model_name": "LayoutModel",
          "state": {
            "_model_module": "@jupyter-widgets/base",
            "_model_module_version": "1.2.0",
            "_model_name": "LayoutModel",
            "_view_count": null,
            "_view_module": "@jupyter-widgets/base",
            "_view_module_version": "1.2.0",
            "_view_name": "LayoutView",
            "align_content": null,
            "align_items": null,
            "align_self": null,
            "border": null,
            "bottom": null,
            "display": null,
            "flex": null,
            "flex_flow": null,
            "grid_area": null,
            "grid_auto_columns": null,
            "grid_auto_flow": null,
            "grid_auto_rows": null,
            "grid_column": null,
            "grid_gap": null,
            "grid_row": null,
            "grid_template_areas": null,
            "grid_template_columns": null,
            "grid_template_rows": null,
            "height": null,
            "justify_content": null,
            "justify_items": null,
            "left": null,
            "margin": null,
            "max_height": null,
            "max_width": null,
            "min_height": null,
            "min_width": null,
            "object_fit": null,
            "object_position": null,
            "order": null,
            "overflow": null,
            "overflow_x": null,
            "overflow_y": null,
            "padding": null,
            "right": null,
            "top": null,
            "visibility": null,
            "width": null
          }
        },
        "cc9e7ef78cac40389ac5cf72d4f58638": {
          "model_module": "@jupyter-widgets/controls",
          "model_module_version": "1.5.0",
          "model_name": "FloatProgressModel",
          "state": {
            "_dom_classes": [],
            "_model_module": "@jupyter-widgets/controls",
            "_model_module_version": "1.5.0",
            "_model_name": "FloatProgressModel",
            "_view_count": null,
            "_view_module": "@jupyter-widgets/controls",
            "_view_module_version": "1.5.0",
            "_view_name": "ProgressView",
            "bar_style": "success",
            "description": "",
            "description_tooltip": null,
            "layout": "IPY_MODEL_0324f10378eb45378d74f237c28414ef",
            "max": 1000,
            "min": 0,
            "orientation": "horizontal",
            "style": "IPY_MODEL_03bbcebba08f45cfb577e1b0fa246a6a",
            "value": 1000
          }
        },
        "ce693dded9ec47ad8cd6321f2f37b176": {
          "model_module": "@jupyter-widgets/base",
          "model_module_version": "1.2.0",
          "model_name": "LayoutModel",
          "state": {
            "_model_module": "@jupyter-widgets/base",
            "_model_module_version": "1.2.0",
            "_model_name": "LayoutModel",
            "_view_count": null,
            "_view_module": "@jupyter-widgets/base",
            "_view_module_version": "1.2.0",
            "_view_name": "LayoutView",
            "align_content": null,
            "align_items": null,
            "align_self": null,
            "border": null,
            "bottom": null,
            "display": null,
            "flex": null,
            "flex_flow": null,
            "grid_area": null,
            "grid_auto_columns": null,
            "grid_auto_flow": null,
            "grid_auto_rows": null,
            "grid_column": null,
            "grid_gap": null,
            "grid_row": null,
            "grid_template_areas": null,
            "grid_template_columns": null,
            "grid_template_rows": null,
            "height": null,
            "justify_content": null,
            "justify_items": null,
            "left": null,
            "margin": null,
            "max_height": null,
            "max_width": null,
            "min_height": null,
            "min_width": null,
            "object_fit": null,
            "object_position": null,
            "order": null,
            "overflow": null,
            "overflow_x": null,
            "overflow_y": null,
            "padding": null,
            "right": null,
            "top": null,
            "visibility": null,
            "width": null
          }
        },
        "ce8e8f5d02f94b58b169c80f3e987bb4": {
          "model_module": "@jupyter-widgets/base",
          "model_module_version": "1.2.0",
          "model_name": "LayoutModel",
          "state": {
            "_model_module": "@jupyter-widgets/base",
            "_model_module_version": "1.2.0",
            "_model_name": "LayoutModel",
            "_view_count": null,
            "_view_module": "@jupyter-widgets/base",
            "_view_module_version": "1.2.0",
            "_view_name": "LayoutView",
            "align_content": null,
            "align_items": null,
            "align_self": null,
            "border": null,
            "bottom": null,
            "display": null,
            "flex": null,
            "flex_flow": null,
            "grid_area": null,
            "grid_auto_columns": null,
            "grid_auto_flow": null,
            "grid_auto_rows": null,
            "grid_column": null,
            "grid_gap": null,
            "grid_row": null,
            "grid_template_areas": null,
            "grid_template_columns": null,
            "grid_template_rows": null,
            "height": null,
            "justify_content": null,
            "justify_items": null,
            "left": null,
            "margin": null,
            "max_height": null,
            "max_width": null,
            "min_height": null,
            "min_width": null,
            "object_fit": null,
            "object_position": null,
            "order": null,
            "overflow": null,
            "overflow_x": null,
            "overflow_y": null,
            "padding": null,
            "right": null,
            "top": null,
            "visibility": null,
            "width": null
          }
        },
        "cf62fe4ca46c4a81acdfd2b94699da2d": {
          "model_module": "@jupyter-widgets/controls",
          "model_module_version": "1.5.0",
          "model_name": "ProgressStyleModel",
          "state": {
            "_model_module": "@jupyter-widgets/controls",
            "_model_module_version": "1.5.0",
            "_model_name": "ProgressStyleModel",
            "_view_count": null,
            "_view_module": "@jupyter-widgets/base",
            "_view_module_version": "1.2.0",
            "_view_name": "StyleView",
            "bar_color": null,
            "description_width": ""
          }
        },
        "d1b9c3e4de7f4064aa828eedcdff4908": {
          "model_module": "@jupyter-widgets/controls",
          "model_module_version": "1.5.0",
          "model_name": "DescriptionStyleModel",
          "state": {
            "_model_module": "@jupyter-widgets/controls",
            "_model_module_version": "1.5.0",
            "_model_name": "DescriptionStyleModel",
            "_view_count": null,
            "_view_module": "@jupyter-widgets/base",
            "_view_module_version": "1.2.0",
            "_view_name": "StyleView",
            "description_width": ""
          }
        },
        "d33854ffb5284a4fbac1f4e0c57c9368": {
          "model_module": "@jupyter-widgets/controls",
          "model_module_version": "1.5.0",
          "model_name": "ProgressStyleModel",
          "state": {
            "_model_module": "@jupyter-widgets/controls",
            "_model_module_version": "1.5.0",
            "_model_name": "ProgressStyleModel",
            "_view_count": null,
            "_view_module": "@jupyter-widgets/base",
            "_view_module_version": "1.2.0",
            "_view_name": "StyleView",
            "bar_color": null,
            "description_width": ""
          }
        },
        "db13303dd9dc46f2a0ffacc50c4791b6": {
          "model_module": "@jupyter-widgets/controls",
          "model_module_version": "1.5.0",
          "model_name": "HTMLModel",
          "state": {
            "_dom_classes": [],
            "_model_module": "@jupyter-widgets/controls",
            "_model_module_version": "1.5.0",
            "_model_name": "HTMLModel",
            "_view_count": null,
            "_view_module": "@jupyter-widgets/controls",
            "_view_module_version": "1.5.0",
            "_view_name": "HTMLView",
            "description": "",
            "description_tooltip": null,
            "layout": "IPY_MODEL_68f6ca0dd65b472e86c0098cdd9d9c7a",
            "placeholder": "​",
            "style": "IPY_MODEL_3550e41853a74e88ad62054ca4fcedf8",
            "value": " 500/500 [01:31&lt;00:00,  5.18it/s]"
          }
        },
        "db5b5af34d2844a0aca0d07dbcd5b6e5": {
          "model_module": "@jupyter-widgets/base",
          "model_module_version": "1.2.0",
          "model_name": "LayoutModel",
          "state": {
            "_model_module": "@jupyter-widgets/base",
            "_model_module_version": "1.2.0",
            "_model_name": "LayoutModel",
            "_view_count": null,
            "_view_module": "@jupyter-widgets/base",
            "_view_module_version": "1.2.0",
            "_view_name": "LayoutView",
            "align_content": null,
            "align_items": null,
            "align_self": null,
            "border": null,
            "bottom": null,
            "display": null,
            "flex": null,
            "flex_flow": null,
            "grid_area": null,
            "grid_auto_columns": null,
            "grid_auto_flow": null,
            "grid_auto_rows": null,
            "grid_column": null,
            "grid_gap": null,
            "grid_row": null,
            "grid_template_areas": null,
            "grid_template_columns": null,
            "grid_template_rows": null,
            "height": null,
            "justify_content": null,
            "justify_items": null,
            "left": null,
            "margin": null,
            "max_height": null,
            "max_width": null,
            "min_height": null,
            "min_width": null,
            "object_fit": null,
            "object_position": null,
            "order": null,
            "overflow": null,
            "overflow_x": null,
            "overflow_y": null,
            "padding": null,
            "right": null,
            "top": null,
            "visibility": null,
            "width": null
          }
        },
        "dce6bbf69ee84f268f661dc98414ff48": {
          "model_module": "@jupyter-widgets/controls",
          "model_module_version": "1.5.0",
          "model_name": "HTMLModel",
          "state": {
            "_dom_classes": [],
            "_model_module": "@jupyter-widgets/controls",
            "_model_module_version": "1.5.0",
            "_model_name": "HTMLModel",
            "_view_count": null,
            "_view_module": "@jupyter-widgets/controls",
            "_view_module_version": "1.5.0",
            "_view_name": "HTMLView",
            "description": "",
            "description_tooltip": null,
            "layout": "IPY_MODEL_ac3c4dbe03c24420ba68d59041218eb9",
            "placeholder": "​",
            "style": "IPY_MODEL_13def3eee65b4ba090cdd18d64a45fee",
            "value": " 50/50 [39:09&lt;00:00, 47.07s/it]"
          }
        },
        "dcef2946b72b467fa06ed5f1339d0474": {
          "model_module": "@jupyter-widgets/controls",
          "model_module_version": "1.5.0",
          "model_name": "FloatProgressModel",
          "state": {
            "_dom_classes": [],
            "_model_module": "@jupyter-widgets/controls",
            "_model_module_version": "1.5.0",
            "_model_name": "FloatProgressModel",
            "_view_count": null,
            "_view_module": "@jupyter-widgets/controls",
            "_view_module_version": "1.5.0",
            "_view_name": "ProgressView",
            "bar_style": "success",
            "description": "",
            "description_tooltip": null,
            "layout": "IPY_MODEL_b76a4be14a16440181788b69cef9c0d9",
            "max": 1200,
            "min": 0,
            "orientation": "horizontal",
            "style": "IPY_MODEL_ed3c94f422dc4517807800ed51d5edd2",
            "value": 1200
          }
        },
        "dd99e08ffcff407f8847738a285efa46": {
          "model_module": "@jupyter-widgets/controls",
          "model_module_version": "1.5.0",
          "model_name": "HTMLModel",
          "state": {
            "_dom_classes": [],
            "_model_module": "@jupyter-widgets/controls",
            "_model_module_version": "1.5.0",
            "_model_name": "HTMLModel",
            "_view_count": null,
            "_view_module": "@jupyter-widgets/controls",
            "_view_module_version": "1.5.0",
            "_view_name": "HTMLView",
            "description": "",
            "description_tooltip": null,
            "layout": "IPY_MODEL_9aa333345a5447169f05ef718fcd4eea",
            "placeholder": "​",
            "style": "IPY_MODEL_38598b311eb3403ab0b097159335b6f9",
            "value": " 50/50 [25:48&lt;00:00, 30.85s/it]"
          }
        },
        "df1f2b49d0084563824b57826658c7a2": {
          "model_module": "@jupyter-widgets/controls",
          "model_module_version": "1.5.0",
          "model_name": "HTMLModel",
          "state": {
            "_dom_classes": [],
            "_model_module": "@jupyter-widgets/controls",
            "_model_module_version": "1.5.0",
            "_model_name": "HTMLModel",
            "_view_count": null,
            "_view_module": "@jupyter-widgets/controls",
            "_view_module_version": "1.5.0",
            "_view_name": "HTMLView",
            "description": "",
            "description_tooltip": null,
            "layout": "IPY_MODEL_9eb181ba72ad4989b8cbbeff6cd71b39",
            "placeholder": "​",
            "style": "IPY_MODEL_4085b902725d4a36b7071eb7d2cdb843",
            "value": "loss: 58.593815937122955: 100%"
          }
        },
        "df5210b10f724c6789ee082621729a02": {
          "model_module": "@jupyter-widgets/controls",
          "model_module_version": "1.5.0",
          "model_name": "HTMLModel",
          "state": {
            "_dom_classes": [],
            "_model_module": "@jupyter-widgets/controls",
            "_model_module_version": "1.5.0",
            "_model_name": "HTMLModel",
            "_view_count": null,
            "_view_module": "@jupyter-widgets/controls",
            "_view_module_version": "1.5.0",
            "_view_name": "HTMLView",
            "description": "",
            "description_tooltip": null,
            "layout": "IPY_MODEL_3ed6bbee04f2440ebf1fbaa99c244708",
            "placeholder": "​",
            "style": "IPY_MODEL_0de49aeb042e4a8ca96f440e1b00c35f",
            "value": "cost: 0.3551797347142946: 100%"
          }
        },
        "df87d982c9f14859bcbdcf95fa932e52": {
          "model_module": "@jupyter-widgets/controls",
          "model_module_version": "1.5.0",
          "model_name": "DescriptionStyleModel",
          "state": {
            "_model_module": "@jupyter-widgets/controls",
            "_model_module_version": "1.5.0",
            "_model_name": "DescriptionStyleModel",
            "_view_count": null,
            "_view_module": "@jupyter-widgets/base",
            "_view_module_version": "1.2.0",
            "_view_name": "StyleView",
            "description_width": ""
          }
        },
        "e0ca23e44d434672956c47ead7126264": {
          "model_module": "@jupyter-widgets/controls",
          "model_module_version": "1.5.0",
          "model_name": "HBoxModel",
          "state": {
            "_dom_classes": [],
            "_model_module": "@jupyter-widgets/controls",
            "_model_module_version": "1.5.0",
            "_model_name": "HBoxModel",
            "_view_count": null,
            "_view_module": "@jupyter-widgets/controls",
            "_view_module_version": "1.5.0",
            "_view_name": "HBoxView",
            "box_style": "",
            "children": [
              "IPY_MODEL_b9f17ad20b194c1c8357c9098fd8c115",
              "IPY_MODEL_5065e01dd5434b9abf869a3fa2cd9dec",
              "IPY_MODEL_61db403abcb245b295c74a235e12a583"
            ],
            "layout": "IPY_MODEL_f1cd85076f294f1e9e0c1ca04fd9f7e8"
          }
        },
        "e10b091fca98485db8c6bb53fa52a466": {
          "model_module": "@jupyter-widgets/base",
          "model_module_version": "1.2.0",
          "model_name": "LayoutModel",
          "state": {
            "_model_module": "@jupyter-widgets/base",
            "_model_module_version": "1.2.0",
            "_model_name": "LayoutModel",
            "_view_count": null,
            "_view_module": "@jupyter-widgets/base",
            "_view_module_version": "1.2.0",
            "_view_name": "LayoutView",
            "align_content": null,
            "align_items": null,
            "align_self": null,
            "border": null,
            "bottom": null,
            "display": null,
            "flex": null,
            "flex_flow": null,
            "grid_area": null,
            "grid_auto_columns": null,
            "grid_auto_flow": null,
            "grid_auto_rows": null,
            "grid_column": null,
            "grid_gap": null,
            "grid_row": null,
            "grid_template_areas": null,
            "grid_template_columns": null,
            "grid_template_rows": null,
            "height": null,
            "justify_content": null,
            "justify_items": null,
            "left": null,
            "margin": null,
            "max_height": null,
            "max_width": null,
            "min_height": null,
            "min_width": null,
            "object_fit": null,
            "object_position": null,
            "order": null,
            "overflow": null,
            "overflow_x": null,
            "overflow_y": null,
            "padding": null,
            "right": null,
            "top": null,
            "visibility": null,
            "width": "20px"
          }
        },
        "e14bec7da187434f9e532221571659e2": {
          "model_module": "@jupyter-widgets/base",
          "model_module_version": "1.2.0",
          "model_name": "LayoutModel",
          "state": {
            "_model_module": "@jupyter-widgets/base",
            "_model_module_version": "1.2.0",
            "_model_name": "LayoutModel",
            "_view_count": null,
            "_view_module": "@jupyter-widgets/base",
            "_view_module_version": "1.2.0",
            "_view_name": "LayoutView",
            "align_content": null,
            "align_items": null,
            "align_self": null,
            "border": null,
            "bottom": null,
            "display": null,
            "flex": null,
            "flex_flow": null,
            "grid_area": null,
            "grid_auto_columns": null,
            "grid_auto_flow": null,
            "grid_auto_rows": null,
            "grid_column": null,
            "grid_gap": null,
            "grid_row": null,
            "grid_template_areas": null,
            "grid_template_columns": null,
            "grid_template_rows": null,
            "height": null,
            "justify_content": null,
            "justify_items": null,
            "left": null,
            "margin": null,
            "max_height": null,
            "max_width": null,
            "min_height": null,
            "min_width": null,
            "object_fit": null,
            "object_position": null,
            "order": null,
            "overflow": null,
            "overflow_x": null,
            "overflow_y": null,
            "padding": null,
            "right": null,
            "top": null,
            "visibility": null,
            "width": null
          }
        },
        "e29b8fb40c5e4430a8f3b1f6c14caffc": {
          "model_module": "@jupyter-widgets/base",
          "model_module_version": "1.2.0",
          "model_name": "LayoutModel",
          "state": {
            "_model_module": "@jupyter-widgets/base",
            "_model_module_version": "1.2.0",
            "_model_name": "LayoutModel",
            "_view_count": null,
            "_view_module": "@jupyter-widgets/base",
            "_view_module_version": "1.2.0",
            "_view_name": "LayoutView",
            "align_content": null,
            "align_items": null,
            "align_self": null,
            "border": null,
            "bottom": null,
            "display": null,
            "flex": null,
            "flex_flow": null,
            "grid_area": null,
            "grid_auto_columns": null,
            "grid_auto_flow": null,
            "grid_auto_rows": null,
            "grid_column": null,
            "grid_gap": null,
            "grid_row": null,
            "grid_template_areas": null,
            "grid_template_columns": null,
            "grid_template_rows": null,
            "height": null,
            "justify_content": null,
            "justify_items": null,
            "left": null,
            "margin": null,
            "max_height": null,
            "max_width": null,
            "min_height": null,
            "min_width": null,
            "object_fit": null,
            "object_position": null,
            "order": null,
            "overflow": null,
            "overflow_x": null,
            "overflow_y": null,
            "padding": null,
            "right": null,
            "top": null,
            "visibility": null,
            "width": null
          }
        },
        "e30bb913edc84274a68a56b80ed50d35": {
          "model_module": "@jupyter-widgets/base",
          "model_module_version": "1.2.0",
          "model_name": "LayoutModel",
          "state": {
            "_model_module": "@jupyter-widgets/base",
            "_model_module_version": "1.2.0",
            "_model_name": "LayoutModel",
            "_view_count": null,
            "_view_module": "@jupyter-widgets/base",
            "_view_module_version": "1.2.0",
            "_view_name": "LayoutView",
            "align_content": null,
            "align_items": null,
            "align_self": null,
            "border": null,
            "bottom": null,
            "display": null,
            "flex": null,
            "flex_flow": null,
            "grid_area": null,
            "grid_auto_columns": null,
            "grid_auto_flow": null,
            "grid_auto_rows": null,
            "grid_column": null,
            "grid_gap": null,
            "grid_row": null,
            "grid_template_areas": null,
            "grid_template_columns": null,
            "grid_template_rows": null,
            "height": null,
            "justify_content": null,
            "justify_items": null,
            "left": null,
            "margin": null,
            "max_height": null,
            "max_width": null,
            "min_height": null,
            "min_width": null,
            "object_fit": null,
            "object_position": null,
            "order": null,
            "overflow": null,
            "overflow_x": null,
            "overflow_y": null,
            "padding": null,
            "right": null,
            "top": null,
            "visibility": null,
            "width": null
          }
        },
        "e535ada499724b8f96512a05ecc5b204": {
          "model_module": "@jupyter-widgets/controls",
          "model_module_version": "1.5.0",
          "model_name": "HTMLModel",
          "state": {
            "_dom_classes": [],
            "_model_module": "@jupyter-widgets/controls",
            "_model_module_version": "1.5.0",
            "_model_name": "HTMLModel",
            "_view_count": null,
            "_view_module": "@jupyter-widgets/controls",
            "_view_module_version": "1.5.0",
            "_view_name": "HTMLView",
            "description": "",
            "description_tooltip": null,
            "layout": "IPY_MODEL_5ffd3722546245fe962e50f7c5b8624f",
            "placeholder": "​",
            "style": "IPY_MODEL_bc368db59e55463898fae1c71652efb6",
            "value": " 700/700 [02:03&lt;00:00,  5.66it/s]"
          }
        },
        "e78b96c065fe46658a930ac8a43673b4": {
          "model_module": "@jupyter-widgets/controls",
          "model_module_version": "1.5.0",
          "model_name": "DescriptionStyleModel",
          "state": {
            "_model_module": "@jupyter-widgets/controls",
            "_model_module_version": "1.5.0",
            "_model_name": "DescriptionStyleModel",
            "_view_count": null,
            "_view_module": "@jupyter-widgets/base",
            "_view_module_version": "1.2.0",
            "_view_name": "StyleView",
            "description_width": ""
          }
        },
        "e899d273f9144960a2604269c657b3c6": {
          "model_module": "@jupyter-widgets/controls",
          "model_module_version": "1.5.0",
          "model_name": "FloatProgressModel",
          "state": {
            "_dom_classes": [],
            "_model_module": "@jupyter-widgets/controls",
            "_model_module_version": "1.5.0",
            "_model_name": "FloatProgressModel",
            "_view_count": null,
            "_view_module": "@jupyter-widgets/controls",
            "_view_module_version": "1.5.0",
            "_view_name": "ProgressView",
            "bar_style": "success",
            "description": "",
            "description_tooltip": null,
            "layout": "IPY_MODEL_e14bec7da187434f9e532221571659e2",
            "max": 100,
            "min": 0,
            "orientation": "horizontal",
            "style": "IPY_MODEL_b048b02017d74d37b5f211fa1fc4da32",
            "value": 100
          }
        },
        "e916b701cbb14540932ca97317536518": {
          "model_module": "@jupyter-widgets/base",
          "model_module_version": "1.2.0",
          "model_name": "LayoutModel",
          "state": {
            "_model_module": "@jupyter-widgets/base",
            "_model_module_version": "1.2.0",
            "_model_name": "LayoutModel",
            "_view_count": null,
            "_view_module": "@jupyter-widgets/base",
            "_view_module_version": "1.2.0",
            "_view_name": "LayoutView",
            "align_content": null,
            "align_items": null,
            "align_self": null,
            "border": null,
            "bottom": null,
            "display": null,
            "flex": null,
            "flex_flow": null,
            "grid_area": null,
            "grid_auto_columns": null,
            "grid_auto_flow": null,
            "grid_auto_rows": null,
            "grid_column": null,
            "grid_gap": null,
            "grid_row": null,
            "grid_template_areas": null,
            "grid_template_columns": null,
            "grid_template_rows": null,
            "height": null,
            "justify_content": null,
            "justify_items": null,
            "left": null,
            "margin": null,
            "max_height": null,
            "max_width": null,
            "min_height": null,
            "min_width": null,
            "object_fit": null,
            "object_position": null,
            "order": null,
            "overflow": null,
            "overflow_x": null,
            "overflow_y": null,
            "padding": null,
            "right": null,
            "top": null,
            "visibility": null,
            "width": null
          }
        },
        "e945814885864100a2ea3b86050bfd75": {
          "model_module": "@jupyter-widgets/controls",
          "model_module_version": "1.5.0",
          "model_name": "HBoxModel",
          "state": {
            "_dom_classes": [],
            "_model_module": "@jupyter-widgets/controls",
            "_model_module_version": "1.5.0",
            "_model_name": "HBoxModel",
            "_view_count": null,
            "_view_module": "@jupyter-widgets/controls",
            "_view_module_version": "1.5.0",
            "_view_name": "HBoxView",
            "box_style": "",
            "children": [
              "IPY_MODEL_df5210b10f724c6789ee082621729a02",
              "IPY_MODEL_991e7860747c48258d58e12048f340e3",
              "IPY_MODEL_dce6bbf69ee84f268f661dc98414ff48"
            ],
            "layout": "IPY_MODEL_ce693dded9ec47ad8cd6321f2f37b176"
          }
        },
        "e9b0ed42af8243efaf43f504eb8dcbf4": {
          "model_module": "@jupyter-widgets/base",
          "model_module_version": "1.2.0",
          "model_name": "LayoutModel",
          "state": {
            "_model_module": "@jupyter-widgets/base",
            "_model_module_version": "1.2.0",
            "_model_name": "LayoutModel",
            "_view_count": null,
            "_view_module": "@jupyter-widgets/base",
            "_view_module_version": "1.2.0",
            "_view_name": "LayoutView",
            "align_content": null,
            "align_items": null,
            "align_self": null,
            "border": null,
            "bottom": null,
            "display": null,
            "flex": null,
            "flex_flow": null,
            "grid_area": null,
            "grid_auto_columns": null,
            "grid_auto_flow": null,
            "grid_auto_rows": null,
            "grid_column": null,
            "grid_gap": null,
            "grid_row": null,
            "grid_template_areas": null,
            "grid_template_columns": null,
            "grid_template_rows": null,
            "height": null,
            "justify_content": null,
            "justify_items": null,
            "left": null,
            "margin": null,
            "max_height": null,
            "max_width": null,
            "min_height": null,
            "min_width": null,
            "object_fit": null,
            "object_position": null,
            "order": null,
            "overflow": null,
            "overflow_x": null,
            "overflow_y": null,
            "padding": null,
            "right": null,
            "top": null,
            "visibility": null,
            "width": null
          }
        },
        "e9ca881396194dca89dbec9305a2a447": {
          "model_module": "@jupyter-widgets/base",
          "model_module_version": "1.2.0",
          "model_name": "LayoutModel",
          "state": {
            "_model_module": "@jupyter-widgets/base",
            "_model_module_version": "1.2.0",
            "_model_name": "LayoutModel",
            "_view_count": null,
            "_view_module": "@jupyter-widgets/base",
            "_view_module_version": "1.2.0",
            "_view_name": "LayoutView",
            "align_content": null,
            "align_items": null,
            "align_self": null,
            "border": null,
            "bottom": null,
            "display": null,
            "flex": null,
            "flex_flow": null,
            "grid_area": null,
            "grid_auto_columns": null,
            "grid_auto_flow": null,
            "grid_auto_rows": null,
            "grid_column": null,
            "grid_gap": null,
            "grid_row": null,
            "grid_template_areas": null,
            "grid_template_columns": null,
            "grid_template_rows": null,
            "height": null,
            "justify_content": null,
            "justify_items": null,
            "left": null,
            "margin": null,
            "max_height": null,
            "max_width": null,
            "min_height": null,
            "min_width": null,
            "object_fit": null,
            "object_position": null,
            "order": null,
            "overflow": null,
            "overflow_x": null,
            "overflow_y": null,
            "padding": null,
            "right": null,
            "top": null,
            "visibility": null,
            "width": null
          }
        },
        "ebbea9d0cbdd4e729cc504765314f003": {
          "model_module": "@jupyter-widgets/base",
          "model_module_version": "1.2.0",
          "model_name": "LayoutModel",
          "state": {
            "_model_module": "@jupyter-widgets/base",
            "_model_module_version": "1.2.0",
            "_model_name": "LayoutModel",
            "_view_count": null,
            "_view_module": "@jupyter-widgets/base",
            "_view_module_version": "1.2.0",
            "_view_name": "LayoutView",
            "align_content": null,
            "align_items": null,
            "align_self": null,
            "border": null,
            "bottom": null,
            "display": null,
            "flex": null,
            "flex_flow": null,
            "grid_area": null,
            "grid_auto_columns": null,
            "grid_auto_flow": null,
            "grid_auto_rows": null,
            "grid_column": null,
            "grid_gap": null,
            "grid_row": null,
            "grid_template_areas": null,
            "grid_template_columns": null,
            "grid_template_rows": null,
            "height": null,
            "justify_content": null,
            "justify_items": null,
            "left": null,
            "margin": null,
            "max_height": null,
            "max_width": null,
            "min_height": null,
            "min_width": null,
            "object_fit": null,
            "object_position": null,
            "order": null,
            "overflow": null,
            "overflow_x": null,
            "overflow_y": null,
            "padding": null,
            "right": null,
            "top": null,
            "visibility": null,
            "width": null
          }
        },
        "ec08424ef606419a93eae5c34db33668": {
          "model_module": "@jupyter-widgets/controls",
          "model_module_version": "1.5.0",
          "model_name": "HTMLModel",
          "state": {
            "_dom_classes": [],
            "_model_module": "@jupyter-widgets/controls",
            "_model_module_version": "1.5.0",
            "_model_name": "HTMLModel",
            "_view_count": null,
            "_view_module": "@jupyter-widgets/controls",
            "_view_module_version": "1.5.0",
            "_view_name": "HTMLView",
            "description": "",
            "description_tooltip": null,
            "layout": "IPY_MODEL_9fba13d64f2b4df79d2dee6703273653",
            "placeholder": "​",
            "style": "IPY_MODEL_999da23e652342fa846d6299c86014eb",
            "value": "cost: 0.6849813434067694: 100%"
          }
        },
        "ed0392365cbf4fb7b641505d548634c4": {
          "model_module": "@jupyter-widgets/base",
          "model_module_version": "1.2.0",
          "model_name": "LayoutModel",
          "state": {
            "_model_module": "@jupyter-widgets/base",
            "_model_module_version": "1.2.0",
            "_model_name": "LayoutModel",
            "_view_count": null,
            "_view_module": "@jupyter-widgets/base",
            "_view_module_version": "1.2.0",
            "_view_name": "LayoutView",
            "align_content": null,
            "align_items": null,
            "align_self": null,
            "border": null,
            "bottom": null,
            "display": null,
            "flex": null,
            "flex_flow": null,
            "grid_area": null,
            "grid_auto_columns": null,
            "grid_auto_flow": null,
            "grid_auto_rows": null,
            "grid_column": null,
            "grid_gap": null,
            "grid_row": null,
            "grid_template_areas": null,
            "grid_template_columns": null,
            "grid_template_rows": null,
            "height": null,
            "justify_content": null,
            "justify_items": null,
            "left": null,
            "margin": null,
            "max_height": null,
            "max_width": null,
            "min_height": null,
            "min_width": null,
            "object_fit": null,
            "object_position": null,
            "order": null,
            "overflow": null,
            "overflow_x": null,
            "overflow_y": null,
            "padding": null,
            "right": null,
            "top": null,
            "visibility": null,
            "width": null
          }
        },
        "ed3c94f422dc4517807800ed51d5edd2": {
          "model_module": "@jupyter-widgets/controls",
          "model_module_version": "1.5.0",
          "model_name": "ProgressStyleModel",
          "state": {
            "_model_module": "@jupyter-widgets/controls",
            "_model_module_version": "1.5.0",
            "_model_name": "ProgressStyleModel",
            "_view_count": null,
            "_view_module": "@jupyter-widgets/base",
            "_view_module_version": "1.2.0",
            "_view_name": "StyleView",
            "bar_color": null,
            "description_width": ""
          }
        },
        "ed89974b7f5541a38d7e8691c6a4d9de": {
          "model_module": "@jupyter-widgets/base",
          "model_module_version": "1.2.0",
          "model_name": "LayoutModel",
          "state": {
            "_model_module": "@jupyter-widgets/base",
            "_model_module_version": "1.2.0",
            "_model_name": "LayoutModel",
            "_view_count": null,
            "_view_module": "@jupyter-widgets/base",
            "_view_module_version": "1.2.0",
            "_view_name": "LayoutView",
            "align_content": null,
            "align_items": null,
            "align_self": null,
            "border": null,
            "bottom": null,
            "display": null,
            "flex": null,
            "flex_flow": null,
            "grid_area": null,
            "grid_auto_columns": null,
            "grid_auto_flow": null,
            "grid_auto_rows": null,
            "grid_column": null,
            "grid_gap": null,
            "grid_row": null,
            "grid_template_areas": null,
            "grid_template_columns": null,
            "grid_template_rows": null,
            "height": null,
            "justify_content": null,
            "justify_items": null,
            "left": null,
            "margin": null,
            "max_height": null,
            "max_width": null,
            "min_height": null,
            "min_width": null,
            "object_fit": null,
            "object_position": null,
            "order": null,
            "overflow": null,
            "overflow_x": null,
            "overflow_y": null,
            "padding": null,
            "right": null,
            "top": null,
            "visibility": null,
            "width": null
          }
        },
        "edd5057fb6ef4f4fae766e5a57f3c5f4": {
          "model_module": "@jupyter-widgets/controls",
          "model_module_version": "1.5.0",
          "model_name": "FloatProgressModel",
          "state": {
            "_dom_classes": [],
            "_model_module": "@jupyter-widgets/controls",
            "_model_module_version": "1.5.0",
            "_model_name": "FloatProgressModel",
            "_view_count": null,
            "_view_module": "@jupyter-widgets/controls",
            "_view_module_version": "1.5.0",
            "_view_name": "ProgressView",
            "bar_style": "success",
            "description": "",
            "description_tooltip": null,
            "layout": "IPY_MODEL_ed89974b7f5541a38d7e8691c6a4d9de",
            "max": 600,
            "min": 0,
            "orientation": "horizontal",
            "style": "IPY_MODEL_2c3c1186e71a4869a5fead96a2a6a82e",
            "value": 600
          }
        },
        "eff92e922e1f4fecadd639a216057596": {
          "model_module": "@jupyter-widgets/controls",
          "model_module_version": "1.5.0",
          "model_name": "ProgressStyleModel",
          "state": {
            "_model_module": "@jupyter-widgets/controls",
            "_model_module_version": "1.5.0",
            "_model_name": "ProgressStyleModel",
            "_view_count": null,
            "_view_module": "@jupyter-widgets/base",
            "_view_module_version": "1.2.0",
            "_view_name": "StyleView",
            "bar_color": null,
            "description_width": ""
          }
        },
        "f048f364f61c47a1bd416eef1af26643": {
          "model_module": "@jupyter-widgets/controls",
          "model_module_version": "1.5.0",
          "model_name": "DescriptionStyleModel",
          "state": {
            "_model_module": "@jupyter-widgets/controls",
            "_model_module_version": "1.5.0",
            "_model_name": "DescriptionStyleModel",
            "_view_count": null,
            "_view_module": "@jupyter-widgets/base",
            "_view_module_version": "1.2.0",
            "_view_name": "StyleView",
            "description_width": ""
          }
        },
        "f1cd85076f294f1e9e0c1ca04fd9f7e8": {
          "model_module": "@jupyter-widgets/base",
          "model_module_version": "1.2.0",
          "model_name": "LayoutModel",
          "state": {
            "_model_module": "@jupyter-widgets/base",
            "_model_module_version": "1.2.0",
            "_model_name": "LayoutModel",
            "_view_count": null,
            "_view_module": "@jupyter-widgets/base",
            "_view_module_version": "1.2.0",
            "_view_name": "LayoutView",
            "align_content": null,
            "align_items": null,
            "align_self": null,
            "border": null,
            "bottom": null,
            "display": null,
            "flex": null,
            "flex_flow": null,
            "grid_area": null,
            "grid_auto_columns": null,
            "grid_auto_flow": null,
            "grid_auto_rows": null,
            "grid_column": null,
            "grid_gap": null,
            "grid_row": null,
            "grid_template_areas": null,
            "grid_template_columns": null,
            "grid_template_rows": null,
            "height": null,
            "justify_content": null,
            "justify_items": null,
            "left": null,
            "margin": null,
            "max_height": null,
            "max_width": null,
            "min_height": null,
            "min_width": null,
            "object_fit": null,
            "object_position": null,
            "order": null,
            "overflow": null,
            "overflow_x": null,
            "overflow_y": null,
            "padding": null,
            "right": null,
            "top": null,
            "visibility": null,
            "width": null
          }
        },
        "f23e232a54364ab6afe3e044c40284e5": {
          "model_module": "@jupyter-widgets/base",
          "model_module_version": "1.2.0",
          "model_name": "LayoutModel",
          "state": {
            "_model_module": "@jupyter-widgets/base",
            "_model_module_version": "1.2.0",
            "_model_name": "LayoutModel",
            "_view_count": null,
            "_view_module": "@jupyter-widgets/base",
            "_view_module_version": "1.2.0",
            "_view_name": "LayoutView",
            "align_content": null,
            "align_items": null,
            "align_self": null,
            "border": null,
            "bottom": null,
            "display": null,
            "flex": null,
            "flex_flow": null,
            "grid_area": null,
            "grid_auto_columns": null,
            "grid_auto_flow": null,
            "grid_auto_rows": null,
            "grid_column": null,
            "grid_gap": null,
            "grid_row": null,
            "grid_template_areas": null,
            "grid_template_columns": null,
            "grid_template_rows": null,
            "height": null,
            "justify_content": null,
            "justify_items": null,
            "left": null,
            "margin": null,
            "max_height": null,
            "max_width": null,
            "min_height": null,
            "min_width": null,
            "object_fit": null,
            "object_position": null,
            "order": null,
            "overflow": null,
            "overflow_x": null,
            "overflow_y": null,
            "padding": null,
            "right": null,
            "top": null,
            "visibility": null,
            "width": null
          }
        },
        "f27a2c93e47f46b19bebcf37fe729581": {
          "model_module": "@jupyter-widgets/controls",
          "model_module_version": "1.5.0",
          "model_name": "DescriptionStyleModel",
          "state": {
            "_model_module": "@jupyter-widgets/controls",
            "_model_module_version": "1.5.0",
            "_model_name": "DescriptionStyleModel",
            "_view_count": null,
            "_view_module": "@jupyter-widgets/base",
            "_view_module_version": "1.2.0",
            "_view_name": "StyleView",
            "description_width": ""
          }
        },
        "f2ff2a9805984dc096d74238e3692b2a": {
          "model_module": "@jupyter-widgets/controls",
          "model_module_version": "1.5.0",
          "model_name": "HTMLModel",
          "state": {
            "_dom_classes": [],
            "_model_module": "@jupyter-widgets/controls",
            "_model_module_version": "1.5.0",
            "_model_name": "HTMLModel",
            "_view_count": null,
            "_view_module": "@jupyter-widgets/controls",
            "_view_module_version": "1.5.0",
            "_view_name": "HTMLView",
            "description": "",
            "description_tooltip": null,
            "layout": "IPY_MODEL_a91c5b4e94b74d77ba321ffbd903868c",
            "placeholder": "​",
            "style": "IPY_MODEL_df87d982c9f14859bcbdcf95fa932e52",
            "value": " 400/400 [01:13&lt;00:00,  5.55it/s]"
          }
        },
        "f3cadfe461244a84b69f6c4a1609b0cd": {
          "model_module": "@jupyter-widgets/controls",
          "model_module_version": "1.5.0",
          "model_name": "FloatProgressModel",
          "state": {
            "_dom_classes": [],
            "_model_module": "@jupyter-widgets/controls",
            "_model_module_version": "1.5.0",
            "_model_name": "FloatProgressModel",
            "_view_count": null,
            "_view_module": "@jupyter-widgets/controls",
            "_view_module_version": "1.5.0",
            "_view_name": "ProgressView",
            "bar_style": "success",
            "description": "",
            "description_tooltip": null,
            "layout": "IPY_MODEL_ce8e8f5d02f94b58b169c80f3e987bb4",
            "max": 50,
            "min": 0,
            "orientation": "horizontal",
            "style": "IPY_MODEL_52efecb3eb5145809cbcb06511a527a1",
            "value": 50
          }
        },
        "f76011a8c7e546c995e049b2eed43c6a": {
          "model_module": "@jupyter-widgets/base",
          "model_module_version": "1.2.0",
          "model_name": "LayoutModel",
          "state": {
            "_model_module": "@jupyter-widgets/base",
            "_model_module_version": "1.2.0",
            "_model_name": "LayoutModel",
            "_view_count": null,
            "_view_module": "@jupyter-widgets/base",
            "_view_module_version": "1.2.0",
            "_view_name": "LayoutView",
            "align_content": null,
            "align_items": null,
            "align_self": null,
            "border": null,
            "bottom": null,
            "display": null,
            "flex": null,
            "flex_flow": null,
            "grid_area": null,
            "grid_auto_columns": null,
            "grid_auto_flow": null,
            "grid_auto_rows": null,
            "grid_column": null,
            "grid_gap": null,
            "grid_row": null,
            "grid_template_areas": null,
            "grid_template_columns": null,
            "grid_template_rows": null,
            "height": null,
            "justify_content": null,
            "justify_items": null,
            "left": null,
            "margin": null,
            "max_height": null,
            "max_width": null,
            "min_height": null,
            "min_width": null,
            "object_fit": null,
            "object_position": null,
            "order": null,
            "overflow": null,
            "overflow_x": null,
            "overflow_y": null,
            "padding": null,
            "right": null,
            "top": null,
            "visibility": null,
            "width": null
          }
        },
        "f8ec1a069fcf4ff6b7f3e2e21b3f049a": {
          "model_module": "@jupyter-widgets/controls",
          "model_module_version": "1.5.0",
          "model_name": "HTMLModel",
          "state": {
            "_dom_classes": [],
            "_model_module": "@jupyter-widgets/controls",
            "_model_module_version": "1.5.0",
            "_model_name": "HTMLModel",
            "_view_count": null,
            "_view_module": "@jupyter-widgets/controls",
            "_view_module_version": "1.5.0",
            "_view_name": "HTMLView",
            "description": "",
            "description_tooltip": null,
            "layout": "IPY_MODEL_362db7b355414c53af9de2d6669db7a1",
            "placeholder": "​",
            "style": "IPY_MODEL_ab4a51102ef2405bbef4748595b0e886",
            "value": " 331/1300 [00:57&lt;02:49,  5.71it/s]"
          }
        },
        "f92f7123e87e48ee839f09a2fc4532fd": {
          "model_module": "@jupyter-widgets/controls",
          "model_module_version": "1.5.0",
          "model_name": "FloatProgressModel",
          "state": {
            "_dom_classes": [],
            "_model_module": "@jupyter-widgets/controls",
            "_model_module_version": "1.5.0",
            "_model_name": "FloatProgressModel",
            "_view_count": null,
            "_view_module": "@jupyter-widgets/controls",
            "_view_module_version": "1.5.0",
            "_view_name": "ProgressView",
            "bar_style": "success",
            "description": "",
            "description_tooltip": null,
            "layout": "IPY_MODEL_fcc21464b3b04e25a49157babd9beca1",
            "max": 300,
            "min": 0,
            "orientation": "horizontal",
            "style": "IPY_MODEL_8f68cdc07fcb41ca9e989b72f307590c",
            "value": 300
          }
        },
        "faba0f41cd6c4163b43e8778d19b6e66": {
          "model_module": "@jupyter-widgets/controls",
          "model_module_version": "1.5.0",
          "model_name": "HBoxModel",
          "state": {
            "_dom_classes": [],
            "_model_module": "@jupyter-widgets/controls",
            "_model_module_version": "1.5.0",
            "_model_name": "HBoxModel",
            "_view_count": null,
            "_view_module": "@jupyter-widgets/controls",
            "_view_module_version": "1.5.0",
            "_view_name": "HBoxView",
            "box_style": "",
            "children": [
              "IPY_MODEL_30c655253943439189820e1f06ae05f1",
              "IPY_MODEL_884c2af573ec4c4fa21c32e39fdf7262",
              "IPY_MODEL_802f91233cf547638609759d49b90a2a"
            ],
            "layout": "IPY_MODEL_e9b0ed42af8243efaf43f504eb8dcbf4"
          }
        },
        "fb6f7441b2ee492fb60178cb64bb87e4": {
          "model_module": "@jupyter-widgets/controls",
          "model_module_version": "1.5.0",
          "model_name": "HBoxModel",
          "state": {
            "_dom_classes": [],
            "_model_module": "@jupyter-widgets/controls",
            "_model_module_version": "1.5.0",
            "_model_name": "HBoxModel",
            "_view_count": null,
            "_view_module": "@jupyter-widgets/controls",
            "_view_module_version": "1.5.0",
            "_view_name": "HBoxView",
            "box_style": "",
            "children": [
              "IPY_MODEL_df1f2b49d0084563824b57826658c7a2",
              "IPY_MODEL_fc463f2fbe4a4ab1aae53331cc44d8d5",
              "IPY_MODEL_39db20bc2b8443239a3424bcfb84f002"
            ],
            "layout": "IPY_MODEL_a9fd3c03e9b6402bb991a335bf71f4b0"
          }
        },
        "fc463f2fbe4a4ab1aae53331cc44d8d5": {
          "model_module": "@jupyter-widgets/controls",
          "model_module_version": "1.5.0",
          "model_name": "FloatProgressModel",
          "state": {
            "_dom_classes": [],
            "_model_module": "@jupyter-widgets/controls",
            "_model_module_version": "1.5.0",
            "_model_name": "FloatProgressModel",
            "_view_count": null,
            "_view_module": "@jupyter-widgets/controls",
            "_view_module_version": "1.5.0",
            "_view_name": "ProgressView",
            "bar_style": "success",
            "description": "",
            "description_tooltip": null,
            "layout": "IPY_MODEL_339f9e1b52334f688d4e4a7907243636",
            "max": 1100,
            "min": 0,
            "orientation": "horizontal",
            "style": "IPY_MODEL_cf62fe4ca46c4a81acdfd2b94699da2d",
            "value": 1100
          }
        },
        "fcc21464b3b04e25a49157babd9beca1": {
          "model_module": "@jupyter-widgets/base",
          "model_module_version": "1.2.0",
          "model_name": "LayoutModel",
          "state": {
            "_model_module": "@jupyter-widgets/base",
            "_model_module_version": "1.2.0",
            "_model_name": "LayoutModel",
            "_view_count": null,
            "_view_module": "@jupyter-widgets/base",
            "_view_module_version": "1.2.0",
            "_view_name": "LayoutView",
            "align_content": null,
            "align_items": null,
            "align_self": null,
            "border": null,
            "bottom": null,
            "display": null,
            "flex": null,
            "flex_flow": null,
            "grid_area": null,
            "grid_auto_columns": null,
            "grid_auto_flow": null,
            "grid_auto_rows": null,
            "grid_column": null,
            "grid_gap": null,
            "grid_row": null,
            "grid_template_areas": null,
            "grid_template_columns": null,
            "grid_template_rows": null,
            "height": null,
            "justify_content": null,
            "justify_items": null,
            "left": null,
            "margin": null,
            "max_height": null,
            "max_width": null,
            "min_height": null,
            "min_width": null,
            "object_fit": null,
            "object_position": null,
            "order": null,
            "overflow": null,
            "overflow_x": null,
            "overflow_y": null,
            "padding": null,
            "right": null,
            "top": null,
            "visibility": null,
            "width": null
          }
        }
      }
    }
  },
  "nbformat": 4,
  "nbformat_minor": 0
}